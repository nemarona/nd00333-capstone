{
  "cells": [
    {
      "cell_type": "markdown",
      "source": [
        "# Automated ML\n",
        "\n",
        "In the cell below, we import all the dependencies that we need to complete the project."
      ],
      "metadata": {}
    },
    {
      "cell_type": "code",
      "source": [
        "from azureml.core import Workspace, Dataset\r\n",
        "from azureml.core.experiment import Experiment\r\n",
        "from azureml.train.automl import AutoMLConfig\r\n",
        "from azureml.widgets import RunDetails"
      ],
      "outputs": [],
      "execution_count": 17,
      "metadata": {
        "gather": {
          "logged": 1689857176091
        },
        "jupyter": {
          "outputs_hidden": false,
          "source_hidden": false
        },
        "nteract": {
          "transient": {
            "deleting": false
          }
        }
      }
    },
    {
      "cell_type": "markdown",
      "source": [
        "## Dataset\n",
        "\n",
        "### Overview\n",
        "\n",
        "For this final project we'll be using the [Heart Failure Prediction](https://www.kaggle.com/datasets/andrewmvd/heart-failure-clinical-data) dataset from Kaggle.\n",
        "\n",
        "This dataset contains medical records for 299 patients with hear failure,\n",
        "along with a column indicating survival as a binary variable.\n",
        "Our goal is to predict survival from the rest of the data.\n",
        "This means that we are faced with a classification problem with two classes."
      ],
      "metadata": {}
    },
    {
      "cell_type": "code",
      "source": [
        "ws = Workspace.from_config()\n",
        "\n",
        "# choose a name for experiment\n",
        "experiment_name = 'edu_heart_failure_exp'\n",
        "\n",
        "experiment = Experiment(ws, experiment_name)\n",
        "\n",
        "subscription_id = '976ee174-3882-4721-b90a-b5fef6b72f24'\n",
        "resource_group = 'aml-quickstarts-238978'\n",
        "workspace_name = 'quick-starts-ws-238978'\n",
        "\n",
        "workspace = Workspace(subscription_id, resource_group, workspace_name)\n",
        "\n",
        "dataset_name = 'edu_heart_failure_dataset'\n",
        "\n",
        "dataset = Dataset.get_by_name(workspace, name=dataset_name)"
      ],
      "outputs": [],
      "execution_count": 10,
      "metadata": {
        "gather": {
          "logged": 1689855483003
        },
        "jupyter": {
          "outputs_hidden": false,
          "source_hidden": false
        },
        "nteract": {
          "transient": {
            "deleting": false
          }
        }
      }
    },
    {
      "cell_type": "code",
      "source": [
        "df = dataset.to_pandas_dataframe()\r\n",
        "df.head()"
      ],
      "outputs": [
        {
          "output_type": "execute_result",
          "execution_count": 11,
          "data": {
            "text/plain": "    age  anaemia  creatinine_phosphokinase  diabetes  ejection_fraction  \\\n0  75.0        0                       582         0                 20   \n1  55.0        0                      7861         0                 38   \n2  65.0        0                       146         0                 20   \n3  50.0        1                       111         0                 20   \n4  65.0        1                       160         1                 20   \n\n   high_blood_pressure  platelets  serum_creatinine  serum_sodium  sex  \\\n0                    1  265000.00               1.9           130    1   \n1                    0  263358.03               1.1           136    1   \n2                    0  162000.00               1.3           129    1   \n3                    0  210000.00               1.9           137    1   \n4                    0  327000.00               2.7           116    0   \n\n   smoking  time  DEATH_EVENT  \n0        0     4            1  \n1        0     6            1  \n2        1     7            1  \n3        0     7            1  \n4        0     8            1  ",
            "text/html": "<div>\n<style scoped>\n    .dataframe tbody tr th:only-of-type {\n        vertical-align: middle;\n    }\n\n    .dataframe tbody tr th {\n        vertical-align: top;\n    }\n\n    .dataframe thead th {\n        text-align: right;\n    }\n</style>\n<table border=\"1\" class=\"dataframe\">\n  <thead>\n    <tr style=\"text-align: right;\">\n      <th></th>\n      <th>age</th>\n      <th>anaemia</th>\n      <th>creatinine_phosphokinase</th>\n      <th>diabetes</th>\n      <th>ejection_fraction</th>\n      <th>high_blood_pressure</th>\n      <th>platelets</th>\n      <th>serum_creatinine</th>\n      <th>serum_sodium</th>\n      <th>sex</th>\n      <th>smoking</th>\n      <th>time</th>\n      <th>DEATH_EVENT</th>\n    </tr>\n  </thead>\n  <tbody>\n    <tr>\n      <th>0</th>\n      <td>75.0</td>\n      <td>0</td>\n      <td>582</td>\n      <td>0</td>\n      <td>20</td>\n      <td>1</td>\n      <td>265000.00</td>\n      <td>1.9</td>\n      <td>130</td>\n      <td>1</td>\n      <td>0</td>\n      <td>4</td>\n      <td>1</td>\n    </tr>\n    <tr>\n      <th>1</th>\n      <td>55.0</td>\n      <td>0</td>\n      <td>7861</td>\n      <td>0</td>\n      <td>38</td>\n      <td>0</td>\n      <td>263358.03</td>\n      <td>1.1</td>\n      <td>136</td>\n      <td>1</td>\n      <td>0</td>\n      <td>6</td>\n      <td>1</td>\n    </tr>\n    <tr>\n      <th>2</th>\n      <td>65.0</td>\n      <td>0</td>\n      <td>146</td>\n      <td>0</td>\n      <td>20</td>\n      <td>0</td>\n      <td>162000.00</td>\n      <td>1.3</td>\n      <td>129</td>\n      <td>1</td>\n      <td>1</td>\n      <td>7</td>\n      <td>1</td>\n    </tr>\n    <tr>\n      <th>3</th>\n      <td>50.0</td>\n      <td>1</td>\n      <td>111</td>\n      <td>0</td>\n      <td>20</td>\n      <td>0</td>\n      <td>210000.00</td>\n      <td>1.9</td>\n      <td>137</td>\n      <td>1</td>\n      <td>0</td>\n      <td>7</td>\n      <td>1</td>\n    </tr>\n    <tr>\n      <th>4</th>\n      <td>65.0</td>\n      <td>1</td>\n      <td>160</td>\n      <td>1</td>\n      <td>20</td>\n      <td>0</td>\n      <td>327000.00</td>\n      <td>2.7</td>\n      <td>116</td>\n      <td>0</td>\n      <td>0</td>\n      <td>8</td>\n      <td>1</td>\n    </tr>\n  </tbody>\n</table>\n</div>"
          },
          "metadata": {}
        }
      ],
      "execution_count": 11,
      "metadata": {
        "jupyter": {
          "source_hidden": false,
          "outputs_hidden": false
        },
        "nteract": {
          "transient": {
            "deleting": false
          }
        },
        "gather": {
          "logged": 1689855484658
        }
      }
    },
    {
      "cell_type": "markdown",
      "source": [
        "## AutoML Configuration\n",
        "\n",
        "In the cells below we use the AutoMLConfig class to configure several aspects of AutoML:\n",
        "- task is set to classification, which matches our use case\n",
        "- training_data is set to the dataset we instantiated above\n",
        "- label_column_name is the name of the target column, DEATH_EVENT\n",
        "- n_cross_validations=5 splits the dataset into five folds, using each of them in sequence as a test set while training on the remaining four, to better assess model performance\n",
        "- as primary metric to evaluate experiments we choose AUC weighted\n",
        "- early stopping is enabled, so that the experiment can end early if results are discouraging\n",
        "- we set a timeout of one hour to avoid running out of time with the Udacity VM\n",
        "- as compute_target we choose a compute cluster we created beforehand"
      ],
      "metadata": {}
    },
    {
      "cell_type": "code",
      "source": [
        "ws.compute_targets.keys()"
      ],
      "outputs": [
        {
          "output_type": "execute_result",
          "execution_count": 14,
          "data": {
            "text/plain": "dict_keys(['notebook238978', 'edu-compute-cluster'])"
          },
          "metadata": {}
        }
      ],
      "execution_count": 14,
      "metadata": {
        "jupyter": {
          "source_hidden": false,
          "outputs_hidden": false
        },
        "nteract": {
          "transient": {
            "deleting": false
          }
        },
        "gather": {
          "logged": 1689855534569
        }
      }
    },
    {
      "cell_type": "code",
      "source": [
        "compute_cluster_name = \"edu-compute-cluster\"\n",
        "\n",
        "automl_settings = {\n",
        "    \"task\": \"classification\",\n",
        "    \"primary_metric\": \"AUC_weighted\",\n",
        "    \"training_data\": dataset,\n",
        "    \"label_column_name\": \"DEATH_EVENT\",\n",
        "    \"n_cross_validations\": 5,\n",
        "    \"compute_target\": ws.compute_targets[compute_cluster_name],\n",
        "    \"enable_early_stopping\": True,\n",
        "    \"experiment_timeout_hours\": 1\n",
        "}\n",
        "\n",
        "automl_config = AutoMLConfig(**automl_settings)"
      ],
      "outputs": [],
      "execution_count": 15,
      "metadata": {
        "gather": {
          "logged": 1689855671552
        },
        "jupyter": {
          "outputs_hidden": false,
          "source_hidden": false
        },
        "nteract": {
          "transient": {
            "deleting": false
          }
        }
      }
    },
    {
      "cell_type": "code",
      "source": [
        "remote_run = experiment.submit(automl_config)"
      ],
      "outputs": [
        {
          "output_type": "stream",
          "name": "stdout",
          "text": "Submitting remote run.\n"
        },
        {
          "output_type": "display_data",
          "data": {
            "text/html": "<table style=\"width:100%\"><tr><th>Experiment</th><th>Id</th><th>Type</th><th>Status</th><th>Details Page</th><th>Docs Page</th></tr><tr><td>edu_heart_failure_exp</td><td>AutoML_da6d54f5-5de1-4460-bed3-1daabd5092fe</td><td>automl</td><td>NotStarted</td><td><a href=\"https://ml.azure.com/runs/AutoML_da6d54f5-5de1-4460-bed3-1daabd5092fe?wsid=/subscriptions/976ee174-3882-4721-b90a-b5fef6b72f24/resourcegroups/aml-quickstarts-238978/workspaces/quick-starts-ws-238978&amp;tid=660b3398-b80e-49d2-bc5b-ac1dc93b5254\" target=\"_blank\" rel=\"noopener\">Link to Azure Machine Learning studio</a></td><td><a href=\"https://docs.microsoft.com/en-us/python/api/overview/azure/ml/intro?view=azure-ml-py\" target=\"_blank\" rel=\"noopener\">Link to Documentation</a></td></tr></table>"
          },
          "metadata": {}
        }
      ],
      "execution_count": 16,
      "metadata": {
        "gather": {
          "logged": 1689855719961
        },
        "jupyter": {
          "outputs_hidden": false,
          "source_hidden": false
        },
        "nteract": {
          "transient": {
            "deleting": false
          }
        }
      }
    },
    {
      "cell_type": "markdown",
      "source": [
        "## Run Details"
      ],
      "metadata": {}
    },
    {
      "cell_type": "code",
      "source": [
        "RunDetails(remote_run).show()"
      ],
      "outputs": [
        {
          "output_type": "display_data",
          "data": {
            "text/plain": "_AutoMLWidget(widget_settings={'childWidgetDisplay': 'popup', 'send_telemetry': False, 'log_level': 'INFO', 's…",
            "application/vnd.jupyter.widget-view+json": {
              "version_major": 2,
              "version_minor": 0,
              "model_id": "0a69b04c2881453eab67e5d043f06fd9"
            }
          },
          "metadata": {}
        },
        {
          "output_type": "display_data",
          "data": {
            "application/aml.mini.widget.v1": "{\"status\": \"Completed\", \"workbench_run_details_uri\": \"https://ml.azure.com/runs/AutoML_da6d54f5-5de1-4460-bed3-1daabd5092fe?wsid=/subscriptions/976ee174-3882-4721-b90a-b5fef6b72f24/resourcegroups/aml-quickstarts-238978/workspaces/quick-starts-ws-238978&tid=660b3398-b80e-49d2-bc5b-ac1dc93b5254\", \"run_id\": \"AutoML_da6d54f5-5de1-4460-bed3-1daabd5092fe\", \"run_properties\": {\"run_id\": \"AutoML_da6d54f5-5de1-4460-bed3-1daabd5092fe\", \"created_utc\": \"2023-07-20T12:21:58.797686Z\", \"properties\": {\"num_iterations\": \"1000\", \"training_type\": \"TrainFull\", \"acquisition_function\": \"EI\", \"primary_metric\": \"AUC_weighted\", \"train_split\": \"0\", \"acquisition_parameter\": \"0\", \"num_cross_validation\": \"5\", \"target\": \"edu-compute-cluster\", \"AMLSettingsJsonString\": \"{\\\"path\\\":null,\\\"name\\\":\\\"edu_heart_failure_exp\\\",\\\"subscription_id\\\":\\\"976ee174-3882-4721-b90a-b5fef6b72f24\\\",\\\"resource_group\\\":\\\"aml-quickstarts-238978\\\",\\\"workspace_name\\\":\\\"quick-starts-ws-238978\\\",\\\"region\\\":\\\"westus2\\\",\\\"compute_target\\\":\\\"edu-compute-cluster\\\",\\\"spark_service\\\":null,\\\"azure_service\\\":\\\"remote\\\",\\\"many_models\\\":false,\\\"pipeline_fetch_max_batch_size\\\":1,\\\"enable_batch_run\\\":true,\\\"enable_parallel_run\\\":false,\\\"num_procs\\\":null,\\\"enable_run_restructure\\\":false,\\\"start_auxiliary_runs_before_parent_complete\\\":false,\\\"enable_code_generation\\\":true,\\\"iterations\\\":1000,\\\"primary_metric\\\":\\\"AUC_weighted\\\",\\\"task_type\\\":\\\"classification\\\",\\\"positive_label\\\":null,\\\"data_script\\\":null,\\\"test_size\\\":0.0,\\\"test_include_predictions_only\\\":false,\\\"validation_size\\\":0.0,\\\"n_cross_validations\\\":5,\\\"y_min\\\":null,\\\"y_max\\\":null,\\\"num_classes\\\":null,\\\"featurization\\\":\\\"auto\\\",\\\"_ignore_package_version_incompatibilities\\\":false,\\\"is_timeseries\\\":false,\\\"max_cores_per_iteration\\\":1,\\\"max_concurrent_iterations\\\":1,\\\"iteration_timeout_minutes\\\":null,\\\"mem_in_mb\\\":null,\\\"enforce_time_on_windows\\\":false,\\\"experiment_timeout_minutes\\\":60,\\\"experiment_exit_score\\\":null,\\\"partition_column_names\\\":null,\\\"whitelist_models\\\":null,\\\"blacklist_algos\\\":[\\\"TensorFlowLinearClassifier\\\",\\\"TensorFlowDNN\\\"],\\\"supported_models\\\":[\\\"BernoulliNaiveBayes\\\",\\\"LinearSVM\\\",\\\"SVM\\\",\\\"TensorFlowLinearClassifier\\\",\\\"TabnetClassifier\\\",\\\"MultinomialNaiveBayes\\\",\\\"GradientBoosting\\\",\\\"KNN\\\",\\\"SGD\\\",\\\"RandomForest\\\",\\\"XGBoostClassifier\\\",\\\"ExtremeRandomTrees\\\",\\\"TensorFlowDNN\\\",\\\"LightGBM\\\",\\\"AveragedPerceptronClassifier\\\",\\\"DecisionTree\\\",\\\"LogisticRegression\\\"],\\\"private_models\\\":[],\\\"auto_blacklist\\\":true,\\\"blacklist_samples_reached\\\":false,\\\"exclude_nan_labels\\\":true,\\\"verbosity\\\":20,\\\"_debug_log\\\":\\\"azureml_automl.log\\\",\\\"show_warnings\\\":false,\\\"model_explainability\\\":true,\\\"service_url\\\":null,\\\"sdk_url\\\":null,\\\"sdk_packages\\\":null,\\\"enable_onnx_compatible_models\\\":false,\\\"enable_split_onnx_featurizer_estimator_models\\\":false,\\\"vm_type\\\":\\\"STANDARD_DS3_V2\\\",\\\"telemetry_verbosity\\\":20,\\\"send_telemetry\\\":true,\\\"enable_dnn\\\":false,\\\"scenario\\\":\\\"AutoML\\\",\\\"environment_label\\\":null,\\\"save_mlflow\\\":false,\\\"enable_categorical_indicators\\\":false,\\\"force_text_dnn\\\":false,\\\"enable_feature_sweeping\\\":true,\\\"enable_early_stopping\\\":true,\\\"early_stopping_n_iters\\\":10,\\\"arguments\\\":null,\\\"dataset_id\\\":\\\"e67cf990-1a0d-42c9-98ff-58cc53cf2d7b\\\",\\\"hyperdrive_config\\\":null,\\\"validation_dataset_id\\\":null,\\\"run_source\\\":null,\\\"metrics\\\":null,\\\"enable_metric_confidence\\\":false,\\\"enable_ensembling\\\":true,\\\"enable_stack_ensembling\\\":true,\\\"ensemble_iterations\\\":15,\\\"enable_tf\\\":false,\\\"enable_subsampling\\\":null,\\\"subsample_seed\\\":null,\\\"enable_nimbusml\\\":false,\\\"enable_streaming\\\":false,\\\"force_streaming\\\":false,\\\"track_child_runs\\\":true,\\\"n_best_runs\\\":1,\\\"allowed_private_models\\\":[],\\\"label_column_name\\\":\\\"DEATH_EVENT\\\",\\\"weight_column_name\\\":null,\\\"cv_split_column_names\\\":null,\\\"enable_local_managed\\\":false,\\\"_local_managed_run_id\\\":null,\\\"cost_mode\\\":1,\\\"lag_length\\\":0,\\\"metric_operation\\\":\\\"maximize\\\",\\\"preprocess\\\":true}\", \"DataPrepJsonString\": \"{\\\\\\\"training_data\\\\\\\": {\\\\\\\"datasetId\\\\\\\": \\\\\\\"e67cf990-1a0d-42c9-98ff-58cc53cf2d7b\\\\\\\"}, \\\\\\\"datasets\\\\\\\": 0}\", \"EnableSubsampling\": null, \"runTemplate\": \"AutoML\", \"azureml.runsource\": \"automl\", \"display_task_type\": \"classification\", \"dependencies_versions\": \"{\\\"azureml-dataprep-native\\\": \\\"38.0.0\\\", \\\"azureml-dataprep\\\": \\\"4.11.5\\\", \\\"azureml-dataprep-rslex\\\": \\\"2.18.4\\\", \\\"azureml-dataset-runtime\\\": \\\"1.52.0\\\", \\\"azureml-train-automl-runtime\\\": \\\"1.51.0.post2\\\", \\\"azureml-train-automl-client\\\": \\\"1.51.0.post1\\\", \\\"azureml-training-tabular\\\": \\\"1.51.0.post1\\\", \\\"azureml-automl-runtime\\\": \\\"1.51.0.post1\\\", \\\"azureml-automl-core\\\": \\\"1.51.0.post1\\\", \\\"azureml-mlflow\\\": \\\"1.51.0\\\", \\\"azureml-datadrift\\\": \\\"1.51.0\\\", \\\"azureml-pipeline\\\": \\\"1.51.0\\\", \\\"azureml-contrib-dataset\\\": \\\"1.51.0\\\", \\\"azureml-contrib-notebook\\\": \\\"1.51.0\\\", \\\"azureml-accel-models\\\": \\\"1.51.0\\\", \\\"azureml-automl-dnn-nlp\\\": \\\"1.51.0\\\", \\\"azureml-pipeline-core\\\": \\\"1.51.0\\\", \\\"azureml-responsibleai\\\": \\\"1.51.0\\\", \\\"azureml-contrib-automl-pipeline-steps\\\": \\\"1.51.0\\\", \\\"azureml-pipeline-steps\\\": \\\"1.51.0\\\", \\\"azureml-core\\\": \\\"1.51.0\\\", \\\"azureml-contrib-reinforcementlearning\\\": \\\"1.51.0\\\", \\\"azureml-contrib-server\\\": \\\"1.51.0\\\", \\\"azureml-opendatasets\\\": \\\"1.51.0\\\", \\\"azureml-contrib-services\\\": \\\"1.51.0\\\", \\\"azureml-telemetry\\\": \\\"1.51.0\\\", \\\"azureml-train-restclients-hyperdrive\\\": \\\"1.51.0\\\", \\\"azureml-interpret\\\": \\\"1.51.0\\\", \\\"azureml-train-core\\\": \\\"1.51.0\\\", \\\"azureml-tensorboard\\\": \\\"1.51.0\\\", \\\"azureml-train\\\": \\\"1.51.0\\\", \\\"azureml-contrib-pipeline-steps\\\": \\\"1.51.0\\\", \\\"azureml-explain-model\\\": \\\"1.51.0\\\", \\\"azureml-cli-common\\\": \\\"1.51.0\\\", \\\"azureml-widgets\\\": \\\"1.51.0\\\", \\\"azureml-train-automl\\\": \\\"1.51.0\\\", \\\"azureml-defaults\\\": \\\"1.51.0\\\", \\\"azureml-contrib-fairness\\\": \\\"1.51.0\\\", \\\"azureml-sdk\\\": \\\"1.51.0\\\", \\\"azureml-inference-server-http\\\": \\\"0.8.4\\\"}\", \"_aml_system_scenario_identification\": \"Remote.Parent\", \"ClientType\": \"SDK\", \"PlatformVersion\": \"DPV1\", \"environment_cpu_name\": \"AzureML-AutoML\", \"environment_cpu_label\": \"prod\", \"environment_gpu_name\": \"AzureML-AutoML-GPU\", \"environment_gpu_label\": \"prod\", \"root_attribution\": \"automl\", \"attribution\": \"AutoML\", \"Orchestrator\": \"AutoML\", \"CancelUri\": \"https://westus2.api.azureml.ms/jasmine/v1.0/subscriptions/976ee174-3882-4721-b90a-b5fef6b72f24/resourceGroups/aml-quickstarts-238978/providers/Microsoft.MachineLearningServices/workspaces/quick-starts-ws-238978/experimentids/5e612a0b-65d8-4794-b3bf-9391947219da/cancel/AutoML_da6d54f5-5de1-4460-bed3-1daabd5092fe\", \"ClientSdkVersion\": null, \"snapshotId\": \"00000000-0000-0000-0000-000000000000\", \"SetupRunId\": \"AutoML_da6d54f5-5de1-4460-bed3-1daabd5092fe_setup\", \"SetupRunContainerId\": \"dcid.AutoML_da6d54f5-5de1-4460-bed3-1daabd5092fe_setup\", \"FeaturizationRunJsonPath\": \"featurizer_container.json\", \"FeaturizationRunId\": \"AutoML_da6d54f5-5de1-4460-bed3-1daabd5092fe_featurize\", \"ProblemInfoJsonString\": \"{\\\"dataset_num_categorical\\\": 0, \\\"is_sparse\\\": false, \\\"subsampling\\\": false, \\\"has_extra_col\\\": true, \\\"dataset_classes\\\": 2, \\\"dataset_features\\\": 12, \\\"dataset_samples\\\": 299, \\\"single_frequency_class_detected\\\": false}\", \"ModelExplainRunId\": \"AutoML_da6d54f5-5de1-4460-bed3-1daabd5092fe_ModelExplain\"}, \"tags\": {\"model_explain_run\": \"best_run\", \"_aml_system_automl_run_workspace_id\": \"b86839a6-ed36-4381-b8ce-13c77d61e63e\", \"_aml_system_azureml.automlComponent\": \"AutoML\", \"pipeline_id_000\": \"5dfac790c5c209f98a1da2dc1c7fb76f0397324f;c7af0367625be6ac5c2fecbfc72ed444cb7a2111;51ae05309834b29f71340af1008fc94fbd8213f4;ce2643edf3d450b10c86c7d034a9bc952dc282d3;039a99c3d5147edeb525249e2660628be3e8b83f;a18bd1af1629e8f96b25a32ac94e62b3bd9a9605;a3dadd95854bf6116ab454844302b51d417d78b7;1dfdf370ba770047b14bfa59c40920815defcdab;e92a63ad06df7b68a48ce96c06fad3fbf2a25ce2;5bc24cef89e67ee668d55e59548e1032cfbc7f0f;516a24fb1445632ecf04366c17b960ce157878b3;088b94df63b852cc8cba96bb2fa191ce8d1ef2e5;294650ec23bc3d067a4972de7ceb12f6e97260fa;634afb4b36be9286ca21289f56b5f7cdf1c72fa9;b983b703e4d6dbffd4a815a4d1c2ed94225c5027;681a59302459aec2cc115ddbc14e1d28f4b3b8df;4f207270c6817858b81b8050f1efa1d0053db52e;7ea0a64582be36507254a026ac98e9a5a49e1f34;6f4a466f84f725a47910c1dff062a1bb46df2a21;dea7fdbaedc77258dbfe31dbfed41e768ca38939;c74787cd2f0507b852a1ac70d504d83ac9bdec83;a72eb56f3d4aadb7b7f0149ba6e5f05657a95ca1;3856cbbc7244eed4f1a37e49e295dc62a83a0a0e;bb8620e52805c6da9ccf064b482d2c0ed95b6a4a;86cbd1ab1d64eee96020b178af9138e89ae85f02;f734326823c7142baf1825d452a9c52be9f5b940;aa9bb1be0fdd90d85173de50544a9c238007a00e;3eafabd1447862537a16b2d7401bd50a05c19c92;01f10020373a0cfe0d779859c14d33bd05b6fd6a;ef55fefb7d72c544a2334d2bf3dd0c6c627c3059;ebda26b114979aa4b96e7522614561a1a02cb167;d94789ecf0b6084791fa7d1e8af3d45c373c7a88;__AutoML_Ensemble__;__AutoML_Stack_Ensemble__\", \"score_000\": \"0.8923947259136213;0.8994019933554818;0.8983131459948321;0.8967597129937246;0.9041230620155039;0.4737845376522702;0.8930586355666298;0.8843515596160945;0.8421994509043929;0.8979461055740126;0.8677544296788483;0.7859426448874123;0.8676549003322258;0.7557314737910668;0.8872548680324843;0.877890988372093;0.8951072582133628;0.8827443475452196;0.8867880906238463;0.8779609173126615;0.9075534791435954;0.9099270025839793;0.8965749354005169;0.896970168881506;0.8551789867109635;0.8029371654669619;0.8678999169435218;0.8767930970837948;0.9034728220745663;0.8968769149132522;0.871717746400886;0.8922539105758582;0.9203002722406793;0.9158634643779994\", \"predicted_cost_000\": \"0;0;0.5;0.5;0.5;0.5;0.5;0.5;0.5;0.5;0.5;0.5;0.5;0.5;0.5;0.5;0.5;0.5;0.5;0.5;0.025067909078724762;0.014528153909109628;0.010286214068169507;0.025359382574042234;0.15038790001125743;0.06946791720776187;0.007417638538779515;0.015063348730272026;0.006679565422109093;0.04518959819837812;0.04395665399618583;0.0747641390026072;0;0\", \"fit_time_000\": \"0.027350000000000003;0.0422906;0.021318999999999998;0.023976;0.0115304;0.0035463999999999995;0.0100654;0.160133;0.0076544000000000004;0.06187959999999999;0.0063354;0.0182178;0.0099444;0.0030865999999999997;0.0372242;0.0100772;0.0675106;0.028588000000000002;0.009126200000000001;0.3819764;0.023230800000000003;0.153251;0.0199412;0.012246;0.35235259999999996;0.0148554;0.011486;0.0123814;0.029212000000000005;0.0166966;0.0861564;0.0407628;16;18\", \"training_percent_000\": \"100;100;100;100;100;100;100;100;100;100;100;100;100;100;100;100;100;100;100;100;100;100;100;100;100;100;100;100;100;100;100;100;100;100\", \"iteration_000\": \"0;1;2;3;4;5;6;7;8;9;10;11;12;13;14;15;16;17;18;19;20;21;22;23;24;25;26;27;28;29;30;31;32;33\", \"run_preprocessor_000\": \"MaxAbsScaler;MaxAbsScaler;MaxAbsScaler;MaxAbsScaler;StandardScalerWrapper;StandardScalerWrapper;SparseNormalizer;SparseNormalizer;RobustScaler;MinMaxScaler;StandardScalerWrapper;StandardScalerWrapper;StandardScalerWrapper;SparseNormalizer;RobustScaler;SparseNormalizer;MinMaxScaler;MinMaxScaler;SparseNormalizer;MaxAbsScaler;StandardScalerWrapper;StandardScalerWrapper;MaxAbsScaler;StandardScalerWrapper;RobustScaler;MinMaxScaler;StandardScalerWrapper;StandardScalerWrapper;MaxAbsScaler;RobustScaler;MinMaxScaler;StandardScalerWrapper;;\", \"run_algorithm_000\": \"LightGBM;XGBoostClassifier;ExtremeRandomTrees;RandomForest;LightGBM;KNN;XGBoostClassifier;RandomForest;KNN;RandomForest;LogisticRegression;SVM;XGBoostClassifier;KNN;ExtremeRandomTrees;XGBoostClassifier;ExtremeRandomTrees;ExtremeRandomTrees;LightGBM;ExtremeRandomTrees;XGBoostClassifier;RandomForest;LightGBM;XGBoostClassifier;ExtremeRandomTrees;RandomForest;SVM;SVM;GradientBoosting;LightGBM;RandomForest;XGBoostClassifier;VotingEnsemble;StackEnsemble\", \"dynamic_allowlisting_iterations\": \"<25>;<30>;\", \"_aml_system_azureml.automl_early_exit_message\": \"No scores improved over last 10 iterations, so experiment stopped early. This early stopping behavior can be disabled by setting enable_early_stopping = False in AutoMLConfig for notebook/python SDK runs.\", \"automl_best_child_run_id\": \"AutoML_da6d54f5-5de1-4460-bed3-1daabd5092fe_32\", \"model_explain_best_run_child_id\": \"AutoML_da6d54f5-5de1-4460-bed3-1daabd5092fe_32\"}, \"end_time_utc\": \"2023-07-20T12:41:15.732999Z\", \"status\": \"Completed\", \"log_files\": {}, \"log_groups\": [], \"run_duration\": \"0:19:16\", \"run_number\": \"1689855718\", \"run_queued_details\": {\"status\": \"Completed\", \"details\": null}}, \"child_runs\": [{\"run_id\": \"AutoML_da6d54f5-5de1-4460-bed3-1daabd5092fe_setup\", \"run_number\": 1689855731, \"metric\": null, \"status\": \"Completed\", \"run_type\": \"azureml.scriptrun\", \"training_percent\": null, \"start_time\": \"2023-07-20T12:24:05.543048Z\", \"end_time\": \"2023-07-20T12:25:15.116185Z\", \"created_time\": \"2023-07-20T12:22:11.530312Z\", \"created_time_dt\": \"2023-07-20T12:22:11.530312Z\", \"duration\": \"0:03:03\", \"iteration\": null, \"goal\": null, \"run_name\": \"Completed\", \"run_properties\": null}, {\"run_id\": \"AutoML_da6d54f5-5de1-4460-bed3-1daabd5092fe_featurize\", \"run_number\": 1689855915, \"metric\": null, \"status\": \"Completed\", \"run_type\": \"automl.featurization\", \"training_percent\": null, \"start_time\": \"2023-07-20T12:25:16.092888Z\", \"end_time\": \"2023-07-20T12:25:53.835783Z\", \"created_time\": \"2023-07-20T12:25:15.474902Z\", \"created_time_dt\": \"2023-07-20T12:25:15.474902Z\", \"duration\": \"0:00:38\", \"iteration\": null, \"goal\": null, \"run_name\": \"Completed\", \"run_properties\": null}, {\"run_id\": \"AutoML_da6d54f5-5de1-4460-bed3-1daabd5092fe_0\", \"run_number\": 1689855955, \"metric\": null, \"status\": \"Completed\", \"run_type\": null, \"training_percent\": \"100\", \"start_time\": \"2023-07-20T12:26:22.529173Z\", \"end_time\": \"2023-07-20T12:26:34.213735Z\", \"created_time\": \"2023-07-20T12:25:55.448668Z\", \"created_time_dt\": \"2023-07-20T12:25:55.448668Z\", \"duration\": \"0:00:38\", \"iteration\": \"0\", \"goal\": \"AUC_weighted_max\", \"run_name\": \"MaxAbsScaler, LightGBM\", \"run_properties\": \"copy=True\", \"primary_metric\": 0.89239473, \"best_metric\": 0.89239473}, {\"run_id\": \"AutoML_da6d54f5-5de1-4460-bed3-1daabd5092fe_2\", \"run_number\": 1689855956, \"metric\": null, \"status\": \"Completed\", \"run_type\": null, \"training_percent\": \"100\", \"start_time\": \"2023-07-20T12:26:45.414823Z\", \"end_time\": \"2023-07-20T12:26:54.807757Z\", \"created_time\": \"2023-07-20T12:25:56.211711Z\", \"created_time_dt\": \"2023-07-20T12:25:56.211711Z\", \"duration\": \"0:00:58\", \"iteration\": \"2\", \"goal\": \"AUC_weighted_max\", \"run_name\": \"MaxAbsScaler, ExtremeRandomTrees\", \"run_properties\": \"copy=True\", \"primary_metric\": 0.89831315, \"best_metric\": 0.89831315}, {\"run_id\": \"AutoML_da6d54f5-5de1-4460-bed3-1daabd5092fe_4\", \"run_number\": 1689855957, \"metric\": null, \"status\": \"Completed\", \"run_type\": null, \"training_percent\": \"100\", \"start_time\": \"2023-07-20T12:27:07.396538Z\", \"end_time\": \"2023-07-20T12:27:16.873457Z\", \"created_time\": \"2023-07-20T12:25:57.049626Z\", \"created_time_dt\": \"2023-07-20T12:25:57.049626Z\", \"duration\": \"0:01:19\", \"iteration\": \"4\", \"goal\": \"AUC_weighted_max\", \"run_name\": \"StandardScalerWrapper, LightGBM\", \"run_properties\": \"copy=True, with_mean=False, with_std=True\", \"primary_metric\": 0.90412306, \"best_metric\": 0.90412306}, {\"run_id\": \"AutoML_da6d54f5-5de1-4460-bed3-1daabd5092fe_7\", \"run_number\": 1689855958, \"metric\": null, \"status\": \"Completed\", \"run_type\": null, \"training_percent\": \"100\", \"start_time\": \"2023-07-20T12:27:38.372322Z\", \"end_time\": \"2023-07-20T12:27:49.15041Z\", \"created_time\": \"2023-07-20T12:25:58.35735Z\", \"created_time_dt\": \"2023-07-20T12:25:58.35735Z\", \"duration\": \"0:01:50\", \"iteration\": \"7\", \"goal\": \"AUC_weighted_max\", \"run_name\": \"SparseNormalizer, RandomForest\", \"run_properties\": \"copy=True, norm='l2'\", \"primary_metric\": 0.88435156, \"best_metric\": 0.90412306}, {\"run_id\": \"AutoML_da6d54f5-5de1-4460-bed3-1daabd5092fe_9\", \"run_number\": 1689855959, \"metric\": null, \"status\": \"Completed\", \"run_type\": null, \"training_percent\": \"100\", \"start_time\": \"2023-07-20T12:27:59.988956Z\", \"end_time\": \"2023-07-20T12:28:09.624832Z\", \"created_time\": \"2023-07-20T12:25:59.1525Z\", \"created_time_dt\": \"2023-07-20T12:25:59.1525Z\", \"duration\": \"0:02:10\", \"iteration\": \"9\", \"goal\": \"AUC_weighted_max\", \"run_name\": \"MinMaxScaler, RandomForest\", \"run_properties\": \"copy=True, feature_range=(0, 1\", \"primary_metric\": 0.89794611, \"best_metric\": 0.90412306}, {\"run_id\": \"AutoML_da6d54f5-5de1-4460-bed3-1daabd5092fe_11\", \"run_number\": 1689855960, \"metric\": null, \"status\": \"Completed\", \"run_type\": null, \"training_percent\": \"100\", \"start_time\": \"2023-07-20T12:28:20.840317Z\", \"end_time\": \"2023-07-20T12:28:30.240239Z\", \"created_time\": \"2023-07-20T12:26:00.049645Z\", \"created_time_dt\": \"2023-07-20T12:26:00.049645Z\", \"duration\": \"0:02:30\", \"iteration\": \"11\", \"goal\": \"AUC_weighted_max\", \"run_name\": \"StandardScalerWrapper, SVM\", \"run_properties\": \"copy=True, with_mean=True, with_std=True\", \"primary_metric\": 0.78594264, \"best_metric\": 0.90412306}, {\"run_id\": \"AutoML_da6d54f5-5de1-4460-bed3-1daabd5092fe_13\", \"run_number\": 1689855961, \"metric\": null, \"status\": \"Completed\", \"run_type\": null, \"training_percent\": \"100\", \"start_time\": \"2023-07-20T12:28:41.014747Z\", \"end_time\": \"2023-07-20T12:28:50.299377Z\", \"created_time\": \"2023-07-20T12:26:01.054202Z\", \"created_time_dt\": \"2023-07-20T12:26:01.054202Z\", \"duration\": \"0:02:49\", \"iteration\": \"13\", \"goal\": \"AUC_weighted_max\", \"run_name\": \"SparseNormalizer, KNN\", \"run_properties\": \"copy=True, norm='max'\", \"primary_metric\": 0.75573147, \"best_metric\": 0.90412306}, {\"run_id\": \"AutoML_da6d54f5-5de1-4460-bed3-1daabd5092fe_16\", \"run_number\": 1689855962, \"metric\": null, \"status\": \"Completed\", \"run_type\": null, \"training_percent\": \"100\", \"start_time\": \"2023-07-20T12:29:12.569053Z\", \"end_time\": \"2023-07-20T12:29:22.314698Z\", \"created_time\": \"2023-07-20T12:26:02.267393Z\", \"created_time_dt\": \"2023-07-20T12:26:02.267393Z\", \"duration\": \"0:03:20\", \"iteration\": \"16\", \"goal\": \"AUC_weighted_max\", \"run_name\": \"MinMaxScaler, ExtremeRandomTrees\", \"run_properties\": \"copy=True, feature_range=(0, 1\", \"primary_metric\": 0.89510726, \"best_metric\": 0.90412306}, {\"run_id\": \"AutoML_da6d54f5-5de1-4460-bed3-1daabd5092fe_18\", \"run_number\": 1689855963, \"metric\": null, \"status\": \"Completed\", \"run_type\": null, \"training_percent\": \"100\", \"start_time\": \"2023-07-20T12:29:33.29108Z\", \"end_time\": \"2023-07-20T12:29:42.489821Z\", \"created_time\": \"2023-07-20T12:26:03.319876Z\", \"created_time_dt\": \"2023-07-20T12:26:03.319876Z\", \"duration\": \"0:03:39\", \"iteration\": \"18\", \"goal\": \"AUC_weighted_max\", \"run_name\": \"SparseNormalizer, LightGBM\", \"run_properties\": \"copy=True, norm='l1'\", \"primary_metric\": 0.88678809, \"best_metric\": 0.90412306}, {\"run_id\": \"AutoML_da6d54f5-5de1-4460-bed3-1daabd5092fe_worker_0\", \"run_number\": 1689855964, \"metric\": null, \"status\": \"Completed\", \"run_type\": \"azureml.scriptrun\", \"training_percent\": null, \"start_time\": \"2023-07-20T12:26:14.640109Z\", \"end_time\": \"2023-07-20T12:30:05.709438Z\", \"created_time\": \"2023-07-20T12:26:04.239073Z\", \"created_time_dt\": \"2023-07-20T12:26:04.239073Z\", \"duration\": \"0:04:01\", \"iteration\": null, \"goal\": null, \"run_name\": \"Completed\", \"run_properties\": null}, {\"run_id\": \"AutoML_da6d54f5-5de1-4460-bed3-1daabd5092fe_20\", \"run_number\": 1689856322, \"metric\": null, \"status\": \"Completed\", \"run_type\": \"azureml.scriptrun\", \"training_percent\": \"100\", \"start_time\": \"2023-07-20T12:32:15.45211Z\", \"end_time\": \"2023-07-20T12:32:41.13466Z\", \"created_time\": \"2023-07-20T12:32:02.371209Z\", \"created_time_dt\": \"2023-07-20T12:32:02.371209Z\", \"duration\": \"0:00:38\", \"iteration\": \"20\", \"goal\": \"AUC_weighted_max\", \"run_name\": \"StandardScalerWrapper, XGBoostClassifier\", \"run_properties\": \"copy=True, with_mean=False, with_std=False\", \"primary_metric\": 0.90755348, \"best_metric\": 0.90755348}, {\"run_id\": \"AutoML_da6d54f5-5de1-4460-bed3-1daabd5092fe_21\", \"run_number\": 1689856362, \"metric\": null, \"status\": \"Completed\", \"run_type\": \"azureml.scriptrun\", \"training_percent\": \"100\", \"start_time\": \"2023-07-20T12:32:50.419465Z\", \"end_time\": \"2023-07-20T12:33:17.503961Z\", \"created_time\": \"2023-07-20T12:32:42.526267Z\", \"created_time_dt\": \"2023-07-20T12:32:42.526267Z\", \"duration\": \"0:00:34\", \"iteration\": \"21\", \"goal\": \"AUC_weighted_max\", \"run_name\": \"StandardScalerWrapper, RandomForest\", \"run_properties\": \"copy=True, with_mean=False, with_std=False\", \"primary_metric\": 0.909927, \"best_metric\": 0.909927}, {\"run_id\": \"AutoML_da6d54f5-5de1-4460-bed3-1daabd5092fe_22\", \"run_number\": 1689856398, \"metric\": null, \"status\": \"Completed\", \"run_type\": \"azureml.scriptrun\", \"training_percent\": \"100\", \"start_time\": \"2023-07-20T12:33:29.913878Z\", \"end_time\": \"2023-07-20T12:33:55.357771Z\", \"created_time\": \"2023-07-20T12:33:18.65619Z\", \"created_time_dt\": \"2023-07-20T12:33:18.65619Z\", \"duration\": \"0:00:36\", \"iteration\": \"22\", \"goal\": \"AUC_weighted_max\", \"run_name\": \"MaxAbsScaler, LightGBM\", \"run_properties\": \"copy=True\", \"primary_metric\": 0.89657494, \"best_metric\": 0.909927}, {\"run_id\": \"AutoML_da6d54f5-5de1-4460-bed3-1daabd5092fe_23\", \"run_number\": 1689856436, \"metric\": null, \"status\": \"Completed\", \"run_type\": \"azureml.scriptrun\", \"training_percent\": \"100\", \"start_time\": \"2023-07-20T12:34:04.907299Z\", \"end_time\": \"2023-07-20T12:34:30.212362Z\", \"created_time\": \"2023-07-20T12:33:56.603515Z\", \"created_time_dt\": \"2023-07-20T12:33:56.603515Z\", \"duration\": \"0:00:33\", \"iteration\": \"23\", \"goal\": \"AUC_weighted_max\", \"run_name\": \"StandardScalerWrapper, XGBoostClassifier\", \"run_properties\": \"copy=True, with_mean=False, with_std=False\", \"primary_metric\": 0.89697017, \"best_metric\": 0.909927}, {\"run_id\": \"AutoML_da6d54f5-5de1-4460-bed3-1daabd5092fe_24\", \"run_number\": 1689856471, \"metric\": null, \"status\": \"Completed\", \"run_type\": \"azureml.scriptrun\", \"training_percent\": \"100\", \"start_time\": \"2023-07-20T12:34:40.302312Z\", \"end_time\": \"2023-07-20T12:35:07.852551Z\", \"created_time\": \"2023-07-20T12:34:31.833751Z\", \"created_time_dt\": \"2023-07-20T12:34:31.833751Z\", \"duration\": \"0:00:36\", \"iteration\": \"24\", \"goal\": \"AUC_weighted_max\", \"run_name\": \"RobustScaler, ExtremeRandomTrees\", \"run_properties\": \"copy=True, quantile_range=[10, 90], with_centering=True,\\n             with_scaling=False\", \"primary_metric\": 0.85517899, \"best_metric\": 0.909927}, {\"run_id\": \"AutoML_da6d54f5-5de1-4460-bed3-1daabd5092fe_25\", \"run_number\": 1689856510, \"metric\": null, \"status\": \"Completed\", \"run_type\": \"azureml.scriptrun\", \"training_percent\": \"100\", \"start_time\": \"2023-07-20T12:35:20.091971Z\", \"end_time\": \"2023-07-20T12:35:43.561952Z\", \"created_time\": \"2023-07-20T12:35:10.443989Z\", \"created_time_dt\": \"2023-07-20T12:35:10.443989Z\", \"duration\": \"0:00:33\", \"iteration\": \"25\", \"goal\": \"AUC_weighted_max\", \"run_name\": \"MinMaxScaler, RandomForest\", \"run_properties\": \"copy=True, feature_range=(0, 1\", \"primary_metric\": 0.80293717, \"best_metric\": 0.909927}, {\"run_id\": \"AutoML_da6d54f5-5de1-4460-bed3-1daabd5092fe_26\", \"run_number\": 1689856545, \"metric\": null, \"status\": \"Completed\", \"run_type\": \"azureml.scriptrun\", \"training_percent\": \"100\", \"start_time\": \"2023-07-20T12:35:53.027374Z\", \"end_time\": \"2023-07-20T12:36:18.815215Z\", \"created_time\": \"2023-07-20T12:35:45.49542Z\", \"created_time_dt\": \"2023-07-20T12:35:45.49542Z\", \"duration\": \"0:00:33\", \"iteration\": \"26\", \"goal\": \"AUC_weighted_max\", \"run_name\": \"StandardScalerWrapper, SVM\", \"run_properties\": \"copy=True, with_mean=False, with_std=True\", \"primary_metric\": 0.86789992, \"best_metric\": 0.909927}, {\"run_id\": \"AutoML_da6d54f5-5de1-4460-bed3-1daabd5092fe_27\", \"run_number\": 1689856580, \"metric\": null, \"status\": \"Completed\", \"run_type\": \"azureml.scriptrun\", \"training_percent\": \"100\", \"start_time\": \"2023-07-20T12:36:28.097994Z\", \"end_time\": \"2023-07-20T12:36:53.251309Z\", \"created_time\": \"2023-07-20T12:36:20.077067Z\", \"created_time_dt\": \"2023-07-20T12:36:20.077067Z\", \"duration\": \"0:00:33\", \"iteration\": \"27\", \"goal\": \"AUC_weighted_max\", \"run_name\": \"StandardScalerWrapper, SVM\", \"run_properties\": \"copy=True, with_mean=False, with_std=True\", \"primary_metric\": 0.8767931, \"best_metric\": 0.909927}, {\"run_id\": \"AutoML_da6d54f5-5de1-4460-bed3-1daabd5092fe_28\", \"run_number\": 1689856614, \"metric\": null, \"status\": \"Completed\", \"run_type\": \"azureml.scriptrun\", \"training_percent\": \"100\", \"start_time\": \"2023-07-20T12:37:05.459839Z\", \"end_time\": \"2023-07-20T12:37:29.57518Z\", \"created_time\": \"2023-07-20T12:36:54.576064Z\", \"created_time_dt\": \"2023-07-20T12:36:54.576064Z\", \"duration\": \"0:00:34\", \"iteration\": \"28\", \"goal\": \"AUC_weighted_max\", \"run_name\": \"MaxAbsScaler, GradientBoosting\", \"run_properties\": \"copy=True\", \"primary_metric\": 0.90347282, \"best_metric\": 0.909927}, {\"run_id\": \"AutoML_da6d54f5-5de1-4460-bed3-1daabd5092fe_29\", \"run_number\": 1689856650, \"metric\": null, \"status\": \"Completed\", \"run_type\": \"azureml.scriptrun\", \"training_percent\": \"100\", \"start_time\": \"2023-07-20T12:37:38.693192Z\", \"end_time\": \"2023-07-20T12:38:05.07943Z\", \"created_time\": \"2023-07-20T12:37:30.890234Z\", \"created_time_dt\": \"2023-07-20T12:37:30.890234Z\", \"duration\": \"0:00:34\", \"iteration\": \"29\", \"goal\": \"AUC_weighted_max\", \"run_name\": \"RobustScaler, LightGBM\", \"run_properties\": \"copy=True, quantile_range=[10, 90], with_centering=True,\\n             with_scaling=False\", \"primary_metric\": 0.89687691, \"best_metric\": 0.909927}, {\"run_id\": \"AutoML_da6d54f5-5de1-4460-bed3-1daabd5092fe_30\", \"run_number\": 1689856687, \"metric\": null, \"status\": \"Completed\", \"run_type\": \"azureml.scriptrun\", \"training_percent\": \"100\", \"start_time\": \"2023-07-20T12:38:20.090631Z\", \"end_time\": \"2023-07-20T12:38:44.894417Z\", \"created_time\": \"2023-07-20T12:38:07.268693Z\", \"created_time_dt\": \"2023-07-20T12:38:07.268693Z\", \"duration\": \"0:00:37\", \"iteration\": \"30\", \"goal\": \"AUC_weighted_max\", \"run_name\": \"MinMaxScaler, RandomForest\", \"run_properties\": \"copy=True, feature_range=(0, 1\", \"primary_metric\": 0.87171775, \"best_metric\": 0.909927}, {\"run_id\": \"AutoML_da6d54f5-5de1-4460-bed3-1daabd5092fe_31\", \"run_number\": 1689856726, \"metric\": null, \"status\": \"Completed\", \"run_type\": \"azureml.scriptrun\", \"training_percent\": \"100\", \"start_time\": \"2023-07-20T12:38:53.260568Z\", \"end_time\": \"2023-07-20T12:39:19.832775Z\", \"created_time\": \"2023-07-20T12:38:46.220264Z\", \"created_time_dt\": \"2023-07-20T12:38:46.220264Z\", \"duration\": \"0:00:33\", \"iteration\": \"31\", \"goal\": \"AUC_weighted_max\", \"run_name\": \"StandardScalerWrapper, XGBoostClassifier\", \"run_properties\": \"copy=True, with_mean=False, with_std=False\", \"primary_metric\": 0.89225391, \"best_metric\": 0.909927}, {\"run_id\": \"AutoML_da6d54f5-5de1-4460-bed3-1daabd5092fe_32\", \"run_number\": 1689856760, \"metric\": null, \"status\": \"Completed\", \"run_type\": \"azureml.scriptrun\", \"training_percent\": \"100\", \"start_time\": \"2023-07-20T12:39:27.741452Z\", \"end_time\": \"2023-07-20T12:40:15.013119Z\", \"created_time\": \"2023-07-20T12:39:20.466456Z\", \"created_time_dt\": \"2023-07-20T12:39:20.466456Z\", \"duration\": \"0:00:54\", \"iteration\": \"32\", \"goal\": \"AUC_weighted_max\", \"run_name\": \"VotingEnsemble\", \"run_properties\": \"classification_labels=numpy.array([0, 1]\", \"primary_metric\": 0.92030027, \"best_metric\": 0.92030027}, {\"run_id\": \"AutoML_da6d54f5-5de1-4460-bed3-1daabd5092fe_33\", \"run_number\": 1689856815, \"metric\": null, \"status\": \"Completed\", \"run_type\": \"azureml.scriptrun\", \"training_percent\": \"100\", \"start_time\": \"2023-07-20T12:40:25.233625Z\", \"end_time\": \"2023-07-20T12:41:14.459919Z\", \"created_time\": \"2023-07-20T12:40:15.545679Z\", \"created_time_dt\": \"2023-07-20T12:40:15.545679Z\", \"duration\": \"0:00:58\", \"iteration\": \"33\", \"goal\": \"AUC_weighted_max\", \"run_name\": \"StackEnsemble\", \"run_properties\": \"base_learners=[('21', Pipeline(memory=None, steps=[('standardscalerwrapper', StandardScalerWrapper(copy=True, with_mean=False, with_std=False\", \"primary_metric\": 0.91586346, \"best_metric\": 0.92030027}], \"children_metrics\": {\"categories\": [0], \"series\": {\"accuracy\": [{\"categories\": [\"0\", \"2\", \"4\", \"7\", \"9\", \"11\", \"13\", \"16\", \"18\", \"20\", \"21\", \"22\", \"23\", \"24\", \"25\", \"26\", \"27\", \"28\", \"29\", \"30\", \"31\", \"32\", \"33\"], \"mode\": \"markers\", \"name\": \"accuracy\", \"stepped\": false, \"type\": \"scatter\", \"data\": [0.8428248587570621, 0.8528248587570622, 0.8327118644067797, 0.8528813559322034, 0.8393785310734463, 0.7289830508474576, 0.7559887005649718, 0.8495480225988701, 0.846271186440678, 0.8359887005649718, 0.8427683615819209, 0.8261581920903955, 0.8192655367231639, 0.8058757062146892, 0.7457062146892655, 0.8159322033898304, 0.8160451977401131, 0.846045197740113, 0.8260451977401131, 0.7959322033898305, 0.8461581920903954, 0.8562146892655367, 0.8090960451977403]}, {\"categories\": [\"0\", \"2\", \"4\", \"7\", \"9\", \"11\", \"13\", \"16\", \"18\", \"20\", \"21\", \"22\", \"23\", \"24\", \"25\", \"26\", \"27\", \"28\", \"29\", \"30\", \"31\", \"32\", \"33\"], \"mode\": \"lines\", \"name\": \"accuracy_max\", \"stepped\": true, \"type\": \"scatter\", \"data\": [0.8428248587570621, 0.8528248587570622, 0.8528248587570622, 0.8528813559322034, 0.8528813559322034, 0.8528813559322034, 0.8528813559322034, 0.8528813559322034, 0.8528813559322034, 0.8528813559322034, 0.8528813559322034, 0.8528813559322034, 0.8528813559322034, 0.8528813559322034, 0.8528813559322034, 0.8528813559322034, 0.8528813559322034, 0.8528813559322034, 0.8528813559322034, 0.8528813559322034, 0.8528813559322034, 0.8562146892655367, 0.8562146892655367]}], \"recall_score_weighted\": [{\"categories\": [\"0\", \"2\", \"4\", \"7\", \"9\", \"11\", \"13\", \"16\", \"18\", \"20\", \"21\", \"22\", \"23\", \"24\", \"25\", \"26\", \"27\", \"28\", \"29\", \"30\", \"31\", \"32\", \"33\"], \"mode\": \"markers\", \"name\": \"recall_score_weighted\", \"stepped\": false, \"type\": \"scatter\", \"data\": [0.8428248587570621, 0.8528248587570622, 0.8327118644067797, 0.8528813559322034, 0.8393785310734463, 0.7289830508474576, 0.7559887005649718, 0.8495480225988701, 0.846271186440678, 0.8359887005649718, 0.8427683615819209, 0.8261581920903955, 0.8192655367231639, 0.8058757062146892, 0.7457062146892655, 0.8159322033898304, 0.8160451977401131, 0.846045197740113, 0.8260451977401131, 0.7959322033898305, 0.8461581920903954, 0.8562146892655367, 0.8090960451977403]}, {\"categories\": [\"0\", \"2\", \"4\", \"7\", \"9\", \"11\", \"13\", \"16\", \"18\", \"20\", \"21\", \"22\", \"23\", \"24\", \"25\", \"26\", \"27\", \"28\", \"29\", \"30\", \"31\", \"32\", \"33\"], \"mode\": \"lines\", \"name\": \"recall_score_weighted_max\", \"stepped\": true, \"type\": \"scatter\", \"data\": [0.8428248587570621, 0.8528248587570622, 0.8528248587570622, 0.8528813559322034, 0.8528813559322034, 0.8528813559322034, 0.8528813559322034, 0.8528813559322034, 0.8528813559322034, 0.8528813559322034, 0.8528813559322034, 0.8528813559322034, 0.8528813559322034, 0.8528813559322034, 0.8528813559322034, 0.8528813559322034, 0.8528813559322034, 0.8528813559322034, 0.8528813559322034, 0.8528813559322034, 0.8528813559322034, 0.8562146892655367, 0.8562146892655367]}], \"recall_score_macro\": [{\"categories\": [\"0\", \"2\", \"4\", \"7\", \"9\", \"11\", \"13\", \"16\", \"18\", \"20\", \"21\", \"22\", \"23\", \"24\", \"25\", \"26\", \"27\", \"28\", \"29\", \"30\", \"31\", \"32\", \"33\"], \"mode\": \"markers\", \"name\": \"recall_score_macro\", \"stepped\": false, \"type\": \"scatter\", \"data\": [0.8149916943521595, 0.8136482558139535, 0.8016756644518273, 0.8280910852713179, 0.8171518549280178, 0.6623221207087486, 0.6588053709856035, 0.8093113233665559, 0.8087500000000001, 0.8154215116279071, 0.8118625415282391, 0.7709482281284606, 0.7930744739756368, 0.7960977297895901, 0.7481644518272426, 0.7699577796234773, 0.7935845791805095, 0.8190566168327796, 0.7866798172757475, 0.7857703488372094, 0.8059779900332227, 0.8257357419712072, 0.6914285714285715]}, {\"categories\": [\"0\", \"2\", \"4\", \"7\", \"9\", \"11\", \"13\", \"16\", \"18\", \"20\", \"21\", \"22\", \"23\", \"24\", \"25\", \"26\", \"27\", \"28\", \"29\", \"30\", \"31\", \"32\", \"33\"], \"mode\": \"lines\", \"name\": \"recall_score_macro_max\", \"stepped\": true, \"type\": \"scatter\", \"data\": [0.8149916943521595, 0.8149916943521595, 0.8149916943521595, 0.8280910852713179, 0.8280910852713179, 0.8280910852713179, 0.8280910852713179, 0.8280910852713179, 0.8280910852713179, 0.8280910852713179, 0.8280910852713179, 0.8280910852713179, 0.8280910852713179, 0.8280910852713179, 0.8280910852713179, 0.8280910852713179, 0.8280910852713179, 0.8280910852713179, 0.8280910852713179, 0.8280910852713179, 0.8280910852713179, 0.8280910852713179, 0.8280910852713179]}], \"norm_macro_recall\": [{\"categories\": [\"0\", \"2\", \"4\", \"7\", \"9\", \"11\", \"13\", \"16\", \"18\", \"20\", \"21\", \"22\", \"23\", \"24\", \"25\", \"26\", \"27\", \"28\", \"29\", \"30\", \"31\", \"32\", \"33\"], \"mode\": \"markers\", \"name\": \"norm_macro_recall\", \"stepped\": false, \"type\": \"scatter\", \"data\": [0.6299833887043189, 0.6272965116279069, 0.6033513289036545, 0.6561821705426356, 0.6343037098560356, 0.32464424141749726, 0.3176107419712071, 0.618622646733112, 0.6175, 0.630843023255814, 0.6237250830564784, 0.5418964562569213, 0.5861489479512736, 0.5921954595791805, 0.496328903654485, 0.5399155592469546, 0.5871691583610188, 0.6381132336655592, 0.5733596345514951, 0.5715406976744186, 0.6119559800664452, 0.6514714839424143, 0.3828571428571429]}, {\"categories\": [\"0\", \"2\", \"4\", \"7\", \"9\", \"11\", \"13\", \"16\", \"18\", \"20\", \"21\", \"22\", \"23\", \"24\", \"25\", \"26\", \"27\", \"28\", \"29\", \"30\", \"31\", \"32\", \"33\"], \"mode\": \"lines\", \"name\": \"norm_macro_recall_max\", \"stepped\": true, \"type\": \"scatter\", \"data\": [0.6299833887043189, 0.6299833887043189, 0.6299833887043189, 0.6561821705426356, 0.6561821705426356, 0.6561821705426356, 0.6561821705426356, 0.6561821705426356, 0.6561821705426356, 0.6561821705426356, 0.6561821705426356, 0.6561821705426356, 0.6561821705426356, 0.6561821705426356, 0.6561821705426356, 0.6561821705426356, 0.6561821705426356, 0.6561821705426356, 0.6561821705426356, 0.6561821705426356, 0.6561821705426356, 0.6561821705426356, 0.6561821705426356]}], \"f1_score_weighted\": [{\"categories\": [\"0\", \"2\", \"4\", \"7\", \"9\", \"11\", \"13\", \"16\", \"18\", \"20\", \"21\", \"22\", \"23\", \"24\", \"25\", \"26\", \"27\", \"28\", \"29\", \"30\", \"31\", \"32\", \"33\"], \"mode\": \"markers\", \"name\": \"f1_score_weighted\", \"stepped\": false, \"type\": \"scatter\", \"data\": [0.8401132576354581, 0.8472118257110802, 0.8282026618706568, 0.8485552381654047, 0.8377739086046141, 0.7137778215029618, 0.7299998975946155, 0.8425997409802243, 0.8402780980385124, 0.8338067746267764, 0.8400030982980236, 0.8163734914168627, 0.81300004686018, 0.8091429631613499, 0.7524080261135359, 0.8088837856866332, 0.8127020004294284, 0.8443133307724116, 0.8188805585915363, 0.7977265646394975, 0.8389574112457021, 0.851005090871357, 0.7636666366052762]}, {\"categories\": [\"0\", \"2\", \"4\", \"7\", \"9\", \"11\", \"13\", \"16\", \"18\", \"20\", \"21\", \"22\", \"23\", \"24\", \"25\", \"26\", \"27\", \"28\", \"29\", \"30\", \"31\", \"32\", \"33\"], \"mode\": \"lines\", \"name\": \"f1_score_weighted_max\", \"stepped\": true, \"type\": \"scatter\", \"data\": [0.8401132576354581, 0.8472118257110802, 0.8472118257110802, 0.8485552381654047, 0.8485552381654047, 0.8485552381654047, 0.8485552381654047, 0.8485552381654047, 0.8485552381654047, 0.8485552381654047, 0.8485552381654047, 0.8485552381654047, 0.8485552381654047, 0.8485552381654047, 0.8485552381654047, 0.8485552381654047, 0.8485552381654047, 0.8485552381654047, 0.8485552381654047, 0.8485552381654047, 0.8485552381654047, 0.851005090871357, 0.851005090871357]}], \"recall_score_micro\": [{\"categories\": [\"0\", \"2\", \"4\", \"7\", \"9\", \"11\", \"13\", \"16\", \"18\", \"20\", \"21\", \"22\", \"23\", \"24\", \"25\", \"26\", \"27\", \"28\", \"29\", \"30\", \"31\", \"32\", \"33\"], \"mode\": \"markers\", \"name\": \"recall_score_micro\", \"stepped\": false, \"type\": \"scatter\", \"data\": [0.8428248587570621, 0.8528248587570622, 0.8327118644067797, 0.8528813559322034, 0.8393785310734463, 0.7289830508474576, 0.7559887005649718, 0.8495480225988701, 0.846271186440678, 0.8359887005649718, 0.8427683615819209, 0.8261581920903955, 0.8192655367231639, 0.8058757062146892, 0.7457062146892655, 0.8159322033898304, 0.8160451977401131, 0.846045197740113, 0.8260451977401131, 0.7959322033898305, 0.8461581920903954, 0.8562146892655367, 0.8090960451977403]}, {\"categories\": [\"0\", \"2\", \"4\", \"7\", \"9\", \"11\", \"13\", \"16\", \"18\", \"20\", \"21\", \"22\", \"23\", \"24\", \"25\", \"26\", \"27\", \"28\", \"29\", \"30\", \"31\", \"32\", \"33\"], \"mode\": \"lines\", \"name\": \"recall_score_micro_max\", \"stepped\": true, \"type\": \"scatter\", \"data\": [0.8428248587570621, 0.8528248587570622, 0.8528248587570622, 0.8528813559322034, 0.8528813559322034, 0.8528813559322034, 0.8528813559322034, 0.8528813559322034, 0.8528813559322034, 0.8528813559322034, 0.8528813559322034, 0.8528813559322034, 0.8528813559322034, 0.8528813559322034, 0.8528813559322034, 0.8528813559322034, 0.8528813559322034, 0.8528813559322034, 0.8528813559322034, 0.8528813559322034, 0.8528813559322034, 0.8562146892655367, 0.8562146892655367]}], \"average_precision_score_macro\": [{\"categories\": [\"0\", \"2\", \"4\", \"7\", \"9\", \"11\", \"13\", \"16\", \"18\", \"20\", \"21\", \"22\", \"23\", \"24\", \"25\", \"26\", \"27\", \"28\", \"29\", \"30\", \"31\", \"32\", \"33\"], \"mode\": \"markers\", \"name\": \"average_precision_score_macro\", \"stepped\": false, \"type\": \"scatter\", \"data\": [0.8827295343890258, 0.8854830683923703, 0.8959343394594608, 0.8629921679232053, 0.887533818037609, 0.748549913194319, 0.7483216427396969, 0.8833081999477115, 0.8655698736359397, 0.8959514588649826, 0.8877761947684034, 0.8851926345627689, 0.8852396026333414, 0.8405063984450226, 0.7858937029291514, 0.8497619897080171, 0.8611172869507617, 0.8954761547363719, 0.8872378246548797, 0.8621029644029612, 0.8759664164701346, 0.9048090328160298, 0.9016161464703625]}, {\"categories\": [\"0\", \"2\", \"4\", \"7\", \"9\", \"11\", \"13\", \"16\", \"18\", \"20\", \"21\", \"22\", \"23\", \"24\", \"25\", \"26\", \"27\", \"28\", \"29\", \"30\", \"31\", \"32\", \"33\"], \"mode\": \"lines\", \"name\": \"average_precision_score_macro_max\", \"stepped\": true, \"type\": \"scatter\", \"data\": [0.8827295343890258, 0.8854830683923703, 0.8959343394594608, 0.8959343394594608, 0.8959343394594608, 0.8959343394594608, 0.8959343394594608, 0.8959343394594608, 0.8959343394594608, 0.8959514588649826, 0.8959514588649826, 0.8959514588649826, 0.8959514588649826, 0.8959514588649826, 0.8959514588649826, 0.8959514588649826, 0.8959514588649826, 0.8959514588649826, 0.8959514588649826, 0.8959514588649826, 0.8959514588649826, 0.9048090328160298, 0.9048090328160298]}], \"balanced_accuracy\": [{\"categories\": [\"0\", \"2\", \"4\", \"7\", \"9\", \"11\", \"13\", \"16\", \"18\", \"20\", \"21\", \"22\", \"23\", \"24\", \"25\", \"26\", \"27\", \"28\", \"29\", \"30\", \"31\", \"32\", \"33\"], \"mode\": \"markers\", \"name\": \"balanced_accuracy\", \"stepped\": false, \"type\": \"scatter\", \"data\": [0.8149916943521595, 0.8136482558139535, 0.8016756644518273, 0.8280910852713179, 0.8171518549280178, 0.6623221207087486, 0.6588053709856035, 0.8093113233665559, 0.8087500000000001, 0.8154215116279071, 0.8118625415282391, 0.7709482281284606, 0.7930744739756368, 0.7960977297895901, 0.7481644518272426, 0.7699577796234773, 0.7935845791805095, 0.8190566168327796, 0.7866798172757475, 0.7857703488372094, 0.8059779900332227, 0.8257357419712072, 0.6914285714285715]}, {\"categories\": [\"0\", \"2\", \"4\", \"7\", \"9\", \"11\", \"13\", \"16\", \"18\", \"20\", \"21\", \"22\", \"23\", \"24\", \"25\", \"26\", \"27\", \"28\", \"29\", \"30\", \"31\", \"32\", \"33\"], \"mode\": \"lines\", \"name\": \"balanced_accuracy_max\", \"stepped\": true, \"type\": \"scatter\", \"data\": [0.8149916943521595, 0.8149916943521595, 0.8149916943521595, 0.8280910852713179, 0.8280910852713179, 0.8280910852713179, 0.8280910852713179, 0.8280910852713179, 0.8280910852713179, 0.8280910852713179, 0.8280910852713179, 0.8280910852713179, 0.8280910852713179, 0.8280910852713179, 0.8280910852713179, 0.8280910852713179, 0.8280910852713179, 0.8280910852713179, 0.8280910852713179, 0.8280910852713179, 0.8280910852713179, 0.8280910852713179, 0.8280910852713179]}], \"precision_score_macro\": [{\"categories\": [\"0\", \"2\", \"4\", \"7\", \"9\", \"11\", \"13\", \"16\", \"18\", \"20\", \"21\", \"22\", \"23\", \"24\", \"25\", \"26\", \"27\", \"28\", \"29\", \"30\", \"31\", \"32\", \"33\"], \"mode\": \"markers\", \"name\": \"precision_score_macro\", \"stepped\": false, \"type\": \"scatter\", \"data\": [0.8271330541439237, 0.8535451619739287, 0.8185403134752913, 0.8514922232486182, 0.8184494671994672, 0.6971022913256956, 0.7575767225129046, 0.8524941270570319, 0.8522154716313934, 0.8169144878219703, 0.8247380954365229, 0.8311036899608328, 0.8068584276626121, 0.7765211798138628, 0.7165799474750881, 0.7984464640149621, 0.8016806563002217, 0.8247268275430008, 0.8161287429037198, 0.7649364743575753, 0.846101081618858, 0.8511980828805216, 0.6708339227161583]}, {\"categories\": [\"0\", \"2\", \"4\", \"7\", \"9\", \"11\", \"13\", \"16\", \"18\", \"20\", \"21\", \"22\", \"23\", \"24\", \"25\", \"26\", \"27\", \"28\", \"29\", \"30\", \"31\", \"32\", \"33\"], \"mode\": \"lines\", \"name\": \"precision_score_macro_max\", \"stepped\": true, \"type\": \"scatter\", \"data\": [0.8271330541439237, 0.8535451619739287, 0.8535451619739287, 0.8535451619739287, 0.8535451619739287, 0.8535451619739287, 0.8535451619739287, 0.8535451619739287, 0.8535451619739287, 0.8535451619739287, 0.8535451619739287, 0.8535451619739287, 0.8535451619739287, 0.8535451619739287, 0.8535451619739287, 0.8535451619739287, 0.8535451619739287, 0.8535451619739287, 0.8535451619739287, 0.8535451619739287, 0.8535451619739287, 0.8535451619739287, 0.8535451619739287]}], \"precision_score_weighted\": [{\"categories\": [\"0\", \"2\", \"4\", \"7\", \"9\", \"11\", \"13\", \"16\", \"18\", \"20\", \"21\", \"22\", \"23\", \"24\", \"25\", \"26\", \"27\", \"28\", \"29\", \"30\", \"31\", \"32\", \"33\"], \"mode\": \"markers\", \"name\": \"precision_score_weighted\", \"stepped\": false, \"type\": \"scatter\", \"data\": [0.8524277365010601, 0.8620863899787073, 0.844930424683675, 0.8742384044152954, 0.852801468776045, 0.7380299925101944, 0.7632419761778855, 0.8630826532211785, 0.8656748272479572, 0.8503725952097358, 0.8511600025907242, 0.8434008620739857, 0.842458274452091, 0.8268057849499216, 0.7785806408348346, 0.8255980830164249, 0.8382813346483207, 0.8556334204188994, 0.8385574361293251, 0.8118533734880092, 0.8602986593683735, 0.8683746221504934, 0.7538894514801239]}, {\"categories\": [\"0\", \"2\", \"4\", \"7\", \"9\", \"11\", \"13\", \"16\", \"18\", \"20\", \"21\", \"22\", \"23\", \"24\", \"25\", \"26\", \"27\", \"28\", \"29\", \"30\", \"31\", \"32\", \"33\"], \"mode\": \"lines\", \"name\": \"precision_score_weighted_max\", \"stepped\": true, \"type\": \"scatter\", \"data\": [0.8524277365010601, 0.8620863899787073, 0.8620863899787073, 0.8742384044152954, 0.8742384044152954, 0.8742384044152954, 0.8742384044152954, 0.8742384044152954, 0.8742384044152954, 0.8742384044152954, 0.8742384044152954, 0.8742384044152954, 0.8742384044152954, 0.8742384044152954, 0.8742384044152954, 0.8742384044152954, 0.8742384044152954, 0.8742384044152954, 0.8742384044152954, 0.8742384044152954, 0.8742384044152954, 0.8742384044152954, 0.8742384044152954]}], \"AUC_micro\": [{\"categories\": [\"0\", \"2\", \"4\", \"7\", \"9\", \"11\", \"13\", \"16\", \"18\", \"20\", \"21\", \"22\", \"23\", \"24\", \"25\", \"26\", \"27\", \"28\", \"29\", \"30\", \"31\", \"32\", \"33\"], \"mode\": \"markers\", \"name\": \"AUC_micro\", \"stepped\": false, \"type\": \"scatter\", \"data\": [0.897662453318012, 0.9052773628267738, 0.9056258897507101, 0.8973504740017237, 0.9052417568387117, 0.8069799147754477, 0.8079193558683647, 0.9047821028440104, 0.8902298668964856, 0.9106301669379808, 0.9107334338791535, 0.9006330077563918, 0.900755992850075, 0.8688481279325865, 0.7753519901688533, 0.8828889607073318, 0.8830800775639185, 0.9082464968559482, 0.8999402310957898, 0.8724326662197963, 0.902855229978614, 0.9197659516741676, 0.9028068083883941]}, {\"categories\": [\"0\", \"2\", \"4\", \"7\", \"9\", \"11\", \"13\", \"16\", \"18\", \"20\", \"21\", \"22\", \"23\", \"24\", \"25\", \"26\", \"27\", \"28\", \"29\", \"30\", \"31\", \"32\", \"33\"], \"mode\": \"lines\", \"name\": \"AUC_micro_max\", \"stepped\": true, \"type\": \"scatter\", \"data\": [0.897662453318012, 0.9052773628267738, 0.9056258897507101, 0.9056258897507101, 0.9056258897507101, 0.9056258897507101, 0.9056258897507101, 0.9056258897507101, 0.9056258897507101, 0.9106301669379808, 0.9107334338791535, 0.9107334338791535, 0.9107334338791535, 0.9107334338791535, 0.9107334338791535, 0.9107334338791535, 0.9107334338791535, 0.9107334338791535, 0.9107334338791535, 0.9107334338791535, 0.9107334338791535, 0.9197659516741676, 0.9197659516741676]}], \"average_precision_score_micro\": [{\"categories\": [\"0\", \"2\", \"4\", \"7\", \"9\", \"11\", \"13\", \"16\", \"18\", \"20\", \"21\", \"22\", \"23\", \"24\", \"25\", \"26\", \"27\", \"28\", \"29\", \"30\", \"31\", \"32\", \"33\"], \"mode\": \"markers\", \"name\": \"average_precision_score_micro\", \"stepped\": false, \"type\": \"scatter\", \"data\": [0.9006531196119575, 0.8967118897134988, 0.9093582097319345, 0.8975173598442842, 0.9055027769159988, 0.8047424841722425, 0.7950410822884255, 0.906418729924669, 0.8929338654511534, 0.9120777617258359, 0.9133049996297885, 0.9033584035965356, 0.9020024314587092, 0.8660152435535979, 0.7733692071388731, 0.884884518730108, 0.8856333029314613, 0.9106819251032185, 0.9012836636618482, 0.8752934447681557, 0.9001135085618734, 0.9234561593302612, 0.9068805412134552]}, {\"categories\": [\"0\", \"2\", \"4\", \"7\", \"9\", \"11\", \"13\", \"16\", \"18\", \"20\", \"21\", \"22\", \"23\", \"24\", \"25\", \"26\", \"27\", \"28\", \"29\", \"30\", \"31\", \"32\", \"33\"], \"mode\": \"lines\", \"name\": \"average_precision_score_micro_max\", \"stepped\": true, \"type\": \"scatter\", \"data\": [0.9006531196119575, 0.9006531196119575, 0.9093582097319345, 0.9093582097319345, 0.9093582097319345, 0.9093582097319345, 0.9093582097319345, 0.9093582097319345, 0.9093582097319345, 0.9120777617258359, 0.9133049996297885, 0.9133049996297885, 0.9133049996297885, 0.9133049996297885, 0.9133049996297885, 0.9133049996297885, 0.9133049996297885, 0.9133049996297885, 0.9133049996297885, 0.9133049996297885, 0.9133049996297885, 0.9234561593302612, 0.9234561593302612]}], \"AUC_macro\": [{\"categories\": [\"0\", \"2\", \"4\", \"7\", \"9\", \"11\", \"13\", \"16\", \"18\", \"20\", \"21\", \"22\", \"23\", \"24\", \"25\", \"26\", \"27\", \"28\", \"29\", \"30\", \"31\", \"32\", \"33\"], \"mode\": \"markers\", \"name\": \"AUC_macro\", \"stepped\": false, \"type\": \"scatter\", \"data\": [0.8923947259136213, 0.8983131459948319, 0.9041230620155039, 0.8843515596160945, 0.8979461055740126, 0.7859426448874123, 0.7557314737910668, 0.8951072582133628, 0.8867880906238463, 0.9075534791435954, 0.9099270025839793, 0.8965749354005169, 0.896970168881506, 0.8551789867109635, 0.8029371654669619, 0.8678999169435215, 0.8767930970837948, 0.9034728220745663, 0.8968769149132522, 0.871717746400886, 0.8922539105758582, 0.9203002722406792, 0.9158634643779993]}, {\"categories\": [\"0\", \"2\", \"4\", \"7\", \"9\", \"11\", \"13\", \"16\", \"18\", \"20\", \"21\", \"22\", \"23\", \"24\", \"25\", \"26\", \"27\", \"28\", \"29\", \"30\", \"31\", \"32\", \"33\"], \"mode\": \"lines\", \"name\": \"AUC_macro_max\", \"stepped\": true, \"type\": \"scatter\", \"data\": [0.8923947259136213, 0.8983131459948319, 0.9041230620155039, 0.9041230620155039, 0.9041230620155039, 0.9041230620155039, 0.9041230620155039, 0.9041230620155039, 0.9041230620155039, 0.9075534791435954, 0.9099270025839793, 0.9099270025839793, 0.9099270025839793, 0.9099270025839793, 0.9099270025839793, 0.9099270025839793, 0.9099270025839793, 0.9099270025839793, 0.9099270025839793, 0.9099270025839793, 0.9099270025839793, 0.9203002722406792, 0.9203002722406792]}], \"f1_score_macro\": [{\"categories\": [\"0\", \"2\", \"4\", \"7\", \"9\", \"11\", \"13\", \"16\", \"18\", \"20\", \"21\", \"22\", \"23\", \"24\", \"25\", \"26\", \"27\", \"28\", \"29\", \"30\", \"31\", \"32\", \"33\"], \"mode\": \"markers\", \"name\": \"f1_score_macro\", \"stepped\": false, \"type\": \"scatter\", \"data\": [0.8120777859845001, 0.8224185895799753, 0.7988077271349955, 0.8215281044866252, 0.8084322054508579, 0.6584704147976026, 0.6683083102141609, 0.8149178688080291, 0.8114443941152395, 0.8061698949449981, 0.8102820729649656, 0.7796494803412973, 0.780612893112502, 0.7772343334123335, 0.7195114287925282, 0.7693507598690953, 0.7813588797954538, 0.8150438480670772, 0.7867758423567351, 0.7676608179832346, 0.8088551978394924, 0.826143842554149, 0.6643433226692184]}, {\"categories\": [\"0\", \"2\", \"4\", \"7\", \"9\", \"11\", \"13\", \"16\", \"18\", \"20\", \"21\", \"22\", \"23\", \"24\", \"25\", \"26\", \"27\", \"28\", \"29\", \"30\", \"31\", \"32\", \"33\"], \"mode\": \"lines\", \"name\": \"f1_score_macro_max\", \"stepped\": true, \"type\": \"scatter\", \"data\": [0.8120777859845001, 0.8224185895799753, 0.8224185895799753, 0.8224185895799753, 0.8224185895799753, 0.8224185895799753, 0.8224185895799753, 0.8224185895799753, 0.8224185895799753, 0.8224185895799753, 0.8224185895799753, 0.8224185895799753, 0.8224185895799753, 0.8224185895799753, 0.8224185895799753, 0.8224185895799753, 0.8224185895799753, 0.8224185895799753, 0.8224185895799753, 0.8224185895799753, 0.8224185895799753, 0.826143842554149, 0.826143842554149]}], \"log_loss\": [{\"categories\": [\"0\", \"2\", \"4\", \"7\", \"9\", \"11\", \"13\", \"16\", \"18\", \"20\", \"21\", \"22\", \"23\", \"24\", \"25\", \"26\", \"27\", \"28\", \"29\", \"30\", \"31\", \"32\", \"33\"], \"mode\": \"markers\", \"name\": \"log_loss\", \"stepped\": false, \"type\": \"scatter\", \"data\": [0.5079173229698006, 0.40695407817833373, 0.4068871077673939, 0.4198061235606378, 0.38871171893697226, 0.5381798680000272, 0.9718639464913329, 0.3970735183108637, 0.42918635865639077, 0.3860584048665845, 0.3811703119648343, 0.4054103296539292, 0.43095644261614224, 0.5947102750661715, 0.5946383209328943, 0.43462152874155413, 0.42325547128137264, 0.37982617737144914, 0.42474754516962143, 0.49859057099704707, 0.4037394446710997, 0.38299137905300257, 0.49498074267959763]}, {\"categories\": [\"0\", \"2\", \"4\", \"7\", \"9\", \"11\", \"13\", \"16\", \"18\", \"20\", \"21\", \"22\", \"23\", \"24\", \"25\", \"26\", \"27\", \"28\", \"29\", \"30\", \"31\", \"32\", \"33\"], \"mode\": \"lines\", \"name\": \"log_loss_min\", \"stepped\": true, \"type\": \"scatter\", \"data\": [0.5079173229698006, 0.40695407817833373, 0.4068871077673939, 0.4068871077673939, 0.38871171893697226, 0.38871171893697226, 0.38871171893697226, 0.38871171893697226, 0.38871171893697226, 0.3860584048665845, 0.3811703119648343, 0.3811703119648343, 0.3811703119648343, 0.3811703119648343, 0.3811703119648343, 0.3811703119648343, 0.3811703119648343, 0.37982617737144914, 0.37982617737144914, 0.37982617737144914, 0.37982617737144914, 0.37982617737144914, 0.37982617737144914]}], \"precision_score_micro\": [{\"categories\": [\"0\", \"2\", \"4\", \"7\", \"9\", \"11\", \"13\", \"16\", \"18\", \"20\", \"21\", \"22\", \"23\", \"24\", \"25\", \"26\", \"27\", \"28\", \"29\", \"30\", \"31\", \"32\", \"33\"], \"mode\": \"markers\", \"name\": \"precision_score_micro\", \"stepped\": false, \"type\": \"scatter\", \"data\": [0.8428248587570621, 0.8528248587570622, 0.8327118644067797, 0.8528813559322034, 0.8393785310734463, 0.7289830508474576, 0.7559887005649718, 0.8495480225988701, 0.846271186440678, 0.8359887005649718, 0.8427683615819209, 0.8261581920903955, 0.8192655367231639, 0.8058757062146892, 0.7457062146892655, 0.8159322033898304, 0.8160451977401131, 0.846045197740113, 0.8260451977401131, 0.7959322033898305, 0.8461581920903954, 0.8562146892655367, 0.8090960451977403]}, {\"categories\": [\"0\", \"2\", \"4\", \"7\", \"9\", \"11\", \"13\", \"16\", \"18\", \"20\", \"21\", \"22\", \"23\", \"24\", \"25\", \"26\", \"27\", \"28\", \"29\", \"30\", \"31\", \"32\", \"33\"], \"mode\": \"lines\", \"name\": \"precision_score_micro_max\", \"stepped\": true, \"type\": \"scatter\", \"data\": [0.8428248587570621, 0.8528248587570622, 0.8528248587570622, 0.8528813559322034, 0.8528813559322034, 0.8528813559322034, 0.8528813559322034, 0.8528813559322034, 0.8528813559322034, 0.8528813559322034, 0.8528813559322034, 0.8528813559322034, 0.8528813559322034, 0.8528813559322034, 0.8528813559322034, 0.8528813559322034, 0.8528813559322034, 0.8528813559322034, 0.8528813559322034, 0.8528813559322034, 0.8528813559322034, 0.8562146892655367, 0.8562146892655367]}], \"f1_score_micro\": [{\"categories\": [\"0\", \"2\", \"4\", \"7\", \"9\", \"11\", \"13\", \"16\", \"18\", \"20\", \"21\", \"22\", \"23\", \"24\", \"25\", \"26\", \"27\", \"28\", \"29\", \"30\", \"31\", \"32\", \"33\"], \"mode\": \"markers\", \"name\": \"f1_score_micro\", \"stepped\": false, \"type\": \"scatter\", \"data\": [0.8428248587570621, 0.8528248587570623, 0.8327118644067797, 0.8528813559322034, 0.8393785310734463, 0.7289830508474576, 0.7559887005649718, 0.8495480225988701, 0.846271186440678, 0.8359887005649718, 0.8427683615819209, 0.8261581920903955, 0.8192655367231639, 0.8058757062146892, 0.7457062146892655, 0.8159322033898306, 0.8160451977401131, 0.846045197740113, 0.8260451977401131, 0.7959322033898305, 0.8461581920903954, 0.8562146892655367, 0.8090960451977403]}, {\"categories\": [\"0\", \"2\", \"4\", \"7\", \"9\", \"11\", \"13\", \"16\", \"18\", \"20\", \"21\", \"22\", \"23\", \"24\", \"25\", \"26\", \"27\", \"28\", \"29\", \"30\", \"31\", \"32\", \"33\"], \"mode\": \"lines\", \"name\": \"f1_score_micro_max\", \"stepped\": true, \"type\": \"scatter\", \"data\": [0.8428248587570621, 0.8528248587570623, 0.8528248587570623, 0.8528813559322034, 0.8528813559322034, 0.8528813559322034, 0.8528813559322034, 0.8528813559322034, 0.8528813559322034, 0.8528813559322034, 0.8528813559322034, 0.8528813559322034, 0.8528813559322034, 0.8528813559322034, 0.8528813559322034, 0.8528813559322034, 0.8528813559322034, 0.8528813559322034, 0.8528813559322034, 0.8528813559322034, 0.8528813559322034, 0.8562146892655367, 0.8562146892655367]}], \"AUC_weighted\": [{\"categories\": [\"0\", \"2\", \"4\", \"7\", \"9\", \"11\", \"13\", \"16\", \"18\", \"20\", \"21\", \"22\", \"23\", \"24\", \"25\", \"26\", \"27\", \"28\", \"29\", \"30\", \"31\", \"32\", \"33\"], \"mode\": \"markers\", \"name\": \"AUC_weighted\", \"stepped\": false, \"type\": \"scatter\", \"data\": [0.8923947259136213, 0.8983131459948321, 0.9041230620155039, 0.8843515596160945, 0.8979461055740126, 0.7859426448874123, 0.7557314737910668, 0.8951072582133628, 0.8867880906238463, 0.9075534791435954, 0.9099270025839793, 0.8965749354005169, 0.896970168881506, 0.8551789867109635, 0.8029371654669619, 0.8678999169435218, 0.8767930970837948, 0.9034728220745663, 0.8968769149132522, 0.871717746400886, 0.8922539105758582, 0.9203002722406793, 0.9158634643779994]}, {\"categories\": [\"0\", \"2\", \"4\", \"7\", \"9\", \"11\", \"13\", \"16\", \"18\", \"20\", \"21\", \"22\", \"23\", \"24\", \"25\", \"26\", \"27\", \"28\", \"29\", \"30\", \"31\", \"32\", \"33\"], \"mode\": \"lines\", \"name\": \"AUC_weighted_max\", \"stepped\": true, \"type\": \"scatter\", \"data\": [0.8923947259136213, 0.8983131459948321, 0.9041230620155039, 0.9041230620155039, 0.9041230620155039, 0.9041230620155039, 0.9041230620155039, 0.9041230620155039, 0.9041230620155039, 0.9075534791435954, 0.9099270025839793, 0.9099270025839793, 0.9099270025839793, 0.9099270025839793, 0.9099270025839793, 0.9099270025839793, 0.9099270025839793, 0.9099270025839793, 0.9099270025839793, 0.9099270025839793, 0.9099270025839793, 0.9203002722406793, 0.9203002722406793]}], \"matthews_correlation\": [{\"categories\": [\"0\", \"2\", \"4\", \"7\", \"9\", \"11\", \"13\", \"16\", \"18\", \"20\", \"21\", \"22\", \"23\", \"24\", \"25\", \"26\", \"27\", \"28\", \"29\", \"30\", \"31\", \"32\", \"33\"], \"mode\": \"markers\", \"name\": \"matthews_correlation\", \"stepped\": false, \"type\": \"scatter\", \"data\": [0.6403744433261381, 0.6654283850244233, 0.6185096734629025, 0.6750810580705566, 0.6340946574376699, 0.3553607219404872, 0.40272483788096824, 0.6582170038866619, 0.6558358238248088, 0.630955231042378, 0.6352750777680729, 0.5965988648270544, 0.5959192038628021, 0.5711178584676965, 0.46265647851877756, 0.5649045588325674, 0.5927235067998684, 0.6430402926689143, 0.6002656736676906, 0.5494200413283734, 0.6477276975988243, 0.67481831452031, 0.4071555002861792]}, {\"categories\": [\"0\", \"2\", \"4\", \"7\", \"9\", \"11\", \"13\", \"16\", \"18\", \"20\", \"21\", \"22\", \"23\", \"24\", \"25\", \"26\", \"27\", \"28\", \"29\", \"30\", \"31\", \"32\", \"33\"], \"mode\": \"lines\", \"name\": \"matthews_correlation_max\", \"stepped\": true, \"type\": \"scatter\", \"data\": [0.6403744433261381, 0.6654283850244233, 0.6654283850244233, 0.6750810580705566, 0.6750810580705566, 0.6750810580705566, 0.6750810580705566, 0.6750810580705566, 0.6750810580705566, 0.6750810580705566, 0.6750810580705566, 0.6750810580705566, 0.6750810580705566, 0.6750810580705566, 0.6750810580705566, 0.6750810580705566, 0.6750810580705566, 0.6750810580705566, 0.6750810580705566, 0.6750810580705566, 0.6750810580705566, 0.6750810580705566, 0.6750810580705566]}], \"weighted_accuracy\": [{\"categories\": [\"0\", \"2\", \"4\", \"7\", \"9\", \"11\", \"13\", \"16\", \"18\", \"20\", \"21\", \"22\", \"23\", \"24\", \"25\", \"26\", \"27\", \"28\", \"29\", \"30\", \"31\", \"32\", \"33\"], \"mode\": \"markers\", \"name\": \"weighted_accuracy\", \"stepped\": false, \"type\": \"scatter\", \"data\": [0.8612928020219082, 0.8798373199825408, 0.8548042475897724, 0.8714005233649175, 0.8551558006003571, 0.7746821112486363, 0.8205566190741742, 0.8775476689488148, 0.8723487791517928, 0.8498160820336796, 0.863844459474665, 0.8625091724874425, 0.8371874316581781, 0.8128083436683273, 0.7446920262482056, 0.8482649756432117, 0.8315264309999535, 0.8631158908311395, 0.854272223122112, 0.8032412527620092, 0.8741059102976108, 0.8769823482837316, 0.8774520767464493]}, {\"categories\": [\"0\", \"2\", \"4\", \"7\", \"9\", \"11\", \"13\", \"16\", \"18\", \"20\", \"21\", \"22\", \"23\", \"24\", \"25\", \"26\", \"27\", \"28\", \"29\", \"30\", \"31\", \"32\", \"33\"], \"mode\": \"lines\", \"name\": \"weighted_accuracy_max\", \"stepped\": true, \"type\": \"scatter\", \"data\": [0.8612928020219082, 0.8798373199825408, 0.8798373199825408, 0.8798373199825408, 0.8798373199825408, 0.8798373199825408, 0.8798373199825408, 0.8798373199825408, 0.8798373199825408, 0.8798373199825408, 0.8798373199825408, 0.8798373199825408, 0.8798373199825408, 0.8798373199825408, 0.8798373199825408, 0.8798373199825408, 0.8798373199825408, 0.8798373199825408, 0.8798373199825408, 0.8798373199825408, 0.8798373199825408, 0.8798373199825408, 0.8798373199825408]}], \"average_precision_score_weighted\": [{\"categories\": [\"0\", \"2\", \"4\", \"7\", \"9\", \"11\", \"13\", \"16\", \"18\", \"20\", \"21\", \"22\", \"23\", \"24\", \"25\", \"26\", \"27\", \"28\", \"29\", \"30\", \"31\", \"32\", \"33\"], \"mode\": \"markers\", \"name\": \"average_precision_score_weighted\", \"stepped\": false, \"type\": \"scatter\", \"data\": [0.9092107718745325, 0.9046411186687935, 0.919383639086176, 0.8955881806828845, 0.910436715660483, 0.8041248280422625, 0.789890003910042, 0.9087655887380741, 0.8978196790223263, 0.9200048802552347, 0.9158766548969537, 0.9110372573112068, 0.9117513916488023, 0.8755174308408392, 0.8236882548278757, 0.8869199621373725, 0.8951390105987886, 0.9185746311583223, 0.9107541914824611, 0.8914280858971433, 0.9004974892626997, 0.9283670277220428, 0.925120464319901]}, {\"categories\": [\"0\", \"2\", \"4\", \"7\", \"9\", \"11\", \"13\", \"16\", \"18\", \"20\", \"21\", \"22\", \"23\", \"24\", \"25\", \"26\", \"27\", \"28\", \"29\", \"30\", \"31\", \"32\", \"33\"], \"mode\": \"lines\", \"name\": \"average_precision_score_weighted_max\", \"stepped\": true, \"type\": \"scatter\", \"data\": [0.9092107718745325, 0.9092107718745325, 0.919383639086176, 0.919383639086176, 0.919383639086176, 0.919383639086176, 0.919383639086176, 0.919383639086176, 0.919383639086176, 0.9200048802552347, 0.9200048802552347, 0.9200048802552347, 0.9200048802552347, 0.9200048802552347, 0.9200048802552347, 0.9200048802552347, 0.9200048802552347, 0.9200048802552347, 0.9200048802552347, 0.9200048802552347, 0.9200048802552347, 0.9283670277220428, 0.9283670277220428]}]}, \"metricName\": null, \"primaryMetricName\": \"AUC_weighted\", \"showLegend\": false}, \"run_metrics\": [{\"name\": \"experiment_status\", \"run_id\": \"AutoML_da6d54f5-5de1-4460-bed3-1daabd5092fe\", \"categories\": [0, 1, 2, 3, 4, 5, 6, 7, 8, 9, 10, 11, 12, 13], \"series\": [{\"data\": [\"DatasetEvaluation\", \"FeaturesGeneration\", \"DatasetFeaturization\", \"DatasetFeaturizationCompleted\", \"DatasetCrossValidationSplit\", \"ModelSelection\", \"BestRunExplainModel\", \"ModelExplanationDataSetSetup\", \"PickSurrogateModel\", \"EngineeredFeatureExplanations\", \"EngineeredFeatureExplanations\", \"RawFeaturesExplanations\", \"RawFeaturesExplanations\", \"BestRunExplainModel\"]}]}, {\"name\": \"experiment_status_description\", \"run_id\": \"AutoML_da6d54f5-5de1-4460-bed3-1daabd5092fe\", \"categories\": [0, 1, 2, 3, 4, 5, 6, 7, 8, 9, 10, 11, 12, 13], \"series\": [{\"data\": [\"Gathering dataset statistics.\", \"Generating features for the dataset.\", \"Beginning to fit featurizers and featurize the dataset.\", \"Completed fit featurizers and featurizing the dataset.\", \"Generating individually featurized CV splits.\", \"Beginning model selection.\", \"Best run model explanations started\", \"Model explanations data setup completed\", \"Choosing LightGBM as the surrogate model for explanations\", \"Computation of engineered features started\", \"Computation of engineered features completed\", \"Computation of raw features started\", \"Computation of raw features completed\", \"Best run model explanations completed\"]}]}, {\"name\": \"average_precision_score_weighted\", \"run_id\": \"AutoML_da6d54f5-5de1-4460-bed3-1daabd5092fe\", \"categories\": [0], \"series\": [{\"data\": [0.9283670277220428]}]}, {\"name\": \"precision_score_weighted\", \"run_id\": \"AutoML_da6d54f5-5de1-4460-bed3-1daabd5092fe\", \"categories\": [0], \"series\": [{\"data\": [0.8683746221504934]}]}, {\"name\": \"f1_score_macro\", \"run_id\": \"AutoML_da6d54f5-5de1-4460-bed3-1daabd5092fe\", \"categories\": [0], \"series\": [{\"data\": [0.826143842554149]}]}, {\"name\": \"precision_score_micro\", \"run_id\": \"AutoML_da6d54f5-5de1-4460-bed3-1daabd5092fe\", \"categories\": [0], \"series\": [{\"data\": [0.8562146892655367]}]}, {\"name\": \"balanced_accuracy\", \"run_id\": \"AutoML_da6d54f5-5de1-4460-bed3-1daabd5092fe\", \"categories\": [0], \"series\": [{\"data\": [0.8257357419712072]}]}, {\"name\": \"accuracy\", \"run_id\": \"AutoML_da6d54f5-5de1-4460-bed3-1daabd5092fe\", \"categories\": [0], \"series\": [{\"data\": [0.8562146892655367]}]}, {\"name\": \"average_precision_score_macro\", \"run_id\": \"AutoML_da6d54f5-5de1-4460-bed3-1daabd5092fe\", \"categories\": [0], \"series\": [{\"data\": [0.9048090328160298]}]}, {\"name\": \"recall_score_weighted\", \"run_id\": \"AutoML_da6d54f5-5de1-4460-bed3-1daabd5092fe\", \"categories\": [0], \"series\": [{\"data\": [0.8562146892655367]}]}, {\"name\": \"f1_score_weighted\", \"run_id\": \"AutoML_da6d54f5-5de1-4460-bed3-1daabd5092fe\", \"categories\": [0], \"series\": [{\"data\": [0.851005090871357]}]}, {\"name\": \"precision_score_macro\", \"run_id\": \"AutoML_da6d54f5-5de1-4460-bed3-1daabd5092fe\", \"categories\": [0], \"series\": [{\"data\": [0.8511980828805216]}]}, {\"name\": \"AUC_micro\", \"run_id\": \"AutoML_da6d54f5-5de1-4460-bed3-1daabd5092fe\", \"categories\": [0], \"series\": [{\"data\": [0.9197659516741676]}]}, {\"name\": \"f1_score_micro\", \"run_id\": \"AutoML_da6d54f5-5de1-4460-bed3-1daabd5092fe\", \"categories\": [0], \"series\": [{\"data\": [0.8562146892655367]}]}, {\"name\": \"recall_score_macro\", \"run_id\": \"AutoML_da6d54f5-5de1-4460-bed3-1daabd5092fe\", \"categories\": [0], \"series\": [{\"data\": [0.8257357419712072]}]}, {\"name\": \"log_loss\", \"run_id\": \"AutoML_da6d54f5-5de1-4460-bed3-1daabd5092fe\", \"categories\": [0], \"series\": [{\"data\": [0.38299137905300257]}]}, {\"name\": \"average_precision_score_micro\", \"run_id\": \"AutoML_da6d54f5-5de1-4460-bed3-1daabd5092fe\", \"categories\": [0], \"series\": [{\"data\": [0.9234561593302612]}]}, {\"name\": \"matthews_correlation\", \"run_id\": \"AutoML_da6d54f5-5de1-4460-bed3-1daabd5092fe\", \"categories\": [0], \"series\": [{\"data\": [0.67481831452031]}]}, {\"name\": \"AUC_macro\", \"run_id\": \"AutoML_da6d54f5-5de1-4460-bed3-1daabd5092fe\", \"categories\": [0], \"series\": [{\"data\": [0.9203002722406792]}]}, {\"name\": \"AUC_weighted\", \"run_id\": \"AutoML_da6d54f5-5de1-4460-bed3-1daabd5092fe\", \"categories\": [0], \"series\": [{\"data\": [0.9203002722406793]}]}, {\"name\": \"recall_score_micro\", \"run_id\": \"AutoML_da6d54f5-5de1-4460-bed3-1daabd5092fe\", \"categories\": [0], \"series\": [{\"data\": [0.8562146892655367]}]}, {\"name\": \"weighted_accuracy\", \"run_id\": \"AutoML_da6d54f5-5de1-4460-bed3-1daabd5092fe\", \"categories\": [0], \"series\": [{\"data\": [0.8769823482837316]}]}, {\"name\": \"norm_macro_recall\", \"run_id\": \"AutoML_da6d54f5-5de1-4460-bed3-1daabd5092fe\", \"categories\": [0], \"series\": [{\"data\": [0.6514714839424143]}]}], \"run_logs\": \"\\nRun is completed.\", \"graph\": {}, \"widget_settings\": {\"childWidgetDisplay\": \"popup\", \"send_telemetry\": false, \"log_level\": \"INFO\", \"sdk_version\": \"1.51.0\"}, \"loading\": false}"
          },
          "metadata": {}
        }
      ],
      "execution_count": 18,
      "metadata": {
        "gather": {
          "logged": 1689857231487
        },
        "jupyter": {
          "outputs_hidden": false,
          "source_hidden": false
        },
        "nteract": {
          "transient": {
            "deleting": false
          }
        }
      }
    },
    {
      "cell_type": "markdown",
      "source": [
        "## Best Model\n",
        "\n",
        "In the cells below, we get the best model from the AutoML experiments and display all the properties of the model.\n",
        "\n"
      ],
      "metadata": {}
    },
    {
      "cell_type": "code",
      "source": [
        "best_run, fitted_model = remote_run.get_output()"
      ],
      "outputs": [
        {
          "output_type": "stream",
          "name": "stderr",
          "text": "WARNING:root:The version of the SDK does not match the version the model was trained on.\nWARNING:root:The consistency in the result may not be guaranteed.\nWARNING:root:Package:azureml-automl-core, training version:1.52.0.post1, current version:1.51.0.post1\nPackage:azureml-automl-runtime, training version:1.52.0.post1, current version:1.51.0.post1\nPackage:azureml-core, training version:1.52.0, current version:1.51.0\nPackage:azureml-defaults, training version:1.52.0, current version:1.51.0\nPackage:azureml-interpret, training version:1.52.0, current version:1.51.0\nPackage:azureml-mlflow, training version:1.52.0, current version:1.51.0\nPackage:azureml-pipeline-core, training version:1.52.0, current version:1.51.0\nPackage:azureml-responsibleai, training version:1.52.0, current version:1.51.0\nPackage:azureml-telemetry, training version:1.52.0, current version:1.51.0\nPackage:azureml-train-automl-client, training version:1.52.0, current version:1.51.0.post1\nPackage:azureml-train-automl-runtime, training version:1.52.0, current version:1.51.0.post2\nPackage:azureml-train-core, training version:1.52.0, current version:1.51.0\nPackage:azureml-train-restclients-hyperdrive, training version:1.52.0, current version:1.51.0\nPackage:azureml-training-tabular, training version:1.52.0, current version:1.51.0.post1\nWARNING:root:Please ensure the version of your local conda dependencies match the version on which your model was trained in order to properly retrieve your model.\n"
        }
      ],
      "execution_count": 21,
      "metadata": {
        "gather": {
          "logged": 1689857776833
        },
        "jupyter": {
          "outputs_hidden": false,
          "source_hidden": false
        },
        "nteract": {
          "transient": {
            "deleting": false
          }
        }
      }
    },
    {
      "cell_type": "code",
      "source": [
        "print(best_run)"
      ],
      "outputs": [
        {
          "output_type": "stream",
          "name": "stdout",
          "text": "Run(Experiment: edu_heart_failure_exp,\nId: AutoML_da6d54f5-5de1-4460-bed3-1daabd5092fe_32,\nType: azureml.scriptrun,\nStatus: Completed)\n"
        }
      ],
      "execution_count": 28,
      "metadata": {
        "jupyter": {
          "source_hidden": false,
          "outputs_hidden": false
        },
        "nteract": {
          "transient": {
            "deleting": false
          }
        },
        "gather": {
          "logged": 1689858688062
        }
      }
    },
    {
      "cell_type": "code",
      "source": [
        "print(fitted_model)"
      ],
      "outputs": [
        {
          "output_type": "stream",
          "name": "stdout",
          "text": "Pipeline(memory=None,\n         steps=[('datatransformer',\n                 DataTransformer(enable_dnn=False, enable_feature_sweeping=True, feature_sweeping_config={}, feature_sweeping_timeout=86400, featurization_config=None, force_text_dnn=False, is_cross_validation=True, is_onnx_compatible=False, observer=None, task='classification', working_dir='/mnt/batch/tasks/shared/LS_root/mount...\n                 PreFittedSoftVotingClassifier(classification_labels=array([0, 1]), estimators=[('21', Pipeline(memory=None, steps=[('standardscalerwrapper', StandardScalerWrapper(copy=True, with_mean=False, with_std=False)), ('randomforestclassifier', RandomForestClassifier(bootstrap=True, ccp_alpha=0.0, class_weight=None, criterion='gini', max_depth=None, max_features='auto', max_leaf_nodes=None, max_samples=None, min_impurity_decrease=0.0, min_impurity_split=None, min_samples_leaf=1, min_samples_split=2, min_weight_fraction_leaf=0.0, n_estimators=100, n_jobs=1, oob_score=False, random_state=None, verbose=0, warm_start=False))], verbose=False)), ('20', Pipeline(memory=None, steps=[('standardscalerwrapper', StandardScalerWrapper(copy=True, with_mean=False, with_std=False)), ('xgboostclassifier', XGBoostClassifier(booster='gbtree', colsample_bytree=0.9, eta=0.1, gamma=0, max_depth=6, max_leaves=3, n_estimators=25, n_jobs=1, objective='reg:logistic', problem_info=ProblemInfo(gpu_training_param_dict={'processing_unit_type': 'cpu'}), random_state=0, reg_alpha=0, reg_lambda=0.7291666666666667, subsample=0.5, tree_method='auto'))], verbose=False)), ('4', Pipeline(memory=None, steps=[('standardscalerwrapper', StandardScalerWrapper(copy=True, with_mean=False, with_std=True)), ('lightgbmclassifier', LightGBMClassifier(boosting_type='gbdt', colsample_bytree=0.4955555555555555, learning_rate=0.09473736842105263, max_bin=140, max_depth=6, min_child_weight=0, min_data_in_leaf=0.08276034482758622, min_split_gain=0.10526315789473684, n_estimators=25, n_jobs=1, num_leaves=164, problem_info=ProblemInfo(gpu_training_param_dict={'processing_unit_type': 'cpu'}), random_state=None, reg_alpha=0.3157894736842105, reg_lambda=0.3157894736842105, subsample=0.5942105263157895))], verbose=False)), ('28', Pipeline(memory=None, steps=[('maxabsscaler', MaxAbsScaler(copy=True)), ('gradientboostingclassifier', GradientBoostingClassifier(ccp_alpha=0.0, criterion='friedman_mse', init=None, learning_rate=0.1, loss='deviance', max_depth=4, max_features=0.7, max_leaf_nodes=None, min_impurity_decrease=0.0, min_impurity_split=None, min_samples_leaf=0.01, min_samples_split=0.38473684210526315, min_weight_fraction_leaf=0.0, n_estimators=25, n_iter_no_change=None, presort='deprecated', random_state=None, subsample=0.8105263157894737, tol=0.0001, validation_fraction=0.1, verbose=0, warm_start=False))], verbose=False)), ('1', Pipeline(memory=None, steps=[('maxabsscaler', MaxAbsScaler(copy=True)), ('xgboostclassifier', XGBoostClassifier(n_jobs=1, problem_info=ProblemInfo(gpu_training_param_dict={'processing_unit_type': 'cpu'}), random_state=0, tree_method='auto'))], verbose=False)), ('2', Pipeline(memory=None, steps=[('maxabsscaler', MaxAbsScaler(copy=True)), ('extratreesclassifier', ExtraTreesClassifier(bootstrap=False, ccp_alpha=0.0, class_weight=None, criterion='gini', max_depth=None, max_features=0.7, max_leaf_nodes=None, max_samples=None, min_impurity_decrease=0.0, min_impurity_split=None, min_samples_leaf=0.035789473684210524, min_samples_split=0.01, min_weight_fraction_leaf=0.0, n_estimators=10, n_jobs=1, oob_score=False, random_state=None, verbose=0, warm_start=False))], verbose=False)), ('3', Pipeline(memory=None, steps=[('maxabsscaler', MaxAbsScaler(copy=True)), ('randomforestclassifier', RandomForestClassifier(bootstrap=True, ccp_alpha=0.0, class_weight=None, criterion='gini', max_depth=None, max_features='log2', max_leaf_nodes=None, max_samples=None, min_impurity_decrease=0.0, min_impurity_split=None, min_samples_leaf=0.01, min_samples_split=0.01, min_weight_fraction_leaf=0.0, n_estimators=10, n_jobs=1, oob_score=False, random_state=None, verbose=0, warm_start=False))], verbose=False)), ('6', Pipeline(memory=None, steps=[('sparsenormalizer', Normalizer(copy=True, norm='max')), ('xgboostclassifier', XGBoostClassifier(booster='gbtree', colsample_bytree=0.8, eta=0.3, gamma=0, max_depth=6, max_leaves=0, n_estimators=10, n_jobs=1, objective='reg:logistic', problem_info=ProblemInfo(gpu_training_param_dict={'processing_unit_type': 'cpu'}), random_state=0, reg_alpha=0, reg_lambda=0.625, subsample=0.8, tree_method='auto'))], verbose=False)), ('15', Pipeline(memory=None, steps=[('sparsenormalizer', Normalizer(copy=True, norm='max')), ('xgboostclassifier', XGBoostClassifier(booster='gbtree', colsample_bytree=0.8, eta=0.3, gamma=0.1, max_depth=10, max_leaves=63, n_estimators=10, n_jobs=1, objective='reg:logistic', problem_info=ProblemInfo(gpu_training_param_dict={'processing_unit_type': 'cpu'}), random_state=0, reg_alpha=1.25, reg_lambda=0.7291666666666667, subsample=1, tree_method='auto'))], verbose=False)), ('27', Pipeline(memory=None, steps=[('standardscalerwrapper', StandardScalerWrapper(copy=True, with_mean=False, with_std=True)), ('svcwrapper', SVCWrapper(C=2.559547922699533, break_ties=False, cache_size=200, class_weight='balanced', coef0=0.0, decision_function_shape='ovr', degree=3, gamma='scale', kernel='rbf', max_iter=-1, probability=True, random_state=None, shrinking=True, tol=0.001, verbose=False))], verbose=False)), ('5', Pipeline(memory=None, steps=[('standardscalerwrapper', StandardScalerWrapper(copy=True, with_mean=True, with_std=False)), ('kneighborsclassifier', KNeighborsClassifier(algorithm='auto', leaf_size=30, metric='cityblock', metric_params=None, n_jobs=1, n_neighbors=29, p=2, weights='distance'))], verbose=False))], flatten_transform=None, weights=[0.06666666666666667, 0.06666666666666667, 0.2, 0.06666666666666667, 0.06666666666666667, 0.06666666666666667, 0.13333333333333333, 0.13333333333333333, 0.06666666666666667, 0.06666666666666667, 0.06666666666666667]))],\n         verbose=False)\n"
        }
      ],
      "execution_count": 29,
      "metadata": {
        "jupyter": {
          "source_hidden": false,
          "outputs_hidden": false
        },
        "nteract": {
          "transient": {
            "deleting": false
          }
        },
        "gather": {
          "logged": 1689858707567
        }
      }
    },
    {
      "cell_type": "code",
      "source": [
        "best_run.get_metrics()"
      ],
      "outputs": [
        {
          "output_type": "execute_result",
          "execution_count": 27,
          "data": {
            "text/plain": "{'matthews_correlation': 0.67481831452031,\n 'norm_macro_recall': 0.6514714839424143,\n 'AUC_macro': 0.9203002722406792,\n 'log_loss': 0.38299137905300257,\n 'weighted_accuracy': 0.8769823482837316,\n 'precision_score_macro': 0.8511980828805216,\n 'f1_score_micro': 0.8562146892655367,\n 'AUC_micro': 0.9197659516741676,\n 'f1_score_weighted': 0.851005090871357,\n 'recall_score_macro': 0.8257357419712072,\n 'average_precision_score_macro': 0.9048090328160298,\n 'precision_score_weighted': 0.8683746221504934,\n 'average_precision_score_weighted': 0.9283670277220428,\n 'f1_score_macro': 0.826143842554149,\n 'recall_score_weighted': 0.8562146892655367,\n 'recall_score_micro': 0.8562146892655367,\n 'accuracy': 0.8562146892655367,\n 'average_precision_score_micro': 0.9234561593302612,\n 'balanced_accuracy': 0.8257357419712072,\n 'AUC_weighted': 0.9203002722406793,\n 'precision_score_micro': 0.8562146892655367,\n 'accuracy_table': 'aml://artifactId/ExperimentRun/dcid.AutoML_da6d54f5-5de1-4460-bed3-1daabd5092fe_32/accuracy_table',\n 'confusion_matrix': 'aml://artifactId/ExperimentRun/dcid.AutoML_da6d54f5-5de1-4460-bed3-1daabd5092fe_32/confusion_matrix'}"
          },
          "metadata": {}
        }
      ],
      "execution_count": 27,
      "metadata": {
        "jupyter": {
          "source_hidden": false,
          "outputs_hidden": false
        },
        "nteract": {
          "transient": {
            "deleting": false
          }
        },
        "gather": {
          "logged": 1689858230957
        }
      }
    },
    {
      "cell_type": "markdown",
      "source": [
        "## Model Deployment\n",
        "\n",
        "Remember you have to deploy only one of the two models you trained but you still need to register both the models. Perform the steps in the rest of this notebook only if you wish to deploy this model.\n",
        "\n",
        "TODO: In the cell below, register the model, create an inference config and deploy the model as a web service."
      ],
      "metadata": {}
    },
    {
      "cell_type": "code",
      "source": [
        "remote_run.register_model()"
      ],
      "outputs": [
        {
          "output_type": "execute_result",
          "execution_count": 30,
          "data": {
            "text/plain": "Model(workspace=Workspace.create(name='quick-starts-ws-238978', subscription_id='976ee174-3882-4721-b90a-b5fef6b72f24', resource_group='aml-quickstarts-238978'), name=AutoMLda6d54f5532, id=AutoMLda6d54f5532:1, version=1, tags={}, properties={})"
          },
          "metadata": {}
        }
      ],
      "execution_count": 30,
      "metadata": {
        "gather": {
          "logged": 1689858977017
        },
        "jupyter": {
          "outputs_hidden": false,
          "source_hidden": false
        },
        "nteract": {
          "transient": {
            "deleting": false
          }
        }
      }
    },
    {
      "cell_type": "markdown",
      "source": [
        "TODO: In the cell below, send a request to the web service you deployed to test it."
      ],
      "metadata": {
        "collapsed": true,
        "gather": {
          "logged": 1598431657736
        },
        "jupyter": {
          "outputs_hidden": false,
          "source_hidden": false
        },
        "nteract": {
          "transient": {
            "deleting": false
          }
        }
      }
    },
    {
      "cell_type": "code",
      "source": [],
      "outputs": [],
      "execution_count": null,
      "metadata": {
        "gather": {
          "logged": 1598432707604
        },
        "jupyter": {
          "outputs_hidden": false,
          "source_hidden": false
        },
        "nteract": {
          "transient": {
            "deleting": false
          }
        }
      }
    },
    {
      "cell_type": "markdown",
      "source": [
        "TODO: In the cell below, print the logs of the web service and delete the service"
      ],
      "metadata": {
        "collapsed": true,
        "gather": {
          "logged": 1598432765711
        },
        "jupyter": {
          "outputs_hidden": false,
          "source_hidden": false
        },
        "nteract": {
          "transient": {
            "deleting": false
          }
        }
      }
    },
    {
      "cell_type": "code",
      "source": [],
      "outputs": [],
      "execution_count": null,
      "metadata": {
        "jupyter": {
          "outputs_hidden": false,
          "source_hidden": false
        },
        "nteract": {
          "transient": {
            "deleting": false
          }
        }
      }
    },
    {
      "cell_type": "markdown",
      "source": [
        "**Submission Checklist**\n",
        "- I have registered the model.\n",
        "- I have deployed the model with the best accuracy as a webservice.\n",
        "- I have tested the webservice by sending a request to the model endpoint.\n",
        "- I have deleted the webservice and shutdown all the computes that I have used.\n",
        "- I have taken a screenshot showing the model endpoint as active.\n",
        "- The project includes a file containing the environment details.\n"
      ],
      "metadata": {}
    },
    {
      "cell_type": "markdown",
      "source": [],
      "metadata": {}
    }
  ],
  "metadata": {
    "kernel_info": {
      "name": "python38-azureml"
    },
    "kernelspec": {
      "name": "python38-azureml",
      "language": "python",
      "display_name": "Python 3.8 - AzureML"
    },
    "language_info": {
      "name": "python",
      "version": "3.8.5",
      "mimetype": "text/x-python",
      "codemirror_mode": {
        "name": "ipython",
        "version": 3
      },
      "pygments_lexer": "ipython3",
      "nbconvert_exporter": "python",
      "file_extension": ".py"
    },
    "nteract": {
      "version": "nteract-front-end@1.0.0"
    },
    "microsoft": {
      "host": {
        "AzureML": {
          "notebookHasBeenCompleted": true
        }
      },
      "ms_spell_check": {
        "ms_spell_check_language": "en"
      }
    }
  },
  "nbformat": 4,
  "nbformat_minor": 2
}