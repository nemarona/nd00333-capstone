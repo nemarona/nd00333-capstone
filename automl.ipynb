{
  "cells": [
    {
      "cell_type": "markdown",
      "source": [
        "# Automated ML\n",
        "\n",
        "In the cell below, we import all the dependencies that we need to complete the project."
      ],
      "metadata": {}
    },
    {
      "cell_type": "code",
      "source": [
        "from azureml.core import Workspace, Dataset\r\n",
        "from azureml.core.experiment import Experiment\r\n",
        "from azureml.train.automl import AutoMLConfig\r\n",
        "from azureml.widgets import RunDetails\r\n",
        "from azureml.pipeline.steps import AutoMLStep"
      ],
      "outputs": [],
      "execution_count": 1,
      "metadata": {
        "gather": {
          "logged": 1691007535009
        },
        "jupyter": {
          "outputs_hidden": false,
          "source_hidden": false
        },
        "nteract": {
          "transient": {
            "deleting": false
          }
        }
      }
    },
    {
      "cell_type": "markdown",
      "source": [
        "## Dataset\n",
        "\n",
        "### Overview\n",
        "\n",
        "For this final project we'll be using the [Heart Failure Prediction](https://www.kaggle.com/datasets/andrewmvd/heart-failure-clinical-data) dataset from Kaggle.\n",
        "\n",
        "This dataset contains medical records for 299 patients with hear failure,\n",
        "along with a column indicating survival as a binary variable.\n",
        "Our goal is to predict survival from the rest of the data.\n",
        "This means that we are faced with a classification problem with two classes."
      ],
      "metadata": {}
    },
    {
      "cell_type": "code",
      "source": [
        "workspace = Workspace.from_config()\n",
        "\n",
        "experiment_name = 'edu_hf_automl_exp'\n",
        "experiment = Experiment(workspace, experiment_name)\n",
        "\n",
        "compute_cluster_name = \"edu-compute-cluster\"\n",
        "compute_target = workspace.compute_targets[compute_cluster_name]\n",
        "\n",
        "dataset_name = 'edu_heart_failure_dataset'\n",
        "dataset = Dataset.get_by_name(workspace, name=dataset_name)"
      ],
      "outputs": [],
      "execution_count": 3,
      "metadata": {
        "gather": {
          "logged": 1691007664605
        },
        "jupyter": {
          "outputs_hidden": false,
          "source_hidden": false
        },
        "nteract": {
          "transient": {
            "deleting": false
          }
        }
      }
    },
    {
      "cell_type": "code",
      "source": [
        "df = dataset.to_pandas_dataframe()\r\n",
        "df.head()"
      ],
      "outputs": [
        {
          "output_type": "execute_result",
          "execution_count": 4,
          "data": {
            "text/plain": "    age  anaemia  creatinine_phosphokinase  diabetes  ejection_fraction  \\\n0  75.0        0                       582         0                 20   \n1  55.0        0                      7861         0                 38   \n2  65.0        0                       146         0                 20   \n3  50.0        1                       111         0                 20   \n4  65.0        1                       160         1                 20   \n\n   high_blood_pressure  platelets  serum_creatinine  serum_sodium  sex  \\\n0                    1  265000.00               1.9           130    1   \n1                    0  263358.03               1.1           136    1   \n2                    0  162000.00               1.3           129    1   \n3                    0  210000.00               1.9           137    1   \n4                    0  327000.00               2.7           116    0   \n\n   smoking  time  DEATH_EVENT  \n0        0     4            1  \n1        0     6            1  \n2        1     7            1  \n3        0     7            1  \n4        0     8            1  ",
            "text/html": "<div>\n<style scoped>\n    .dataframe tbody tr th:only-of-type {\n        vertical-align: middle;\n    }\n\n    .dataframe tbody tr th {\n        vertical-align: top;\n    }\n\n    .dataframe thead th {\n        text-align: right;\n    }\n</style>\n<table border=\"1\" class=\"dataframe\">\n  <thead>\n    <tr style=\"text-align: right;\">\n      <th></th>\n      <th>age</th>\n      <th>anaemia</th>\n      <th>creatinine_phosphokinase</th>\n      <th>diabetes</th>\n      <th>ejection_fraction</th>\n      <th>high_blood_pressure</th>\n      <th>platelets</th>\n      <th>serum_creatinine</th>\n      <th>serum_sodium</th>\n      <th>sex</th>\n      <th>smoking</th>\n      <th>time</th>\n      <th>DEATH_EVENT</th>\n    </tr>\n  </thead>\n  <tbody>\n    <tr>\n      <th>0</th>\n      <td>75.0</td>\n      <td>0</td>\n      <td>582</td>\n      <td>0</td>\n      <td>20</td>\n      <td>1</td>\n      <td>265000.00</td>\n      <td>1.9</td>\n      <td>130</td>\n      <td>1</td>\n      <td>0</td>\n      <td>4</td>\n      <td>1</td>\n    </tr>\n    <tr>\n      <th>1</th>\n      <td>55.0</td>\n      <td>0</td>\n      <td>7861</td>\n      <td>0</td>\n      <td>38</td>\n      <td>0</td>\n      <td>263358.03</td>\n      <td>1.1</td>\n      <td>136</td>\n      <td>1</td>\n      <td>0</td>\n      <td>6</td>\n      <td>1</td>\n    </tr>\n    <tr>\n      <th>2</th>\n      <td>65.0</td>\n      <td>0</td>\n      <td>146</td>\n      <td>0</td>\n      <td>20</td>\n      <td>0</td>\n      <td>162000.00</td>\n      <td>1.3</td>\n      <td>129</td>\n      <td>1</td>\n      <td>1</td>\n      <td>7</td>\n      <td>1</td>\n    </tr>\n    <tr>\n      <th>3</th>\n      <td>50.0</td>\n      <td>1</td>\n      <td>111</td>\n      <td>0</td>\n      <td>20</td>\n      <td>0</td>\n      <td>210000.00</td>\n      <td>1.9</td>\n      <td>137</td>\n      <td>1</td>\n      <td>0</td>\n      <td>7</td>\n      <td>1</td>\n    </tr>\n    <tr>\n      <th>4</th>\n      <td>65.0</td>\n      <td>1</td>\n      <td>160</td>\n      <td>1</td>\n      <td>20</td>\n      <td>0</td>\n      <td>327000.00</td>\n      <td>2.7</td>\n      <td>116</td>\n      <td>0</td>\n      <td>0</td>\n      <td>8</td>\n      <td>1</td>\n    </tr>\n  </tbody>\n</table>\n</div>"
          },
          "metadata": {}
        }
      ],
      "execution_count": 4,
      "metadata": {
        "jupyter": {
          "source_hidden": false,
          "outputs_hidden": false
        },
        "nteract": {
          "transient": {
            "deleting": false
          }
        },
        "gather": {
          "logged": 1691007668664
        }
      }
    },
    {
      "cell_type": "markdown",
      "source": [
        "## AutoML Configuration\n",
        "\n",
        "In the cells below we use the AutoMLConfig class to configure several aspects of AutoML:\n",
        "- task is set to classification, which matches our use case\n",
        "- training_data is set to the dataset we instantiated above\n",
        "- label_column_name is the name of the target column, DEATH_EVENT\n",
        "- n_cross_validations=5 splits the dataset into five folds, using each of them in sequence as a test set while training on the remaining four, to better assess model performance\n",
        "- as primary metric to evaluate experiments we choose AUC weighted\n",
        "- early stopping is enabled, so that the experiment can end early if results are discouraging\n",
        "- we set a timeout of one hour to avoid running out of time with the Udacity VM\n",
        "- as compute_target we choose a compute cluster we created beforehand"
      ],
      "metadata": {}
    },
    {
      "cell_type": "code",
      "source": [
        "target_column = \"DEATH_EVENT\"\n",
        "\n",
        "automl_settings = {\n",
        "    \"task\": \"classification\",\n",
        "    \"primary_metric\": \"AUC_weighted\",\n",
        "    \"training_data\": dataset,\n",
        "    \"label_column_name\": target_column,\n",
        "    \"n_cross_validations\": 5,\n",
        "    \"compute_target\": compute_target,\n",
        "    \"enable_early_stopping\": True,\n",
        "    \"experiment_timeout_hours\": 1\n",
        "}\n",
        "\n",
        "automl_config = AutoMLConfig(**automl_settings)"
      ],
      "outputs": [],
      "execution_count": 5,
      "metadata": {
        "gather": {
          "logged": 1691007735726
        },
        "jupyter": {
          "outputs_hidden": false,
          "source_hidden": false
        },
        "nteract": {
          "transient": {
            "deleting": false
          }
        }
      }
    },
    {
      "cell_type": "code",
      "source": [
        "automl_run = experiment.submit(automl_config)"
      ],
      "outputs": [
        {
          "output_type": "stream",
          "name": "stdout",
          "text": "Submitting remote run.\n"
        },
        {
          "output_type": "display_data",
          "data": {
            "text/html": "<table style=\"width:100%\"><tr><th>Experiment</th><th>Id</th><th>Type</th><th>Status</th><th>Details Page</th><th>Docs Page</th></tr><tr><td>edu_hf_automl_exp</td><td>AutoML_f83e72a8-31c1-43a6-9208-6ead30c98832</td><td>automl</td><td>NotStarted</td><td><a href=\"https://ml.azure.com/runs/AutoML_f83e72a8-31c1-43a6-9208-6ead30c98832?wsid=/subscriptions/510b94ba-e453-4417-988b-fbdc37b55ca7/resourcegroups/aml-quickstarts-239639/workspaces/quick-starts-ws-239639&amp;tid=660b3398-b80e-49d2-bc5b-ac1dc93b5254\" target=\"_blank\" rel=\"noopener\">Link to Azure Machine Learning studio</a></td><td><a href=\"https://docs.microsoft.com/en-us/python/api/overview/azure/ml/intro?view=azure-ml-py\" target=\"_blank\" rel=\"noopener\">Link to Documentation</a></td></tr></table>"
          },
          "metadata": {}
        }
      ],
      "execution_count": 6,
      "metadata": {
        "jupyter": {
          "source_hidden": false,
          "outputs_hidden": false
        },
        "nteract": {
          "transient": {
            "deleting": false
          }
        },
        "gather": {
          "logged": 1691008121183
        }
      }
    },
    {
      "cell_type": "markdown",
      "source": [
        "## Run Details"
      ],
      "metadata": {}
    },
    {
      "cell_type": "code",
      "source": [
        "RunDetails(automl_run).show()"
      ],
      "outputs": [
        {
          "output_type": "display_data",
          "data": {
            "text/plain": "_AutoMLWidget(widget_settings={'childWidgetDisplay': 'popup', 'send_telemetry': False, 'log_level': 'INFO', 's…",
            "application/vnd.jupyter.widget-view+json": {
              "version_major": 2,
              "version_minor": 0,
              "model_id": "f861f33fe25546a8b6191dd6127578fb"
            }
          },
          "metadata": {}
        },
        {
          "output_type": "display_data",
          "data": {
            "application/aml.mini.widget.v1": "{\"status\": \"Completed\", \"workbench_run_details_uri\": \"https://ml.azure.com/runs/AutoML_f83e72a8-31c1-43a6-9208-6ead30c98832?wsid=/subscriptions/510b94ba-e453-4417-988b-fbdc37b55ca7/resourcegroups/aml-quickstarts-239639/workspaces/quick-starts-ws-239639&tid=660b3398-b80e-49d2-bc5b-ac1dc93b5254\", \"run_id\": \"AutoML_f83e72a8-31c1-43a6-9208-6ead30c98832\", \"run_properties\": {\"run_id\": \"AutoML_f83e72a8-31c1-43a6-9208-6ead30c98832\", \"created_utc\": \"2023-08-02T20:28:40.26607Z\", \"properties\": {\"num_iterations\": \"1000\", \"training_type\": \"TrainFull\", \"acquisition_function\": \"EI\", \"primary_metric\": \"AUC_weighted\", \"train_split\": \"0\", \"acquisition_parameter\": \"0\", \"num_cross_validation\": \"5\", \"target\": \"edu-compute-cluster\", \"AMLSettingsJsonString\": \"{\\\"path\\\":null,\\\"name\\\":\\\"edu_hf_automl_exp\\\",\\\"subscription_id\\\":\\\"510b94ba-e453-4417-988b-fbdc37b55ca7\\\",\\\"resource_group\\\":\\\"aml-quickstarts-239639\\\",\\\"workspace_name\\\":\\\"quick-starts-ws-239639\\\",\\\"region\\\":\\\"southcentralus\\\",\\\"compute_target\\\":\\\"edu-compute-cluster\\\",\\\"spark_service\\\":null,\\\"azure_service\\\":\\\"remote\\\",\\\"many_models\\\":false,\\\"pipeline_fetch_max_batch_size\\\":1,\\\"enable_batch_run\\\":true,\\\"enable_parallel_run\\\":false,\\\"num_procs\\\":null,\\\"enable_run_restructure\\\":false,\\\"start_auxiliary_runs_before_parent_complete\\\":false,\\\"enable_code_generation\\\":true,\\\"iterations\\\":1000,\\\"primary_metric\\\":\\\"AUC_weighted\\\",\\\"task_type\\\":\\\"classification\\\",\\\"positive_label\\\":null,\\\"data_script\\\":null,\\\"test_size\\\":0.0,\\\"test_include_predictions_only\\\":false,\\\"validation_size\\\":0.0,\\\"n_cross_validations\\\":5,\\\"y_min\\\":null,\\\"y_max\\\":null,\\\"num_classes\\\":null,\\\"featurization\\\":\\\"auto\\\",\\\"_ignore_package_version_incompatibilities\\\":false,\\\"is_timeseries\\\":false,\\\"max_cores_per_iteration\\\":1,\\\"max_concurrent_iterations\\\":1,\\\"iteration_timeout_minutes\\\":null,\\\"mem_in_mb\\\":null,\\\"enforce_time_on_windows\\\":false,\\\"experiment_timeout_minutes\\\":60,\\\"experiment_exit_score\\\":null,\\\"partition_column_names\\\":null,\\\"whitelist_models\\\":null,\\\"blacklist_algos\\\":[\\\"TensorFlowLinearClassifier\\\",\\\"TensorFlowDNN\\\"],\\\"supported_models\\\":[\\\"SGD\\\",\\\"DecisionTree\\\",\\\"SVM\\\",\\\"RandomForest\\\",\\\"XGBoostClassifier\\\",\\\"LinearSVM\\\",\\\"TabnetClassifier\\\",\\\"AveragedPerceptronClassifier\\\",\\\"LightGBM\\\",\\\"TensorFlowDNN\\\",\\\"TensorFlowLinearClassifier\\\",\\\"BernoulliNaiveBayes\\\",\\\"KNN\\\",\\\"LogisticRegression\\\",\\\"GradientBoosting\\\",\\\"ExtremeRandomTrees\\\",\\\"MultinomialNaiveBayes\\\"],\\\"private_models\\\":[],\\\"auto_blacklist\\\":true,\\\"blacklist_samples_reached\\\":false,\\\"exclude_nan_labels\\\":true,\\\"verbosity\\\":20,\\\"_debug_log\\\":\\\"azureml_automl.log\\\",\\\"show_warnings\\\":false,\\\"model_explainability\\\":true,\\\"service_url\\\":null,\\\"sdk_url\\\":null,\\\"sdk_packages\\\":null,\\\"enable_onnx_compatible_models\\\":false,\\\"enable_split_onnx_featurizer_estimator_models\\\":false,\\\"vm_type\\\":\\\"STANDARD_DS3_V2\\\",\\\"telemetry_verbosity\\\":20,\\\"send_telemetry\\\":true,\\\"enable_dnn\\\":false,\\\"scenario\\\":\\\"AutoML\\\",\\\"environment_label\\\":null,\\\"save_mlflow\\\":false,\\\"enable_categorical_indicators\\\":false,\\\"force_text_dnn\\\":false,\\\"enable_feature_sweeping\\\":true,\\\"enable_early_stopping\\\":true,\\\"early_stopping_n_iters\\\":10,\\\"arguments\\\":null,\\\"dataset_id\\\":\\\"f15db06f-e85d-44da-ba20-02cde6d4ed60\\\",\\\"hyperdrive_config\\\":null,\\\"validation_dataset_id\\\":null,\\\"run_source\\\":null,\\\"metrics\\\":null,\\\"enable_metric_confidence\\\":false,\\\"enable_ensembling\\\":true,\\\"enable_stack_ensembling\\\":true,\\\"ensemble_iterations\\\":15,\\\"enable_tf\\\":false,\\\"enable_subsampling\\\":null,\\\"subsample_seed\\\":null,\\\"enable_nimbusml\\\":false,\\\"enable_streaming\\\":false,\\\"force_streaming\\\":false,\\\"track_child_runs\\\":true,\\\"n_best_runs\\\":1,\\\"allowed_private_models\\\":[],\\\"label_column_name\\\":\\\"DEATH_EVENT\\\",\\\"weight_column_name\\\":null,\\\"cv_split_column_names\\\":null,\\\"enable_local_managed\\\":false,\\\"_local_managed_run_id\\\":null,\\\"cost_mode\\\":1,\\\"lag_length\\\":0,\\\"metric_operation\\\":\\\"maximize\\\",\\\"preprocess\\\":true}\", \"DataPrepJsonString\": \"{\\\\\\\"training_data\\\\\\\": {\\\\\\\"datasetId\\\\\\\": \\\\\\\"f15db06f-e85d-44da-ba20-02cde6d4ed60\\\\\\\"}, \\\\\\\"datasets\\\\\\\": 0}\", \"EnableSubsampling\": null, \"runTemplate\": \"AutoML\", \"azureml.runsource\": \"automl\", \"display_task_type\": \"classification\", \"dependencies_versions\": \"{\\\"azureml-dataprep-native\\\": \\\"38.0.0\\\", \\\"azureml-dataprep\\\": \\\"4.10.8\\\", \\\"azureml-dataprep-rslex\\\": \\\"2.17.12\\\", \\\"azureml-train-automl-runtime\\\": \\\"1.51.0.post2\\\", \\\"azureml-train-automl-client\\\": \\\"1.51.0.post1\\\", \\\"azureml-training-tabular\\\": \\\"1.51.0.post1\\\", \\\"azureml-automl-runtime\\\": \\\"1.51.0.post1\\\", \\\"azureml-automl-core\\\": \\\"1.51.0.post1\\\", \\\"azureml-mlflow\\\": \\\"1.51.0\\\", \\\"azureml-datadrift\\\": \\\"1.51.0\\\", \\\"azureml-pipeline\\\": \\\"1.51.0\\\", \\\"azureml-contrib-dataset\\\": \\\"1.51.0\\\", \\\"azureml-contrib-notebook\\\": \\\"1.51.0\\\", \\\"azureml-accel-models\\\": \\\"1.51.0\\\", \\\"azureml-automl-dnn-nlp\\\": \\\"1.51.0\\\", \\\"azureml-pipeline-core\\\": \\\"1.51.0\\\", \\\"azureml-responsibleai\\\": \\\"1.51.0\\\", \\\"azureml-contrib-automl-pipeline-steps\\\": \\\"1.51.0\\\", \\\"azureml-pipeline-steps\\\": \\\"1.51.0\\\", \\\"azureml-core\\\": \\\"1.51.0\\\", \\\"azureml-contrib-reinforcementlearning\\\": \\\"1.51.0\\\", \\\"azureml-contrib-server\\\": \\\"1.51.0\\\", \\\"azureml-opendatasets\\\": \\\"1.51.0\\\", \\\"azureml-contrib-services\\\": \\\"1.51.0\\\", \\\"azureml-telemetry\\\": \\\"1.51.0\\\", \\\"azureml-train-restclients-hyperdrive\\\": \\\"1.51.0\\\", \\\"azureml-interpret\\\": \\\"1.51.0\\\", \\\"azureml-train-core\\\": \\\"1.51.0\\\", \\\"azureml-tensorboard\\\": \\\"1.51.0\\\", \\\"azureml-train\\\": \\\"1.51.0\\\", \\\"azureml-contrib-pipeline-steps\\\": \\\"1.51.0\\\", \\\"azureml-explain-model\\\": \\\"1.51.0\\\", \\\"azureml-cli-common\\\": \\\"1.51.0\\\", \\\"azureml-widgets\\\": \\\"1.51.0\\\", \\\"azureml-train-automl\\\": \\\"1.51.0\\\", \\\"azureml-defaults\\\": \\\"1.51.0\\\", \\\"azureml-contrib-fairness\\\": \\\"1.51.0\\\", \\\"azureml-sdk\\\": \\\"1.51.0\\\", \\\"azureml-dataset-runtime\\\": \\\"1.51.0\\\", \\\"azureml-inference-server-http\\\": \\\"0.8.4\\\"}\", \"_aml_system_scenario_identification\": \"Remote.Parent\", \"ClientType\": \"SDK\", \"PlatformVersion\": \"DPV1\", \"environment_cpu_name\": \"AzureML-AutoML\", \"environment_cpu_label\": \"prod\", \"environment_gpu_name\": \"AzureML-AutoML-GPU\", \"environment_gpu_label\": \"prod\", \"root_attribution\": \"automl\", \"attribution\": \"AutoML\", \"Orchestrator\": \"AutoML\", \"CancelUri\": \"https://southcentralus.api.azureml.ms/jasmine/v1.0/subscriptions/510b94ba-e453-4417-988b-fbdc37b55ca7/resourceGroups/aml-quickstarts-239639/providers/Microsoft.MachineLearningServices/workspaces/quick-starts-ws-239639/experimentids/802a10ab-d1f7-4ef9-ae3a-69af5a4d31f7/cancel/AutoML_f83e72a8-31c1-43a6-9208-6ead30c98832\", \"ClientSdkVersion\": null, \"snapshotId\": \"00000000-0000-0000-0000-000000000000\", \"SetupRunId\": \"AutoML_f83e72a8-31c1-43a6-9208-6ead30c98832_setup\", \"SetupRunContainerId\": \"dcid.AutoML_f83e72a8-31c1-43a6-9208-6ead30c98832_setup\", \"FeaturizationRunJsonPath\": \"featurizer_container.json\", \"FeaturizationRunId\": \"AutoML_f83e72a8-31c1-43a6-9208-6ead30c98832_featurize\", \"ProblemInfoJsonString\": \"{\\\"dataset_num_categorical\\\": 0, \\\"is_sparse\\\": false, \\\"subsampling\\\": false, \\\"has_extra_col\\\": true, \\\"dataset_classes\\\": 2, \\\"dataset_features\\\": 12, \\\"dataset_samples\\\": 299, \\\"single_frequency_class_detected\\\": false}\", \"ModelExplainRunId\": \"AutoML_f83e72a8-31c1-43a6-9208-6ead30c98832_ModelExplain\"}, \"tags\": {\"model_explain_run\": \"best_run\", \"_aml_system_automl_run_workspace_id\": \"208eb737-f9f5-41e9-bde7-30528c2a928f\", \"_aml_system_azureml.automlComponent\": \"AutoML\", \"pipeline_id_000\": \"5dfac790c5c209f98a1da2dc1c7fb76f0397324f;c7af0367625be6ac5c2fecbfc72ed444cb7a2111;51ae05309834b29f71340af1008fc94fbd8213f4;ce2643edf3d450b10c86c7d034a9bc952dc282d3;039a99c3d5147edeb525249e2660628be3e8b83f;a18bd1af1629e8f96b25a32ac94e62b3bd9a9605;a3dadd95854bf6116ab454844302b51d417d78b7;1dfdf370ba770047b14bfa59c40920815defcdab;e92a63ad06df7b68a48ce96c06fad3fbf2a25ce2;5bc24cef89e67ee668d55e59548e1032cfbc7f0f;516a24fb1445632ecf04366c17b960ce157878b3;088b94df63b852cc8cba96bb2fa191ce8d1ef2e5;294650ec23bc3d067a4972de7ceb12f6e97260fa;634afb4b36be9286ca21289f56b5f7cdf1c72fa9;b983b703e4d6dbffd4a815a4d1c2ed94225c5027;681a59302459aec2cc115ddbc14e1d28f4b3b8df;4f207270c6817858b81b8050f1efa1d0053db52e;7ea0a64582be36507254a026ac98e9a5a49e1f34;6f4a466f84f725a47910c1dff062a1bb46df2a21;dea7fdbaedc77258dbfe31dbfed41e768ca38939;c74787cd2f0507b852a1ac70d504d83ac9bdec83;a72eb56f3d4aadb7b7f0149ba6e5f05657a95ca1;934fbda25f87f4703ab02c0796a38b132022d111;6e4605bac73a3e51646e783efd9e1bebbdc786f7;97de33fc9495ce56d912c835f2f4dc95b5b43fa2;081fcc1e391bd70ed67155e18e2eedbe9e4124ad;aa9bb1be0fdd90d85173de50544a9c238007a00e;3d3286de78cf766f0553387a5e3e5fd33b03d239;a72f5f8bff5848be9f741ac1a8e193de2503d4d9;08beaa6d00b990b063369da58205d39f353268ac;__AutoML_Ensemble__;__AutoML_Stack_Ensemble__\", \"score_000\": \"0.8923947259136213;0.8994019933554818;0.8751912606127723;0.8816931172613574;0.9041230620155039;0.4737845376522702;0.8930586355666298;0.8911850544481357;0.8421994509043929;0.901236018826135;0.8677544296788483;0.7861162559985234;0.8676549003322258;0.7557314737910668;0.8878479835732742;0.877890988372093;0.9083801910299003;0.8929382152085641;0.8867880906238463;0.8782219915097821;0.9075534791435954;0.9048535898855666;0.871172849760059;0.8293121539313401;0.9064752906976743;0.7258792797157623;0.8678999169435218;0.8925586471022516;0.9025564091915836;0.907279877260982;0.9240484957548911;0.910374400147656\", \"predicted_cost_000\": \"0;0;0.5;0.5;0.5;0.5;0.5;0.5;0.5;0.5;0.5;0.5;0.5;0.5;0.5;0.5;0.5;0.5;0.5;0.5;0.032751033675765345;0.014193358883337245;0.011144298268724193;0.08134658330043754;0.22675370444200854;0.18490199913931626;0.006419473430859336;0.039605439507672605;0.05620431780338589;0.1627762049270788;0;0\", \"fit_time_000\": \"0.0238098;0.0489912;0.017304800000000002;0.017198799999999997;0.0137816;0.0038136000000000003;0.0109964;0.190643;0.009613;0.07003079999999999;0.0110234;0.015384600000000002;0.0150764;0.0034512;0.0336684;0.0110572;0.0839108;0.0440088;0.0081068;0.378656;0.017666400000000002;0.1698618;0.0140578;0.0214792;0.7806919999999999;0.20867820000000004;0.0153418;0.0131712;0.1555296;0.241697;18;21\", \"training_percent_000\": \"100;100;100;100;100;100;100;100;100;100;100;100;100;100;100;100;100;100;100;100;100;100;100;100;100;100;100;100;100;100;100;100\", \"iteration_000\": \"0;1;2;3;4;5;6;7;8;9;10;11;12;13;14;15;16;17;18;19;20;21;22;23;24;25;26;27;28;29;30;31\", \"run_preprocessor_000\": \"MaxAbsScaler;MaxAbsScaler;MaxAbsScaler;MaxAbsScaler;StandardScalerWrapper;StandardScalerWrapper;SparseNormalizer;SparseNormalizer;RobustScaler;MinMaxScaler;StandardScalerWrapper;StandardScalerWrapper;StandardScalerWrapper;SparseNormalizer;RobustScaler;SparseNormalizer;MinMaxScaler;MinMaxScaler;SparseNormalizer;MaxAbsScaler;StandardScalerWrapper;StandardScalerWrapper;StandardScalerWrapper;RobustScaler;RobustScaler;MaxAbsScaler;StandardScalerWrapper;StandardScalerWrapper;StandardScalerWrapper;StandardScalerWrapper;;\", \"run_algorithm_000\": \"LightGBM;XGBoostClassifier;ExtremeRandomTrees;RandomForest;LightGBM;KNN;XGBoostClassifier;RandomForest;KNN;RandomForest;LogisticRegression;SVM;XGBoostClassifier;KNN;ExtremeRandomTrees;XGBoostClassifier;ExtremeRandomTrees;ExtremeRandomTrees;LightGBM;ExtremeRandomTrees;XGBoostClassifier;RandomForest;LogisticRegression;SVM;RandomForest;ExtremeRandomTrees;SVM;LightGBM;GradientBoosting;RandomForest;VotingEnsemble;StackEnsemble\", \"dynamic_allowlisting_iterations\": \"<25>;\", \"_aml_system_azureml.automl_early_exit_message\": \"No scores improved over last 10 iterations, so experiment stopped early. This early stopping behavior can be disabled by setting enable_early_stopping = False in AutoMLConfig for notebook/python SDK runs.\", \"automl_best_child_run_id\": \"AutoML_f83e72a8-31c1-43a6-9208-6ead30c98832_30\", \"model_explain_best_run_child_id\": \"AutoML_f83e72a8-31c1-43a6-9208-6ead30c98832_30\"}, \"end_time_utc\": \"2023-08-02T20:51:45.754572Z\", \"status\": \"Completed\", \"log_files\": {}, \"log_groups\": [], \"run_duration\": \"0:23:05\", \"run_number\": \"1691008120\", \"run_queued_details\": {\"status\": \"Completed\", \"details\": null}}, \"child_runs\": [{\"run_id\": \"AutoML_f83e72a8-31c1-43a6-9208-6ead30c98832_setup\", \"run_number\": 1691008132, \"metric\": null, \"status\": \"Completed\", \"run_type\": \"azureml.scriptrun\", \"training_percent\": null, \"start_time\": \"2023-08-02T20:29:18.298311Z\", \"end_time\": \"2023-08-02T20:30:27.037275Z\", \"created_time\": \"2023-08-02T20:28:52.332215Z\", \"created_time_dt\": \"2023-08-02T20:28:52.332215Z\", \"duration\": \"0:01:34\", \"iteration\": null, \"goal\": null, \"run_name\": \"Completed\", \"run_properties\": null}, {\"run_id\": \"AutoML_f83e72a8-31c1-43a6-9208-6ead30c98832_featurize\", \"run_number\": 1691008227, \"metric\": null, \"status\": \"Completed\", \"run_type\": \"automl.featurization\", \"training_percent\": null, \"start_time\": \"2023-08-02T20:30:27.872419Z\", \"end_time\": \"2023-08-02T20:31:52.554355Z\", \"created_time\": \"2023-08-02T20:30:27.442883Z\", \"created_time_dt\": \"2023-08-02T20:30:27.442883Z\", \"duration\": \"0:01:25\", \"iteration\": null, \"goal\": null, \"run_name\": \"Completed\", \"run_properties\": null}, {\"run_id\": \"AutoML_f83e72a8-31c1-43a6-9208-6ead30c98832_0\", \"run_number\": 1691008314, \"metric\": null, \"status\": \"Completed\", \"run_type\": null, \"training_percent\": \"100\", \"start_time\": \"2023-08-02T20:33:00.451736Z\", \"end_time\": \"2023-08-02T20:33:13.69233Z\", \"created_time\": \"2023-08-02T20:31:54.034522Z\", \"created_time_dt\": \"2023-08-02T20:31:54.034522Z\", \"duration\": \"0:01:19\", \"iteration\": \"0\", \"goal\": \"AUC_weighted_max\", \"run_name\": \"MaxAbsScaler, LightGBM\", \"run_properties\": \"copy=True\", \"primary_metric\": 0.89239473, \"best_metric\": 0.89239473}, {\"run_id\": \"AutoML_f83e72a8-31c1-43a6-9208-6ead30c98832_3\", \"run_number\": 1691008315, \"metric\": null, \"status\": \"Completed\", \"run_type\": null, \"training_percent\": \"100\", \"start_time\": \"2023-08-02T20:33:38.54188Z\", \"end_time\": \"2023-08-02T20:33:49.329521Z\", \"created_time\": \"2023-08-02T20:31:55.42054Z\", \"created_time_dt\": \"2023-08-02T20:31:55.42054Z\", \"duration\": \"0:01:53\", \"iteration\": \"3\", \"goal\": \"AUC_weighted_max\", \"run_name\": \"MaxAbsScaler, RandomForest\", \"run_properties\": \"copy=True\", \"primary_metric\": 0.88169312, \"best_metric\": 0.89239473}, {\"run_id\": \"AutoML_f83e72a8-31c1-43a6-9208-6ead30c98832_5\", \"run_number\": 1691008316, \"metric\": null, \"status\": \"Completed\", \"run_type\": null, \"training_percent\": \"100\", \"start_time\": \"2023-08-02T20:34:01.828609Z\", \"end_time\": \"2023-08-02T20:34:12.835329Z\", \"created_time\": \"2023-08-02T20:31:56.362749Z\", \"created_time_dt\": \"2023-08-02T20:31:56.362749Z\", \"duration\": \"0:02:16\", \"iteration\": \"5\", \"goal\": \"AUC_weighted_max\", \"run_name\": \"StandardScalerWrapper, KNN\", \"run_properties\": \"copy=True, with_mean=True, with_std=False\", \"primary_metric\": 0.47378454, \"best_metric\": 0.89239473}, {\"run_id\": \"AutoML_f83e72a8-31c1-43a6-9208-6ead30c98832_7\", \"run_number\": 1691008317, \"metric\": null, \"status\": \"Completed\", \"run_type\": null, \"training_percent\": \"100\", \"start_time\": \"2023-08-02T20:34:25.491835Z\", \"end_time\": \"2023-08-02T20:34:37.746512Z\", \"created_time\": \"2023-08-02T20:31:57.278095Z\", \"created_time_dt\": \"2023-08-02T20:31:57.278095Z\", \"duration\": \"0:02:40\", \"iteration\": \"7\", \"goal\": \"AUC_weighted_max\", \"run_name\": \"SparseNormalizer, RandomForest\", \"run_properties\": \"copy=True, norm='l2'\", \"primary_metric\": 0.89118505, \"best_metric\": 0.89239473}, {\"run_id\": \"AutoML_f83e72a8-31c1-43a6-9208-6ead30c98832_9\", \"run_number\": 1691008318, \"metric\": null, \"status\": \"Completed\", \"run_type\": null, \"training_percent\": \"100\", \"start_time\": \"2023-08-02T20:34:49.977853Z\", \"end_time\": \"2023-08-02T20:35:01.263615Z\", \"created_time\": \"2023-08-02T20:31:58.096781Z\", \"created_time_dt\": \"2023-08-02T20:31:58.096781Z\", \"duration\": \"0:03:03\", \"iteration\": \"9\", \"goal\": \"AUC_weighted_max\", \"run_name\": \"MinMaxScaler, RandomForest\", \"run_properties\": \"copy=True, feature_range=(0, 1\", \"primary_metric\": 0.90123602, \"best_metric\": 0.90123602}, {\"run_id\": \"AutoML_f83e72a8-31c1-43a6-9208-6ead30c98832_11\", \"run_number\": 1691008319, \"metric\": null, \"status\": \"Completed\", \"run_type\": null, \"training_percent\": \"100\", \"start_time\": \"2023-08-02T20:35:13.9434Z\", \"end_time\": \"2023-08-02T20:35:24.921111Z\", \"created_time\": \"2023-08-02T20:31:59.083163Z\", \"created_time_dt\": \"2023-08-02T20:31:59.083163Z\", \"duration\": \"0:03:25\", \"iteration\": \"11\", \"goal\": \"AUC_weighted_max\", \"run_name\": \"StandardScalerWrapper, SVM\", \"run_properties\": \"copy=True, with_mean=True, with_std=True\", \"primary_metric\": 0.78611626, \"best_metric\": 0.90123602}, {\"run_id\": \"AutoML_f83e72a8-31c1-43a6-9208-6ead30c98832_14\", \"run_number\": 1691008320, \"metric\": null, \"status\": \"Completed\", \"run_type\": null, \"training_percent\": \"100\", \"start_time\": \"2023-08-02T20:35:49.624298Z\", \"end_time\": \"2023-08-02T20:36:00.428955Z\", \"created_time\": \"2023-08-02T20:32:00.409641Z\", \"created_time_dt\": \"2023-08-02T20:32:00.409641Z\", \"duration\": \"0:04:00\", \"iteration\": \"14\", \"goal\": \"AUC_weighted_max\", \"run_name\": \"RobustScaler, ExtremeRandomTrees\", \"run_properties\": \"copy=True, quantile_range=[10, 90], with_centering=True,\\n             with_scaling=False\", \"primary_metric\": 0.88784798, \"best_metric\": 0.90123602}, {\"run_id\": \"AutoML_f83e72a8-31c1-43a6-9208-6ead30c98832_16\", \"run_number\": 1691008321, \"metric\": null, \"status\": \"Completed\", \"run_type\": null, \"training_percent\": \"100\", \"start_time\": \"2023-08-02T20:36:12.789845Z\", \"end_time\": \"2023-08-02T20:36:25.200653Z\", \"created_time\": \"2023-08-02T20:32:01.169237Z\", \"created_time_dt\": \"2023-08-02T20:32:01.169237Z\", \"duration\": \"0:04:24\", \"iteration\": \"16\", \"goal\": \"AUC_weighted_max\", \"run_name\": \"MinMaxScaler, ExtremeRandomTrees\", \"run_properties\": \"copy=True, feature_range=(0, 1\", \"primary_metric\": 0.90838019, \"best_metric\": 0.90838019}, {\"run_id\": \"AutoML_f83e72a8-31c1-43a6-9208-6ead30c98832_17\", \"run_number\": 1691008322, \"metric\": null, \"status\": \"Completed\", \"run_type\": null, \"training_percent\": \"100\", \"start_time\": \"2023-08-02T20:36:25.917469Z\", \"end_time\": \"2023-08-02T20:36:36.679183Z\", \"created_time\": \"2023-08-02T20:32:02.261514Z\", \"created_time_dt\": \"2023-08-02T20:32:02.261514Z\", \"duration\": \"0:04:34\", \"iteration\": \"17\", \"goal\": \"AUC_weighted_max\", \"run_name\": \"MinMaxScaler, ExtremeRandomTrees\", \"run_properties\": \"copy=True, feature_range=(0, 1\", \"primary_metric\": 0.89293822, \"best_metric\": 0.90838019}, {\"run_id\": \"AutoML_f83e72a8-31c1-43a6-9208-6ead30c98832_worker_0\", \"run_number\": 1691008323, \"metric\": null, \"status\": \"Completed\", \"run_type\": \"azureml.scriptrun\", \"training_percent\": null, \"start_time\": \"2023-08-02T20:32:11.941274Z\", \"end_time\": \"2023-08-02T20:37:11.874927Z\", \"created_time\": \"2023-08-02T20:32:03.682989Z\", \"created_time_dt\": \"2023-08-02T20:32:03.682989Z\", \"duration\": \"0:05:08\", \"iteration\": null, \"goal\": null, \"run_name\": \"Completed\", \"run_properties\": null}, {\"run_id\": \"AutoML_f83e72a8-31c1-43a6-9208-6ead30c98832_20\", \"run_number\": 1691008723, \"metric\": null, \"status\": \"Completed\", \"run_type\": \"azureml.scriptrun\", \"training_percent\": \"100\", \"start_time\": \"2023-08-02T20:38:51.415623Z\", \"end_time\": \"2023-08-02T20:40:05.149177Z\", \"created_time\": \"2023-08-02T20:38:43.284303Z\", \"created_time_dt\": \"2023-08-02T20:38:43.284303Z\", \"duration\": \"0:01:21\", \"iteration\": \"20\", \"goal\": \"AUC_weighted_max\", \"run_name\": \"StandardScalerWrapper, XGBoostClassifier\", \"run_properties\": \"copy=True, with_mean=False, with_std=False\", \"primary_metric\": 0.90755348, \"best_metric\": 0.90838019}, {\"run_id\": \"AutoML_f83e72a8-31c1-43a6-9208-6ead30c98832_21\", \"run_number\": 1691008806, \"metric\": null, \"status\": \"Completed\", \"run_type\": \"azureml.scriptrun\", \"training_percent\": \"100\", \"start_time\": \"2023-08-02T20:40:17.644077Z\", \"end_time\": \"2023-08-02T20:40:48.089709Z\", \"created_time\": \"2023-08-02T20:40:06.649425Z\", \"created_time_dt\": \"2023-08-02T20:40:06.649425Z\", \"duration\": \"0:00:41\", \"iteration\": \"21\", \"goal\": \"AUC_weighted_max\", \"run_name\": \"StandardScalerWrapper, RandomForest\", \"run_properties\": \"copy=True, with_mean=False, with_std=False\", \"primary_metric\": 0.90485359, \"best_metric\": 0.90838019}, {\"run_id\": \"AutoML_f83e72a8-31c1-43a6-9208-6ead30c98832_22\", \"run_number\": 1691008849, \"metric\": null, \"status\": \"Completed\", \"run_type\": \"azureml.scriptrun\", \"training_percent\": \"100\", \"start_time\": \"2023-08-02T20:40:56.899975Z\", \"end_time\": \"2023-08-02T20:41:25.380953Z\", \"created_time\": \"2023-08-02T20:40:49.559004Z\", \"created_time_dt\": \"2023-08-02T20:40:49.559004Z\", \"duration\": \"0:00:35\", \"iteration\": \"22\", \"goal\": \"AUC_weighted_max\", \"run_name\": \"StandardScalerWrapper, LogisticRegression\", \"run_properties\": \"copy=True, with_mean=False, with_std=True\", \"primary_metric\": 0.87117285, \"best_metric\": 0.90838019}, {\"run_id\": \"AutoML_f83e72a8-31c1-43a6-9208-6ead30c98832_23\", \"run_number\": 1691008886, \"metric\": null, \"status\": \"Completed\", \"run_type\": \"azureml.scriptrun\", \"training_percent\": \"100\", \"start_time\": \"2023-08-02T20:41:34.937004Z\", \"end_time\": \"2023-08-02T20:42:44.412928Z\", \"created_time\": \"2023-08-02T20:41:26.828079Z\", \"created_time_dt\": \"2023-08-02T20:41:26.828079Z\", \"duration\": \"0:01:17\", \"iteration\": \"23\", \"goal\": \"AUC_weighted_max\", \"run_name\": \"RobustScaler, SVM\", \"run_properties\": \"copy=True, quantile_range=[10, 90], with_centering=False,\\n             with_scaling=True\", \"primary_metric\": 0.82931215, \"best_metric\": 0.90838019}, {\"run_id\": \"AutoML_f83e72a8-31c1-43a6-9208-6ead30c98832_24\", \"run_number\": 1691008965, \"metric\": null, \"status\": \"Completed\", \"run_type\": \"azureml.scriptrun\", \"training_percent\": \"100\", \"start_time\": \"2023-08-02T20:42:58.520485Z\", \"end_time\": \"2023-08-02T20:44:17.761597Z\", \"created_time\": \"2023-08-02T20:42:45.918626Z\", \"created_time_dt\": \"2023-08-02T20:42:45.918626Z\", \"duration\": \"0:01:31\", \"iteration\": \"24\", \"goal\": \"AUC_weighted_max\", \"run_name\": \"RobustScaler, RandomForest\", \"run_properties\": \"copy=True, quantile_range=[25, 75], with_centering=False,\\n             with_scaling=True\", \"primary_metric\": 0.90647529, \"best_metric\": 0.90838019}, {\"run_id\": \"AutoML_f83e72a8-31c1-43a6-9208-6ead30c98832_25\", \"run_number\": 1691009060, \"metric\": null, \"status\": \"Completed\", \"run_type\": \"azureml.scriptrun\", \"training_percent\": \"100\", \"start_time\": \"2023-08-02T20:44:29.018831Z\", \"end_time\": \"2023-08-02T20:45:00.991127Z\", \"created_time\": \"2023-08-02T20:44:20.355474Z\", \"created_time_dt\": \"2023-08-02T20:44:20.355474Z\", \"duration\": \"0:00:40\", \"iteration\": \"25\", \"goal\": \"AUC_weighted_max\", \"run_name\": \"MaxAbsScaler, ExtremeRandomTrees\", \"run_properties\": \"copy=True\", \"primary_metric\": 0.72587928, \"best_metric\": 0.90838019}, {\"run_id\": \"AutoML_f83e72a8-31c1-43a6-9208-6ead30c98832_26\", \"run_number\": 1691009102, \"metric\": null, \"status\": \"Completed\", \"run_type\": \"azureml.scriptrun\", \"training_percent\": \"100\", \"start_time\": \"2023-08-02T20:45:10.081151Z\", \"end_time\": \"2023-08-02T20:46:22.503078Z\", \"created_time\": \"2023-08-02T20:45:02.327222Z\", \"created_time_dt\": \"2023-08-02T20:45:02.327222Z\", \"duration\": \"0:01:20\", \"iteration\": \"26\", \"goal\": \"AUC_weighted_max\", \"run_name\": \"StandardScalerWrapper, SVM\", \"run_properties\": \"copy=True, with_mean=False, with_std=True\", \"primary_metric\": 0.86789992, \"best_metric\": 0.90838019}, {\"run_id\": \"AutoML_f83e72a8-31c1-43a6-9208-6ead30c98832_27\", \"run_number\": 1691009183, \"metric\": null, \"status\": \"Completed\", \"run_type\": \"azureml.scriptrun\", \"training_percent\": \"100\", \"start_time\": \"2023-08-02T20:46:37.553607Z\", \"end_time\": \"2023-08-02T20:47:52.154568Z\", \"created_time\": \"2023-08-02T20:46:23.868673Z\", \"created_time_dt\": \"2023-08-02T20:46:23.868673Z\", \"duration\": \"0:01:28\", \"iteration\": \"27\", \"goal\": \"AUC_weighted_max\", \"run_name\": \"StandardScalerWrapper, LightGBM\", \"run_properties\": \"copy=True, with_mean=True, with_std=False\", \"primary_metric\": 0.89255865, \"best_metric\": 0.90838019}, {\"run_id\": \"AutoML_f83e72a8-31c1-43a6-9208-6ead30c98832_28\", \"run_number\": 1691009273, \"metric\": null, \"status\": \"Completed\", \"run_type\": \"azureml.scriptrun\", \"training_percent\": \"100\", \"start_time\": \"2023-08-02T20:48:06.827839Z\", \"end_time\": \"2023-08-02T20:48:38.690845Z\", \"created_time\": \"2023-08-02T20:47:53.472877Z\", \"created_time_dt\": \"2023-08-02T20:47:53.472877Z\", \"duration\": \"0:00:45\", \"iteration\": \"28\", \"goal\": \"AUC_weighted_max\", \"run_name\": \"StandardScalerWrapper, GradientBoosting\", \"run_properties\": \"copy=True, with_mean=True, with_std=False\", \"primary_metric\": 0.90255641, \"best_metric\": 0.90838019}, {\"run_id\": \"AutoML_f83e72a8-31c1-43a6-9208-6ead30c98832_29\", \"run_number\": 1691009320, \"metric\": null, \"status\": \"Completed\", \"run_type\": \"azureml.scriptrun\", \"training_percent\": \"100\", \"start_time\": \"2023-08-02T20:48:54.82654Z\", \"end_time\": \"2023-08-02T20:49:23.7992Z\", \"created_time\": \"2023-08-02T20:48:40.140548Z\", \"created_time_dt\": \"2023-08-02T20:48:40.140548Z\", \"duration\": \"0:00:43\", \"iteration\": \"29\", \"goal\": \"AUC_weighted_max\", \"run_name\": \"StandardScalerWrapper, RandomForest\", \"run_properties\": \"copy=True, with_mean=False, with_std=True\", \"primary_metric\": 0.90727988, \"best_metric\": 0.90838019}, {\"run_id\": \"AutoML_f83e72a8-31c1-43a6-9208-6ead30c98832_30\", \"run_number\": 1691009364, \"metric\": null, \"status\": \"Completed\", \"run_type\": \"azureml.scriptrun\", \"training_percent\": \"100\", \"start_time\": \"2023-08-02T20:49:40.1264Z\", \"end_time\": \"2023-08-02T20:50:34.700183Z\", \"created_time\": \"2023-08-02T20:49:24.593894Z\", \"created_time_dt\": \"2023-08-02T20:49:24.593894Z\", \"duration\": \"0:01:10\", \"iteration\": \"30\", \"goal\": \"AUC_weighted_max\", \"run_name\": \"VotingEnsemble\", \"run_properties\": \"classification_labels=numpy.array([0, 1]\", \"primary_metric\": 0.9240485, \"best_metric\": 0.9240485}, {\"run_id\": \"AutoML_f83e72a8-31c1-43a6-9208-6ead30c98832_31\", \"run_number\": 1691009438, \"metric\": null, \"status\": \"Completed\", \"run_type\": \"azureml.scriptrun\", \"training_percent\": \"100\", \"start_time\": \"2023-08-02T20:50:50.91869Z\", \"end_time\": \"2023-08-02T20:51:44.673258Z\", \"created_time\": \"2023-08-02T20:50:38.002965Z\", \"created_time_dt\": \"2023-08-02T20:50:38.002965Z\", \"duration\": \"0:01:06\", \"iteration\": \"31\", \"goal\": \"AUC_weighted_max\", \"run_name\": \"StackEnsemble\", \"run_properties\": \"base_learners=[('16', Pipeline(memory=None, steps=[('minmaxscaler', MinMaxScaler(copy=True, feature_range=(0, 1\", \"primary_metric\": 0.9103744, \"best_metric\": 0.9240485}], \"children_metrics\": {\"categories\": [0], \"series\": {\"f1_score_macro\": [{\"categories\": [\"0\", \"3\", \"5\", \"7\", \"9\", \"11\", \"14\", \"16\", \"17\", \"20\", \"21\", \"22\", \"23\", \"24\", \"25\", \"26\", \"27\", \"28\", \"29\", \"30\", \"31\"], \"mode\": \"markers\", \"name\": \"f1_score_macro\", \"stepped\": false, \"type\": \"scatter\", \"data\": [0.8120777859845001, 0.7894232212494623, 0.5260698898802347, 0.8159359471314414, 0.8039426443702782, 0.6384838050630328, 0.7942806039433963, 0.8234176000338704, 0.7793547561815397, 0.8061698949449981, 0.8149029933069167, 0.7562460329839753, 0.7224612492079323, 0.8080584443618093, 0.40276783177038933, 0.7408400278231634, 0.7676028363628983, 0.7947491633611138, 0.8170243528401423, 0.8280186557018453, 0.7414778599696488]}, {\"categories\": [\"0\", \"3\", \"5\", \"7\", \"9\", \"11\", \"14\", \"16\", \"17\", \"20\", \"21\", \"22\", \"23\", \"24\", \"25\", \"26\", \"27\", \"28\", \"29\", \"30\", \"31\"], \"mode\": \"lines\", \"name\": \"f1_score_macro_max\", \"stepped\": true, \"type\": \"scatter\", \"data\": [0.8120777859845001, 0.8120777859845001, 0.8120777859845001, 0.8159359471314414, 0.8159359471314414, 0.8159359471314414, 0.8159359471314414, 0.8234176000338704, 0.8234176000338704, 0.8234176000338704, 0.8234176000338704, 0.8234176000338704, 0.8234176000338704, 0.8234176000338704, 0.8234176000338704, 0.8234176000338704, 0.8234176000338704, 0.8234176000338704, 0.8234176000338704, 0.8280186557018453, 0.8280186557018453]}], \"f1_score_micro\": [{\"categories\": [\"0\", \"3\", \"5\", \"7\", \"9\", \"11\", \"14\", \"16\", \"17\", \"20\", \"21\", \"22\", \"23\", \"24\", \"25\", \"26\", \"27\", \"28\", \"29\", \"30\", \"31\"], \"mode\": \"markers\", \"name\": \"f1_score_micro\", \"stepped\": false, \"type\": \"scatter\", \"data\": [0.8428248587570621, 0.8261581920903953, 0.6556497175141243, 0.8428248587570621, 0.836045197740113, 0.7157062146892657, 0.822542372881356, 0.8561581920903955, 0.8126553672316383, 0.8359887005649718, 0.846045197740113, 0.7993220338983051, 0.776045197740113, 0.8393785310734463, 0.67909604519774, 0.7958757062146893, 0.8228248587570622, 0.8260451977401131, 0.8494350282485875, 0.8596610169491525, 0.8224293785310735]}, {\"categories\": [\"0\", \"3\", \"5\", \"7\", \"9\", \"11\", \"14\", \"16\", \"17\", \"20\", \"21\", \"22\", \"23\", \"24\", \"25\", \"26\", \"27\", \"28\", \"29\", \"30\", \"31\"], \"mode\": \"lines\", \"name\": \"f1_score_micro_max\", \"stepped\": true, \"type\": \"scatter\", \"data\": [0.8428248587570621, 0.8428248587570621, 0.8428248587570621, 0.8428248587570621, 0.8428248587570621, 0.8428248587570621, 0.8428248587570621, 0.8561581920903955, 0.8561581920903955, 0.8561581920903955, 0.8561581920903955, 0.8561581920903955, 0.8561581920903955, 0.8561581920903955, 0.8561581920903955, 0.8561581920903955, 0.8561581920903955, 0.8561581920903955, 0.8561581920903955, 0.8596610169491525, 0.8596610169491525]}], \"AUC_weighted\": [{\"categories\": [\"0\", \"3\", \"5\", \"7\", \"9\", \"11\", \"14\", \"16\", \"17\", \"20\", \"21\", \"22\", \"23\", \"24\", \"25\", \"26\", \"27\", \"28\", \"29\", \"30\", \"31\"], \"mode\": \"markers\", \"name\": \"AUC_weighted\", \"stepped\": false, \"type\": \"scatter\", \"data\": [0.8923947259136213, 0.8816931172613574, 0.4737845376522702, 0.8911850544481357, 0.901236018826135, 0.7861162559985234, 0.8878479835732742, 0.9083801910299003, 0.8929382152085641, 0.9075534791435954, 0.9048535898855666, 0.871172849760059, 0.8293121539313401, 0.9064752906976743, 0.7258792797157623, 0.8678999169435218, 0.8925586471022516, 0.9025564091915836, 0.907279877260982, 0.9240484957548911, 0.910374400147656]}, {\"categories\": [\"0\", \"3\", \"5\", \"7\", \"9\", \"11\", \"14\", \"16\", \"17\", \"20\", \"21\", \"22\", \"23\", \"24\", \"25\", \"26\", \"27\", \"28\", \"29\", \"30\", \"31\"], \"mode\": \"lines\", \"name\": \"AUC_weighted_max\", \"stepped\": true, \"type\": \"scatter\", \"data\": [0.8923947259136213, 0.8923947259136213, 0.8923947259136213, 0.8923947259136213, 0.901236018826135, 0.901236018826135, 0.901236018826135, 0.9083801910299003, 0.9083801910299003, 0.9083801910299003, 0.9083801910299003, 0.9083801910299003, 0.9083801910299003, 0.9083801910299003, 0.9083801910299003, 0.9083801910299003, 0.9083801910299003, 0.9083801910299003, 0.9083801910299003, 0.9240484957548911, 0.9240484957548911]}], \"average_precision_score_micro\": [{\"categories\": [\"0\", \"3\", \"5\", \"7\", \"9\", \"11\", \"14\", \"16\", \"17\", \"20\", \"21\", \"22\", \"23\", \"24\", \"25\", \"26\", \"27\", \"28\", \"29\", \"30\", \"31\"], \"mode\": \"markers\", \"name\": \"average_precision_score_micro\", \"stepped\": false, \"type\": \"scatter\", \"data\": [0.9006531196119575, 0.8981343733532837, 0.6291626449719524, 0.9037456175334111, 0.907561407348523, 0.8003420697755779, 0.8912305538744508, 0.9131129156914953, 0.8987882922417562, 0.9120777617258359, 0.9084402758864936, 0.8862555311641156, 0.8347593108630671, 0.9155477655306067, 0.7845063022696094, 0.8848725132592914, 0.8932929991536647, 0.9086649990848461, 0.917286616961922, 0.9242674506958579, 0.8998777814810394]}, {\"categories\": [\"0\", \"3\", \"5\", \"7\", \"9\", \"11\", \"14\", \"16\", \"17\", \"20\", \"21\", \"22\", \"23\", \"24\", \"25\", \"26\", \"27\", \"28\", \"29\", \"30\", \"31\"], \"mode\": \"lines\", \"name\": \"average_precision_score_micro_max\", \"stepped\": true, \"type\": \"scatter\", \"data\": [0.9006531196119575, 0.9006531196119575, 0.9006531196119575, 0.9037456175334111, 0.907561407348523, 0.907561407348523, 0.907561407348523, 0.9131129156914953, 0.9131129156914953, 0.9131129156914953, 0.9131129156914953, 0.9131129156914953, 0.9131129156914953, 0.9155477655306067, 0.9155477655306067, 0.9155477655306067, 0.9155477655306067, 0.9155477655306067, 0.917286616961922, 0.9242674506958579, 0.9242674506958579]}], \"average_precision_score_macro\": [{\"categories\": [\"0\", \"3\", \"5\", \"7\", \"9\", \"11\", \"14\", \"16\", \"17\", \"20\", \"21\", \"22\", \"23\", \"24\", \"25\", \"26\", \"27\", \"28\", \"29\", \"30\", \"31\"], \"mode\": \"markers\", \"name\": \"average_precision_score_macro\", \"stepped\": false, \"type\": \"scatter\", \"data\": [0.8827295343890258, 0.8656811925286323, 0.5478740182397607, 0.8715842569707986, 0.8904711405151626, 0.7486872758316816, 0.8775235028577735, 0.8937620902305436, 0.8766835334533575, 0.8959514588649826, 0.8855305150731066, 0.856584173949144, 0.8120928226297508, 0.8961059984500259, 0.7067412569791793, 0.8497768706603981, 0.8823292642722922, 0.8908028301922848, 0.8989832088999554, 0.9113358251466103, 0.8950650871352936]}, {\"categories\": [\"0\", \"3\", \"5\", \"7\", \"9\", \"11\", \"14\", \"16\", \"17\", \"20\", \"21\", \"22\", \"23\", \"24\", \"25\", \"26\", \"27\", \"28\", \"29\", \"30\", \"31\"], \"mode\": \"lines\", \"name\": \"average_precision_score_macro_max\", \"stepped\": true, \"type\": \"scatter\", \"data\": [0.8827295343890258, 0.8827295343890258, 0.8827295343890258, 0.8827295343890258, 0.8904711405151626, 0.8904711405151626, 0.8904711405151626, 0.8937620902305436, 0.8937620902305436, 0.8959514588649826, 0.8959514588649826, 0.8959514588649826, 0.8959514588649826, 0.8961059984500259, 0.8961059984500259, 0.8961059984500259, 0.8961059984500259, 0.8961059984500259, 0.8989832088999554, 0.9113358251466103, 0.9113358251466103]}], \"norm_macro_recall\": [{\"categories\": [\"0\", \"3\", \"5\", \"7\", \"9\", \"11\", \"14\", \"16\", \"17\", \"20\", \"21\", \"22\", \"23\", \"24\", \"25\", \"26\", \"27\", \"28\", \"29\", \"30\", \"31\"], \"mode\": \"markers\", \"name\": \"norm_macro_recall\", \"stepped\": false, \"type\": \"scatter\", \"data\": [0.6299833887043189, 0.5798048172757475, 0.1045764119601329, 0.6520584163898117, 0.6213275193798451, 0.29584302325581396, 0.6279097452934662, 0.6302810077519381, 0.5843632336655592, 0.630843023255814, 0.6339548726467331, 0.5250858250276854, 0.4561655592469546, 0.628470376522702, 0.0, 0.4816846622369878, 0.5001190476190477, 0.6054941860465115, 0.6327643964562568, 0.6441071428571429, 0.5320238095238097]}, {\"categories\": [\"0\", \"3\", \"5\", \"7\", \"9\", \"11\", \"14\", \"16\", \"17\", \"20\", \"21\", \"22\", \"23\", \"24\", \"25\", \"26\", \"27\", \"28\", \"29\", \"30\", \"31\"], \"mode\": \"lines\", \"name\": \"norm_macro_recall_max\", \"stepped\": true, \"type\": \"scatter\", \"data\": [0.6299833887043189, 0.6299833887043189, 0.6299833887043189, 0.6520584163898117, 0.6520584163898117, 0.6520584163898117, 0.6520584163898117, 0.6520584163898117, 0.6520584163898117, 0.6520584163898117, 0.6520584163898117, 0.6520584163898117, 0.6520584163898117, 0.6520584163898117, 0.6520584163898117, 0.6520584163898117, 0.6520584163898117, 0.6520584163898117, 0.6520584163898117, 0.6520584163898117, 0.6520584163898117]}], \"AUC_macro\": [{\"categories\": [\"0\", \"3\", \"5\", \"7\", \"9\", \"11\", \"14\", \"16\", \"17\", \"20\", \"21\", \"22\", \"23\", \"24\", \"25\", \"26\", \"27\", \"28\", \"29\", \"30\", \"31\"], \"mode\": \"markers\", \"name\": \"AUC_macro\", \"stepped\": false, \"type\": \"scatter\", \"data\": [0.8923947259136213, 0.8817263750461425, 0.4737845376522702, 0.8911850544481357, 0.901236018826135, 0.7861162559985234, 0.8878479835732742, 0.9083801910299003, 0.8929382152085641, 0.9075534791435954, 0.9048535898855666, 0.871172849760059, 0.8293121539313398, 0.9064752906976743, 0.7258792797157623, 0.8678999169435215, 0.8925586471022517, 0.9025564091915836, 0.907279877260982, 0.9240484957548911, 0.910374400147656]}, {\"categories\": [\"0\", \"3\", \"5\", \"7\", \"9\", \"11\", \"14\", \"16\", \"17\", \"20\", \"21\", \"22\", \"23\", \"24\", \"25\", \"26\", \"27\", \"28\", \"29\", \"30\", \"31\"], \"mode\": \"lines\", \"name\": \"AUC_macro_max\", \"stepped\": true, \"type\": \"scatter\", \"data\": [0.8923947259136213, 0.8923947259136213, 0.8923947259136213, 0.8923947259136213, 0.901236018826135, 0.901236018826135, 0.901236018826135, 0.9083801910299003, 0.9083801910299003, 0.9083801910299003, 0.9083801910299003, 0.9083801910299003, 0.9083801910299003, 0.9083801910299003, 0.9083801910299003, 0.9083801910299003, 0.9083801910299003, 0.9083801910299003, 0.9083801910299003, 0.9240484957548911, 0.9240484957548911]}], \"AUC_micro\": [{\"categories\": [\"0\", \"3\", \"5\", \"7\", \"9\", \"11\", \"14\", \"16\", \"17\", \"20\", \"21\", \"22\", \"23\", \"24\", \"25\", \"26\", \"27\", \"28\", \"29\", \"30\", \"31\"], \"mode\": \"markers\", \"name\": \"AUC_micro\", \"stepped\": false, \"type\": \"scatter\", \"data\": [0.897662453318012, 0.8951660123208528, 0.6418638801110792, 0.9028751635864534, 0.9053756583357272, 0.8027028472022726, 0.8939948450317597, 0.9133661463819465, 0.9050418462127741, 0.9106301669379808, 0.9086826343004883, 0.8856097545405216, 0.8451206709438539, 0.9125641578090589, 0.7730589868811645, 0.8816399103067445, 0.8889378531073447, 0.9051016789556001, 0.9150888473937885, 0.9210893102237543, 0.9041439401193783]}, {\"categories\": [\"0\", \"3\", \"5\", \"7\", \"9\", \"11\", \"14\", \"16\", \"17\", \"20\", \"21\", \"22\", \"23\", \"24\", \"25\", \"26\", \"27\", \"28\", \"29\", \"30\", \"31\"], \"mode\": \"lines\", \"name\": \"AUC_micro_max\", \"stepped\": true, \"type\": \"scatter\", \"data\": [0.897662453318012, 0.897662453318012, 0.897662453318012, 0.9028751635864534, 0.9053756583357272, 0.9053756583357272, 0.9053756583357272, 0.9133661463819465, 0.9133661463819465, 0.9133661463819465, 0.9133661463819465, 0.9133661463819465, 0.9133661463819465, 0.9133661463819465, 0.9133661463819465, 0.9133661463819465, 0.9133661463819465, 0.9133661463819465, 0.9150888473937885, 0.9210893102237543, 0.9210893102237543]}], \"accuracy\": [{\"categories\": [\"0\", \"3\", \"5\", \"7\", \"9\", \"11\", \"14\", \"16\", \"17\", \"20\", \"21\", \"22\", \"23\", \"24\", \"25\", \"26\", \"27\", \"28\", \"29\", \"30\", \"31\"], \"mode\": \"markers\", \"name\": \"accuracy\", \"stepped\": false, \"type\": \"scatter\", \"data\": [0.8428248587570621, 0.8261581920903953, 0.6556497175141243, 0.8428248587570621, 0.836045197740113, 0.7157062146892657, 0.822542372881356, 0.8561581920903955, 0.8126553672316383, 0.8359887005649718, 0.846045197740113, 0.7993220338983051, 0.776045197740113, 0.8393785310734463, 0.67909604519774, 0.7958757062146893, 0.8228248587570622, 0.8260451977401129, 0.8494350282485875, 0.8596610169491525, 0.8224293785310735]}, {\"categories\": [\"0\", \"3\", \"5\", \"7\", \"9\", \"11\", \"14\", \"16\", \"17\", \"20\", \"21\", \"22\", \"23\", \"24\", \"25\", \"26\", \"27\", \"28\", \"29\", \"30\", \"31\"], \"mode\": \"lines\", \"name\": \"accuracy_max\", \"stepped\": true, \"type\": \"scatter\", \"data\": [0.8428248587570621, 0.8428248587570621, 0.8428248587570621, 0.8428248587570621, 0.8428248587570621, 0.8428248587570621, 0.8428248587570621, 0.8561581920903955, 0.8561581920903955, 0.8561581920903955, 0.8561581920903955, 0.8561581920903955, 0.8561581920903955, 0.8561581920903955, 0.8561581920903955, 0.8561581920903955, 0.8561581920903955, 0.8561581920903955, 0.8561581920903955, 0.8596610169491525, 0.8596610169491525]}], \"log_loss\": [{\"categories\": [\"0\", \"3\", \"5\", \"7\", \"9\", \"11\", \"14\", \"16\", \"17\", \"20\", \"21\", \"22\", \"23\", \"24\", \"25\", \"26\", \"27\", \"28\", \"29\", \"30\", \"31\"], \"mode\": \"markers\", \"name\": \"log_loss\", \"stepped\": false, \"type\": \"scatter\", \"data\": [0.5079173229698006, 0.4092218155750051, 0.7378426239280722, 0.41250175275740375, 0.3855933085518013, 0.5433128178527122, 0.45678567018342375, 0.3849076753688159, 0.39453596296669746, 0.3860584048665845, 0.37836197413636274, 0.4233031582573702, 0.5129359619828083, 0.3813167009176904, 0.626657659775603, 0.4464326127634514, 0.4486689194034569, 0.4126951448282151, 0.3910782448889485, 0.3858267646170172, 0.42972574861054785]}, {\"categories\": [\"0\", \"3\", \"5\", \"7\", \"9\", \"11\", \"14\", \"16\", \"17\", \"20\", \"21\", \"22\", \"23\", \"24\", \"25\", \"26\", \"27\", \"28\", \"29\", \"30\", \"31\"], \"mode\": \"lines\", \"name\": \"log_loss_min\", \"stepped\": true, \"type\": \"scatter\", \"data\": [0.5079173229698006, 0.4092218155750051, 0.4092218155750051, 0.4092218155750051, 0.3855933085518013, 0.3855933085518013, 0.3855933085518013, 0.3849076753688159, 0.3849076753688159, 0.3849076753688159, 0.37836197413636274, 0.37836197413636274, 0.37836197413636274, 0.37836197413636274, 0.37836197413636274, 0.37836197413636274, 0.37836197413636274, 0.37836197413636274, 0.37836197413636274, 0.37836197413636274, 0.37836197413636274]}], \"balanced_accuracy\": [{\"categories\": [\"0\", \"3\", \"5\", \"7\", \"9\", \"11\", \"14\", \"16\", \"17\", \"20\", \"21\", \"22\", \"23\", \"24\", \"25\", \"26\", \"27\", \"28\", \"29\", \"30\", \"31\"], \"mode\": \"markers\", \"name\": \"balanced_accuracy\", \"stepped\": false, \"type\": \"scatter\", \"data\": [0.8149916943521595, 0.7899024086378738, 0.5497882059800665, 0.8260292081949057, 0.8106637596899224, 0.6479215116279069, 0.813954872646733, 0.8151405038759691, 0.7921816168327795, 0.8154215116279071, 0.8169774363233666, 0.7625429125138428, 0.7280827796234772, 0.8142351882613511, 0.5, 0.740842331118494, 0.7500595238095238, 0.8027470930232559, 0.8163821982281284, 0.8220535714285715, 0.7660119047619048]}, {\"categories\": [\"0\", \"3\", \"5\", \"7\", \"9\", \"11\", \"14\", \"16\", \"17\", \"20\", \"21\", \"22\", \"23\", \"24\", \"25\", \"26\", \"27\", \"28\", \"29\", \"30\", \"31\"], \"mode\": \"lines\", \"name\": \"balanced_accuracy_max\", \"stepped\": true, \"type\": \"scatter\", \"data\": [0.8149916943521595, 0.8149916943521595, 0.8149916943521595, 0.8260292081949057, 0.8260292081949057, 0.8260292081949057, 0.8260292081949057, 0.8260292081949057, 0.8260292081949057, 0.8260292081949057, 0.8260292081949057, 0.8260292081949057, 0.8260292081949057, 0.8260292081949057, 0.8260292081949057, 0.8260292081949057, 0.8260292081949057, 0.8260292081949057, 0.8260292081949057, 0.8260292081949057, 0.8260292081949057]}], \"matthews_correlation\": [{\"categories\": [\"0\", \"3\", \"5\", \"7\", \"9\", \"11\", \"14\", \"16\", \"17\", \"20\", \"21\", \"22\", \"23\", \"24\", \"25\", \"26\", \"27\", \"28\", \"29\", \"30\", \"31\"], \"mode\": \"markers\", \"name\": \"matthews_correlation\", \"stepped\": false, \"type\": \"scatter\", \"data\": [0.6403744433261381, 0.6033563511142318, 0.11537663971664033, 0.645168193833244, 0.6273240382744854, 0.32525876643895707, 0.6065790079086296, 0.6694776213098154, 0.5750763614882961, 0.630955231042378, 0.6460656122847885, 0.543446697818455, 0.4916720345637451, 0.6324079927069495, 0.0, 0.5176554633325505, 0.6035290730994488, 0.6097965663625109, 0.6469925067442995, 0.6829649457110861, 0.540779714867891]}, {\"categories\": [\"0\", \"3\", \"5\", \"7\", \"9\", \"11\", \"14\", \"16\", \"17\", \"20\", \"21\", \"22\", \"23\", \"24\", \"25\", \"26\", \"27\", \"28\", \"29\", \"30\", \"31\"], \"mode\": \"lines\", \"name\": \"matthews_correlation_max\", \"stepped\": true, \"type\": \"scatter\", \"data\": [0.6403744433261381, 0.6403744433261381, 0.6403744433261381, 0.645168193833244, 0.645168193833244, 0.645168193833244, 0.645168193833244, 0.6694776213098154, 0.6694776213098154, 0.6694776213098154, 0.6694776213098154, 0.6694776213098154, 0.6694776213098154, 0.6694776213098154, 0.6694776213098154, 0.6694776213098154, 0.6694776213098154, 0.6694776213098154, 0.6694776213098154, 0.6829649457110861, 0.6829649457110861]}], \"average_precision_score_weighted\": [{\"categories\": [\"0\", \"3\", \"5\", \"7\", \"9\", \"11\", \"14\", \"16\", \"17\", \"20\", \"21\", \"22\", \"23\", \"24\", \"25\", \"26\", \"27\", \"28\", \"29\", \"30\", \"31\"], \"mode\": \"markers\", \"name\": \"average_precision_score_weighted\", \"stepped\": false, \"type\": \"scatter\", \"data\": [0.9092107718745325, 0.896189970802993, 0.6004632558554224, 0.9018407030372761, 0.9137295868228513, 0.8042164031338375, 0.9016514957566525, 0.9176245683044322, 0.9017933854954435, 0.9200048802552347, 0.9121178555674598, 0.8914292757509676, 0.8444859083653139, 0.9201007560396105, 0.7698841851207154, 0.8869338510262612, 0.9080992527855735, 0.915817677466593, 0.9229613626224655, 0.9323235028272618, 0.918893259628604]}, {\"categories\": [\"0\", \"3\", \"5\", \"7\", \"9\", \"11\", \"14\", \"16\", \"17\", \"20\", \"21\", \"22\", \"23\", \"24\", \"25\", \"26\", \"27\", \"28\", \"29\", \"30\", \"31\"], \"mode\": \"lines\", \"name\": \"average_precision_score_weighted_max\", \"stepped\": true, \"type\": \"scatter\", \"data\": [0.9092107718745325, 0.9092107718745325, 0.9092107718745325, 0.9092107718745325, 0.9137295868228513, 0.9137295868228513, 0.9137295868228513, 0.9176245683044322, 0.9176245683044322, 0.9200048802552347, 0.9200048802552347, 0.9200048802552347, 0.9200048802552347, 0.9201007560396105, 0.9201007560396105, 0.9201007560396105, 0.9201007560396105, 0.9201007560396105, 0.9229613626224655, 0.9323235028272618, 0.9323235028272618]}], \"recall_score_micro\": [{\"categories\": [\"0\", \"3\", \"5\", \"7\", \"9\", \"11\", \"14\", \"16\", \"17\", \"20\", \"21\", \"22\", \"23\", \"24\", \"25\", \"26\", \"27\", \"28\", \"29\", \"30\", \"31\"], \"mode\": \"markers\", \"name\": \"recall_score_micro\", \"stepped\": false, \"type\": \"scatter\", \"data\": [0.8428248587570621, 0.8261581920903953, 0.6556497175141243, 0.8428248587570621, 0.836045197740113, 0.7157062146892657, 0.822542372881356, 0.8561581920903955, 0.8126553672316383, 0.8359887005649718, 0.846045197740113, 0.7993220338983051, 0.776045197740113, 0.8393785310734463, 0.67909604519774, 0.7958757062146893, 0.8228248587570622, 0.8260451977401129, 0.8494350282485875, 0.8596610169491525, 0.8224293785310735]}, {\"categories\": [\"0\", \"3\", \"5\", \"7\", \"9\", \"11\", \"14\", \"16\", \"17\", \"20\", \"21\", \"22\", \"23\", \"24\", \"25\", \"26\", \"27\", \"28\", \"29\", \"30\", \"31\"], \"mode\": \"lines\", \"name\": \"recall_score_micro_max\", \"stepped\": true, \"type\": \"scatter\", \"data\": [0.8428248587570621, 0.8428248587570621, 0.8428248587570621, 0.8428248587570621, 0.8428248587570621, 0.8428248587570621, 0.8428248587570621, 0.8561581920903955, 0.8561581920903955, 0.8561581920903955, 0.8561581920903955, 0.8561581920903955, 0.8561581920903955, 0.8561581920903955, 0.8561581920903955, 0.8561581920903955, 0.8561581920903955, 0.8561581920903955, 0.8561581920903955, 0.8596610169491525, 0.8596610169491525]}], \"precision_score_macro\": [{\"categories\": [\"0\", \"3\", \"5\", \"7\", \"9\", \"11\", \"14\", \"16\", \"17\", \"20\", \"21\", \"22\", \"23\", \"24\", \"25\", \"26\", \"27\", \"28\", \"29\", \"30\", \"31\"], \"mode\": \"markers\", \"name\": \"precision_score_macro\", \"stepped\": false, \"type\": \"scatter\", \"data\": [0.8271330541439237, 0.8161141052162847, 0.5678936292465704, 0.8207143283746134, 0.8182813093339408, 0.6832351159478819, 0.7943324289294598, 0.8566596959432117, 0.7845297423558293, 0.8169144878219703, 0.8302636715857297, 0.7841728785512074, 0.7703047769852874, 0.8194693904369771, 0.33954802259887, 0.7810036545103282, 0.867862420330451, 0.8085140884925448, 0.8314059453870737, 0.8644680512606724, 0.7499199343750371]}, {\"categories\": [\"0\", \"3\", \"5\", \"7\", \"9\", \"11\", \"14\", \"16\", \"17\", \"20\", \"21\", \"22\", \"23\", \"24\", \"25\", \"26\", \"27\", \"28\", \"29\", \"30\", \"31\"], \"mode\": \"lines\", \"name\": \"precision_score_macro_max\", \"stepped\": true, \"type\": \"scatter\", \"data\": [0.8271330541439237, 0.8271330541439237, 0.8271330541439237, 0.8271330541439237, 0.8271330541439237, 0.8271330541439237, 0.8271330541439237, 0.8566596959432117, 0.8566596959432117, 0.8566596959432117, 0.8566596959432117, 0.8566596959432117, 0.8566596959432117, 0.8566596959432117, 0.8566596959432117, 0.8566596959432117, 0.867862420330451, 0.867862420330451, 0.867862420330451, 0.867862420330451, 0.867862420330451]}], \"recall_score_weighted\": [{\"categories\": [\"0\", \"3\", \"5\", \"7\", \"9\", \"11\", \"14\", \"16\", \"17\", \"20\", \"21\", \"22\", \"23\", \"24\", \"25\", \"26\", \"27\", \"28\", \"29\", \"30\", \"31\"], \"mode\": \"markers\", \"name\": \"recall_score_weighted\", \"stepped\": false, \"type\": \"scatter\", \"data\": [0.8428248587570621, 0.8261581920903953, 0.6556497175141243, 0.8428248587570621, 0.836045197740113, 0.7157062146892657, 0.822542372881356, 0.8561581920903955, 0.8126553672316383, 0.8359887005649718, 0.846045197740113, 0.7993220338983051, 0.776045197740113, 0.8393785310734463, 0.67909604519774, 0.7958757062146893, 0.8228248587570622, 0.8260451977401129, 0.8494350282485875, 0.8596610169491525, 0.8224293785310735]}, {\"categories\": [\"0\", \"3\", \"5\", \"7\", \"9\", \"11\", \"14\", \"16\", \"17\", \"20\", \"21\", \"22\", \"23\", \"24\", \"25\", \"26\", \"27\", \"28\", \"29\", \"30\", \"31\"], \"mode\": \"lines\", \"name\": \"recall_score_weighted_max\", \"stepped\": true, \"type\": \"scatter\", \"data\": [0.8428248587570621, 0.8428248587570621, 0.8428248587570621, 0.8428248587570621, 0.8428248587570621, 0.8428248587570621, 0.8428248587570621, 0.8561581920903955, 0.8561581920903955, 0.8561581920903955, 0.8561581920903955, 0.8561581920903955, 0.8561581920903955, 0.8561581920903955, 0.8561581920903955, 0.8561581920903955, 0.8561581920903955, 0.8561581920903955, 0.8561581920903955, 0.8596610169491525, 0.8596610169491525]}], \"precision_score_weighted\": [{\"categories\": [\"0\", \"3\", \"5\", \"7\", \"9\", \"11\", \"14\", \"16\", \"17\", \"20\", \"21\", \"22\", \"23\", \"24\", \"25\", \"26\", \"27\", \"28\", \"29\", \"30\", \"31\"], \"mode\": \"markers\", \"name\": \"precision_score_weighted\", \"stepped\": false, \"type\": \"scatter\", \"data\": [0.8524277365010601, 0.8386578561031168, 0.6249425869724973, 0.8532092630524071, 0.8495303607417792, 0.7268626920421006, 0.8425459888930241, 0.865809731788783, 0.8274594550497276, 0.8503725952097358, 0.8553980590851434, 0.8207707099306608, 0.7989483079140065, 0.8510011679500703, 0.4689005075169971, 0.8071308924459155, 0.8527232834948817, 0.8411945148608085, 0.8569952571877117, 0.8742129604817481, 0.8031996268373931]}, {\"categories\": [\"0\", \"3\", \"5\", \"7\", \"9\", \"11\", \"14\", \"16\", \"17\", \"20\", \"21\", \"22\", \"23\", \"24\", \"25\", \"26\", \"27\", \"28\", \"29\", \"30\", \"31\"], \"mode\": \"lines\", \"name\": \"precision_score_weighted_max\", \"stepped\": true, \"type\": \"scatter\", \"data\": [0.8524277365010601, 0.8524277365010601, 0.8524277365010601, 0.8532092630524071, 0.8532092630524071, 0.8532092630524071, 0.8532092630524071, 0.865809731788783, 0.865809731788783, 0.865809731788783, 0.865809731788783, 0.865809731788783, 0.865809731788783, 0.865809731788783, 0.865809731788783, 0.865809731788783, 0.865809731788783, 0.865809731788783, 0.865809731788783, 0.8742129604817481, 0.8742129604817481]}], \"f1_score_weighted\": [{\"categories\": [\"0\", \"3\", \"5\", \"7\", \"9\", \"11\", \"14\", \"16\", \"17\", \"20\", \"21\", \"22\", \"23\", \"24\", \"25\", \"26\", \"27\", \"28\", \"29\", \"30\", \"31\"], \"mode\": \"markers\", \"name\": \"f1_score_weighted\", \"stepped\": false, \"type\": \"scatter\", \"data\": [0.8401132576354581, 0.8203816309269689, 0.610902484631415, 0.8423180404546834, 0.8331571568834113, 0.6963542131624217, 0.8245459001594991, 0.8499333075922799, 0.8128053605442712, 0.8338067746267764, 0.8426041812857867, 0.7947963227769735, 0.7633272490758969, 0.8371693788556243, 0.5526564268547016, 0.784367398919726, 0.8048274485796767, 0.823492564941197, 0.8467162036892635, 0.8538566359614312, 0.7960774140964658]}, {\"categories\": [\"0\", \"3\", \"5\", \"7\", \"9\", \"11\", \"14\", \"16\", \"17\", \"20\", \"21\", \"22\", \"23\", \"24\", \"25\", \"26\", \"27\", \"28\", \"29\", \"30\", \"31\"], \"mode\": \"lines\", \"name\": \"f1_score_weighted_max\", \"stepped\": true, \"type\": \"scatter\", \"data\": [0.8401132576354581, 0.8401132576354581, 0.8401132576354581, 0.8423180404546834, 0.8423180404546834, 0.8423180404546834, 0.8423180404546834, 0.8499333075922799, 0.8499333075922799, 0.8499333075922799, 0.8499333075922799, 0.8499333075922799, 0.8499333075922799, 0.8499333075922799, 0.8499333075922799, 0.8499333075922799, 0.8499333075922799, 0.8499333075922799, 0.8499333075922799, 0.8538566359614312, 0.8538566359614312]}], \"weighted_accuracy\": [{\"categories\": [\"0\", \"3\", \"5\", \"7\", \"9\", \"11\", \"14\", \"16\", \"17\", \"20\", \"21\", \"22\", \"23\", \"24\", \"25\", \"26\", \"27\", \"28\", \"29\", \"30\", \"31\"], \"mode\": \"markers\", \"name\": \"weighted_accuracy\", \"stepped\": false, \"type\": \"scatter\", \"data\": [0.8612928020219082, 0.8515405896325274, 0.726973983018049, 0.8554222583826798, 0.8539800240950648, 0.7626513630445347, 0.8286136534028407, 0.884481072020173, 0.8273499954455961, 0.8498160820336796, 0.8654858271477931, 0.8246441032007363, 0.8111637627703636, 0.8570773692278081, 0.7971865900207855, 0.8363221088910624, 0.8715471636366484, 0.8419015927225157, 0.8712014015199756, 0.8841729775045412, 0.8594912924327236]}, {\"categories\": [\"0\", \"3\", \"5\", \"7\", \"9\", \"11\", \"14\", \"16\", \"17\", \"20\", \"21\", \"22\", \"23\", \"24\", \"25\", \"26\", \"27\", \"28\", \"29\", \"30\", \"31\"], \"mode\": \"lines\", \"name\": \"weighted_accuracy_max\", \"stepped\": true, \"type\": \"scatter\", \"data\": [0.8612928020219082, 0.8612928020219082, 0.8612928020219082, 0.8612928020219082, 0.8612928020219082, 0.8612928020219082, 0.8612928020219082, 0.884481072020173, 0.884481072020173, 0.884481072020173, 0.884481072020173, 0.884481072020173, 0.884481072020173, 0.884481072020173, 0.884481072020173, 0.884481072020173, 0.884481072020173, 0.884481072020173, 0.884481072020173, 0.884481072020173, 0.884481072020173]}], \"recall_score_macro\": [{\"categories\": [\"0\", \"3\", \"5\", \"7\", \"9\", \"11\", \"14\", \"16\", \"17\", \"20\", \"21\", \"22\", \"23\", \"24\", \"25\", \"26\", \"27\", \"28\", \"29\", \"30\", \"31\"], \"mode\": \"markers\", \"name\": \"recall_score_macro\", \"stepped\": false, \"type\": \"scatter\", \"data\": [0.8149916943521595, 0.7899024086378738, 0.5497882059800665, 0.8260292081949057, 0.8106637596899224, 0.6479215116279069, 0.813954872646733, 0.8151405038759691, 0.7921816168327795, 0.8154215116279071, 0.8169774363233666, 0.7625429125138428, 0.7280827796234772, 0.8142351882613511, 0.5, 0.740842331118494, 0.7500595238095238, 0.8027470930232559, 0.8163821982281284, 0.8220535714285715, 0.7660119047619048]}, {\"categories\": [\"0\", \"3\", \"5\", \"7\", \"9\", \"11\", \"14\", \"16\", \"17\", \"20\", \"21\", \"22\", \"23\", \"24\", \"25\", \"26\", \"27\", \"28\", \"29\", \"30\", \"31\"], \"mode\": \"lines\", \"name\": \"recall_score_macro_max\", \"stepped\": true, \"type\": \"scatter\", \"data\": [0.8149916943521595, 0.8149916943521595, 0.8149916943521595, 0.8260292081949057, 0.8260292081949057, 0.8260292081949057, 0.8260292081949057, 0.8260292081949057, 0.8260292081949057, 0.8260292081949057, 0.8260292081949057, 0.8260292081949057, 0.8260292081949057, 0.8260292081949057, 0.8260292081949057, 0.8260292081949057, 0.8260292081949057, 0.8260292081949057, 0.8260292081949057, 0.8260292081949057, 0.8260292081949057]}], \"precision_score_micro\": [{\"categories\": [\"0\", \"3\", \"5\", \"7\", \"9\", \"11\", \"14\", \"16\", \"17\", \"20\", \"21\", \"22\", \"23\", \"24\", \"25\", \"26\", \"27\", \"28\", \"29\", \"30\", \"31\"], \"mode\": \"markers\", \"name\": \"precision_score_micro\", \"stepped\": false, \"type\": \"scatter\", \"data\": [0.8428248587570621, 0.8261581920903953, 0.6556497175141243, 0.8428248587570621, 0.836045197740113, 0.7157062146892657, 0.822542372881356, 0.8561581920903955, 0.8126553672316383, 0.8359887005649718, 0.846045197740113, 0.7993220338983051, 0.776045197740113, 0.8393785310734463, 0.67909604519774, 0.7958757062146893, 0.8228248587570622, 0.8260451977401129, 0.8494350282485875, 0.8596610169491525, 0.8224293785310735]}, {\"categories\": [\"0\", \"3\", \"5\", \"7\", \"9\", \"11\", \"14\", \"16\", \"17\", \"20\", \"21\", \"22\", \"23\", \"24\", \"25\", \"26\", \"27\", \"28\", \"29\", \"30\", \"31\"], \"mode\": \"lines\", \"name\": \"precision_score_micro_max\", \"stepped\": true, \"type\": \"scatter\", \"data\": [0.8428248587570621, 0.8428248587570621, 0.8428248587570621, 0.8428248587570621, 0.8428248587570621, 0.8428248587570621, 0.8428248587570621, 0.8561581920903955, 0.8561581920903955, 0.8561581920903955, 0.8561581920903955, 0.8561581920903955, 0.8561581920903955, 0.8561581920903955, 0.8561581920903955, 0.8561581920903955, 0.8561581920903955, 0.8561581920903955, 0.8561581920903955, 0.8596610169491525, 0.8596610169491525]}]}, \"metricName\": null, \"primaryMetricName\": \"AUC_weighted\", \"showLegend\": false}, \"run_metrics\": [{\"name\": \"experiment_status\", \"run_id\": \"AutoML_f83e72a8-31c1-43a6-9208-6ead30c98832\", \"categories\": [0, 1, 2, 3, 4, 5, 6, 7, 8, 9, 10, 11, 12, 13], \"series\": [{\"data\": [\"DatasetEvaluation\", \"FeaturesGeneration\", \"DatasetFeaturization\", \"DatasetFeaturizationCompleted\", \"DatasetCrossValidationSplit\", \"ModelSelection\", \"BestRunExplainModel\", \"ModelExplanationDataSetSetup\", \"PickSurrogateModel\", \"EngineeredFeatureExplanations\", \"EngineeredFeatureExplanations\", \"RawFeaturesExplanations\", \"RawFeaturesExplanations\", \"BestRunExplainModel\"]}]}, {\"name\": \"experiment_status_description\", \"run_id\": \"AutoML_f83e72a8-31c1-43a6-9208-6ead30c98832\", \"categories\": [0, 1, 2, 3, 4, 5, 6, 7, 8, 9, 10, 11, 12, 13], \"series\": [{\"data\": [\"Gathering dataset statistics.\", \"Generating features for the dataset.\", \"Beginning to fit featurizers and featurize the dataset.\", \"Completed fit featurizers and featurizing the dataset.\", \"Generating individually featurized CV splits.\", \"Beginning model selection.\", \"Best run model explanations started\", \"Model explanations data setup completed\", \"Choosing LightGBM as the surrogate model for explanations\", \"Computation of engineered features started\", \"Computation of engineered features completed\", \"Computation of raw features started\", \"Computation of raw features completed\", \"Best run model explanations completed\"]}]}, {\"name\": \"precision_score_micro\", \"run_id\": \"AutoML_f83e72a8-31c1-43a6-9208-6ead30c98832\", \"categories\": [0], \"series\": [{\"data\": [0.8596610169491525]}]}, {\"name\": \"recall_score_macro\", \"run_id\": \"AutoML_f83e72a8-31c1-43a6-9208-6ead30c98832\", \"categories\": [0], \"series\": [{\"data\": [0.8220535714285715]}]}, {\"name\": \"average_precision_score_weighted\", \"run_id\": \"AutoML_f83e72a8-31c1-43a6-9208-6ead30c98832\", \"categories\": [0], \"series\": [{\"data\": [0.9323235028272618]}]}, {\"name\": \"weighted_accuracy\", \"run_id\": \"AutoML_f83e72a8-31c1-43a6-9208-6ead30c98832\", \"categories\": [0], \"series\": [{\"data\": [0.8841729775045412]}]}, {\"name\": \"norm_macro_recall\", \"run_id\": \"AutoML_f83e72a8-31c1-43a6-9208-6ead30c98832\", \"categories\": [0], \"series\": [{\"data\": [0.6441071428571429]}]}, {\"name\": \"f1_score_weighted\", \"run_id\": \"AutoML_f83e72a8-31c1-43a6-9208-6ead30c98832\", \"categories\": [0], \"series\": [{\"data\": [0.8538566359614312]}]}, {\"name\": \"f1_score_macro\", \"run_id\": \"AutoML_f83e72a8-31c1-43a6-9208-6ead30c98832\", \"categories\": [0], \"series\": [{\"data\": [0.8280186557018453]}]}, {\"name\": \"AUC_macro\", \"run_id\": \"AutoML_f83e72a8-31c1-43a6-9208-6ead30c98832\", \"categories\": [0], \"series\": [{\"data\": [0.9240484957548911]}]}, {\"name\": \"balanced_accuracy\", \"run_id\": \"AutoML_f83e72a8-31c1-43a6-9208-6ead30c98832\", \"categories\": [0], \"series\": [{\"data\": [0.8220535714285715]}]}, {\"name\": \"accuracy\", \"run_id\": \"AutoML_f83e72a8-31c1-43a6-9208-6ead30c98832\", \"categories\": [0], \"series\": [{\"data\": [0.8596610169491525]}]}, {\"name\": \"precision_score_macro\", \"run_id\": \"AutoML_f83e72a8-31c1-43a6-9208-6ead30c98832\", \"categories\": [0], \"series\": [{\"data\": [0.8644680512606724]}]}, {\"name\": \"recall_score_weighted\", \"run_id\": \"AutoML_f83e72a8-31c1-43a6-9208-6ead30c98832\", \"categories\": [0], \"series\": [{\"data\": [0.8596610169491525]}]}, {\"name\": \"average_precision_score_micro\", \"run_id\": \"AutoML_f83e72a8-31c1-43a6-9208-6ead30c98832\", \"categories\": [0], \"series\": [{\"data\": [0.9242674506958579]}]}, {\"name\": \"precision_score_weighted\", \"run_id\": \"AutoML_f83e72a8-31c1-43a6-9208-6ead30c98832\", \"categories\": [0], \"series\": [{\"data\": [0.8742129604817481]}]}, {\"name\": \"log_loss\", \"run_id\": \"AutoML_f83e72a8-31c1-43a6-9208-6ead30c98832\", \"categories\": [0], \"series\": [{\"data\": [0.3858267646170172]}]}, {\"name\": \"matthews_correlation\", \"run_id\": \"AutoML_f83e72a8-31c1-43a6-9208-6ead30c98832\", \"categories\": [0], \"series\": [{\"data\": [0.6829649457110861]}]}, {\"name\": \"average_precision_score_macro\", \"run_id\": \"AutoML_f83e72a8-31c1-43a6-9208-6ead30c98832\", \"categories\": [0], \"series\": [{\"data\": [0.9113358251466103]}]}, {\"name\": \"AUC_weighted\", \"run_id\": \"AutoML_f83e72a8-31c1-43a6-9208-6ead30c98832\", \"categories\": [0], \"series\": [{\"data\": [0.9240484957548911]}]}, {\"name\": \"f1_score_micro\", \"run_id\": \"AutoML_f83e72a8-31c1-43a6-9208-6ead30c98832\", \"categories\": [0], \"series\": [{\"data\": [0.8596610169491525]}]}, {\"name\": \"AUC_micro\", \"run_id\": \"AutoML_f83e72a8-31c1-43a6-9208-6ead30c98832\", \"categories\": [0], \"series\": [{\"data\": [0.9210893102237543]}]}, {\"name\": \"recall_score_micro\", \"run_id\": \"AutoML_f83e72a8-31c1-43a6-9208-6ead30c98832\", \"categories\": [0], \"series\": [{\"data\": [0.8596610169491525]}]}], \"run_logs\": \"\\nRun is completed.\", \"graph\": {}, \"widget_settings\": {\"childWidgetDisplay\": \"popup\", \"send_telemetry\": false, \"log_level\": \"INFO\", \"sdk_version\": \"1.51.0\"}, \"loading\": false}"
          },
          "metadata": {}
        }
      ],
      "execution_count": 7,
      "metadata": {
        "gather": {
          "logged": 1691008136742
        },
        "jupyter": {
          "outputs_hidden": false,
          "source_hidden": false
        },
        "nteract": {
          "transient": {
            "deleting": false
          }
        }
      }
    },
    {
      "cell_type": "markdown",
      "source": [
        "## Best Model\n",
        "\n",
        "In the cells below, we get the best model from the AutoML experiments and display all the properties of the model.\n",
        "\n"
      ],
      "metadata": {}
    },
    {
      "cell_type": "code",
      "source": [
        "best_run, fitted_model = automl_run.get_output()"
      ],
      "outputs": [
        {
          "output_type": "stream",
          "name": "stderr",
          "text": "WARNING:root:The version of the SDK does not match the version the model was trained on.\nWARNING:root:The consistency in the result may not be guaranteed.\nWARNING:root:Package:azureml-automl-core, training version:1.52.0.post1, current version:1.51.0.post1\nPackage:azureml-automl-runtime, training version:1.52.0.post1, current version:1.51.0.post1\nPackage:azureml-core, training version:1.52.0, current version:1.51.0\nPackage:azureml-dataprep, training version:4.11.4, current version:4.10.8\nPackage:azureml-dataprep-rslex, training version:2.18.4, current version:2.17.12\nPackage:azureml-dataset-runtime, training version:1.52.0, current version:1.51.0\nPackage:azureml-defaults, training version:1.52.0, current version:1.51.0\nPackage:azureml-interpret, training version:1.52.0, current version:1.51.0\nPackage:azureml-mlflow, training version:1.52.0, current version:1.51.0\nPackage:azureml-pipeline-core, training version:1.52.0, current version:1.51.0\nPackage:azureml-responsibleai, training version:1.52.0, current version:1.51.0\nPackage:azureml-telemetry, training version:1.52.0, current version:1.51.0\nPackage:azureml-train-automl-client, training version:1.52.0, current version:1.51.0.post1\nPackage:azureml-train-automl-runtime, training version:1.52.0, current version:1.51.0.post2\nPackage:azureml-train-core, training version:1.52.0, current version:1.51.0\nPackage:azureml-train-restclients-hyperdrive, training version:1.52.0, current version:1.51.0\nPackage:azureml-training-tabular, training version:1.52.0, current version:1.51.0.post1\nWARNING:root:Please ensure the version of your local conda dependencies match the version on which your model was trained in order to properly retrieve your model.\n"
        }
      ],
      "execution_count": 10,
      "metadata": {
        "jupyter": {
          "source_hidden": false,
          "outputs_hidden": false
        },
        "nteract": {
          "transient": {
            "deleting": false
          }
        },
        "gather": {
          "logged": 1691010309672
        }
      }
    },
    {
      "cell_type": "code",
      "source": [
        "print(f\"Best run id: {best_run.id}\")"
      ],
      "outputs": [
        {
          "output_type": "stream",
          "name": "stdout",
          "text": "Best run id: AutoML_f83e72a8-31c1-43a6-9208-6ead30c98832_30\n"
        }
      ],
      "execution_count": 11,
      "metadata": {
        "jupyter": {
          "source_hidden": false,
          "outputs_hidden": false
        },
        "nteract": {
          "transient": {
            "deleting": false
          }
        },
        "gather": {
          "logged": 1691010315851
        }
      }
    },
    {
      "cell_type": "code",
      "source": [
        "print(best_run.get_metrics())"
      ],
      "outputs": [
        {
          "output_type": "stream",
          "name": "stdout",
          "text": "{'f1_score_micro': 0.8596610169491525, 'matthews_correlation': 0.6829649457110861, 'AUC_micro': 0.9210893102237543, 'recall_score_micro': 0.8596610169491525, 'recall_score_macro': 0.8220535714285715, 'average_precision_score_macro': 0.9113358251466103, 'AUC_weighted': 0.9240484957548911, 'f1_score_macro': 0.8280186557018453, 'log_loss': 0.3858267646170172, 'accuracy': 0.8596610169491525, 'average_precision_score_micro': 0.9242674506958579, 'precision_score_macro': 0.8644680512606724, 'AUC_macro': 0.9240484957548911, 'recall_score_weighted': 0.8596610169491525, 'precision_score_weighted': 0.8742129604817481, 'f1_score_weighted': 0.8538566359614312, 'precision_score_micro': 0.8596610169491525, 'average_precision_score_weighted': 0.9323235028272618, 'weighted_accuracy': 0.8841729775045412, 'balanced_accuracy': 0.8220535714285715, 'norm_macro_recall': 0.6441071428571429, 'confusion_matrix': 'aml://artifactId/ExperimentRun/dcid.AutoML_f83e72a8-31c1-43a6-9208-6ead30c98832_30/confusion_matrix', 'accuracy_table': 'aml://artifactId/ExperimentRun/dcid.AutoML_f83e72a8-31c1-43a6-9208-6ead30c98832_30/accuracy_table'}\n"
        }
      ],
      "execution_count": 13,
      "metadata": {
        "jupyter": {
          "source_hidden": false,
          "outputs_hidden": false
        },
        "nteract": {
          "transient": {
            "deleting": false
          }
        },
        "gather": {
          "logged": 1691010410120
        }
      }
    },
    {
      "cell_type": "code",
      "source": [
        "print(fitted_model)"
      ],
      "outputs": [
        {
          "output_type": "stream",
          "name": "stdout",
          "text": "Pipeline(memory=None,\n         steps=[('datatransformer',\n                 DataTransformer(enable_dnn=False, enable_feature_sweeping=True, feature_sweeping_config={}, feature_sweeping_timeout=86400, featurization_config=None, force_text_dnn=False, is_cross_validation=True, is_onnx_compatible=False, observer=None, task='classification', working_dir='/mnt/batch/tasks/shared/LS_root/mount...\n                 PreFittedSoftVotingClassifier(classification_labels=array([0, 1]), estimators=[('16', Pipeline(memory=None, steps=[('minmaxscaler', MinMaxScaler(copy=True, feature_range=(0, 1))), ('extratreesclassifier', ExtraTreesClassifier(bootstrap=True, ccp_alpha=0.0, class_weight=None, criterion='gini', max_depth=None, max_features=None, max_leaf_nodes=None, max_samples=None, min_impurity_decrease=0.0, min_impurity_split=None, min_samples_leaf=0.01, min_samples_split=0.056842105263157895, min_weight_fraction_leaf=0.0, n_estimators=50, n_jobs=1, oob_score=False, random_state=None, verbose=0, warm_start=False))], verbose=False)), ('20', Pipeline(memory=None, steps=[('standardscalerwrapper', StandardScalerWrapper(copy=True, with_mean=False, with_std=False)), ('xgboostclassifier', XGBoostClassifier(booster='gbtree', colsample_bytree=0.9, eta=0.1, gamma=0, max_depth=6, max_leaves=3, n_estimators=25, n_jobs=1, objective='reg:logistic', problem_info=ProblemInfo(gpu_training_param_dict={'processing_unit_type': 'cpu'}), random_state=0, reg_alpha=0, reg_lambda=0.7291666666666667, subsample=0.5, tree_method='auto'))], verbose=False)), ('29', Pipeline(memory=None, steps=[('standardscalerwrapper', StandardScalerWrapper(copy=True, with_mean=False, with_std=True)), ('randomforestclassifier', RandomForestClassifier(bootstrap=False, ccp_alpha=0.0, class_weight=None, criterion='entropy', max_depth=None, max_features=0.3, max_leaf_nodes=None, max_samples=None, min_impurity_decrease=0.0, min_impurity_split=None, min_samples_leaf=0.01, min_samples_split=0.19736842105263158, min_weight_fraction_leaf=0.0, n_estimators=200, n_jobs=1, oob_score=False, random_state=None, verbose=0, warm_start=False))], verbose=False)), ('24', Pipeline(memory=None, steps=[('robustscaler', RobustScaler(copy=True, quantile_range=[25, 75], with_centering=False, with_scaling=True)), ('randomforestclassifier', RandomForestClassifier(bootstrap=False, ccp_alpha=0.0, class_weight=None, criterion='gini', max_depth=None, max_features=0.4, max_leaf_nodes=None, max_samples=None, min_impurity_decrease=0.0, min_impurity_split=None, min_samples_leaf=0.035789473684210524, min_samples_split=0.15052631578947367, min_weight_fraction_leaf=0.0, n_estimators=600, n_jobs=1, oob_score=False, random_state=None, verbose=0, warm_start=False))], verbose=False)), ('21', Pipeline(memory=None, steps=[('standardscalerwrapper', StandardScalerWrapper(copy=True, with_mean=False, with_std=False)), ('randomforestclassifier', RandomForestClassifier(bootstrap=True, ccp_alpha=0.0, class_weight=None, criterion='gini', max_depth=None, max_features='auto', max_leaf_nodes=None, max_samples=None, min_impurity_decrease=0.0, min_impurity_split=None, min_samples_leaf=1, min_samples_split=2, min_weight_fraction_leaf=0.0, n_estimators=100, n_jobs=1, oob_score=False, random_state=None, verbose=0, warm_start=False))], verbose=False)), ('4', Pipeline(memory=None, steps=[('standardscalerwrapper', StandardScalerWrapper(copy=True, with_mean=False, with_std=True)), ('lightgbmclassifier', LightGBMClassifier(boosting_type='gbdt', colsample_bytree=0.4955555555555555, learning_rate=0.09473736842105263, max_bin=140, max_depth=6, min_child_weight=0, min_data_in_leaf=0.08276034482758622, min_split_gain=0.10526315789473684, n_estimators=25, n_jobs=1, num_leaves=164, problem_info=ProblemInfo(gpu_training_param_dict={'processing_unit_type': 'cpu'}), random_state=None, reg_alpha=0.3157894736842105, reg_lambda=0.3157894736842105, subsample=0.5942105263157895))], verbose=False)), ('6', Pipeline(memory=None, steps=[('sparsenormalizer', Normalizer(copy=True, norm='max')), ('xgboostclassifier', XGBoostClassifier(booster='gbtree', colsample_bytree=0.8, eta=0.3, gamma=0, max_depth=6, max_leaves=0, n_estimators=10, n_jobs=1, objective='reg:logistic', problem_info=ProblemInfo(gpu_training_param_dict={'processing_unit_type': 'cpu'}), random_state=0, reg_alpha=0, reg_lambda=0.625, subsample=0.8, tree_method='auto'))], verbose=False)), ('27', Pipeline(memory=None, steps=[('standardscalerwrapper', StandardScalerWrapper(copy=True, with_mean=True, with_std=False)), ('lightgbmclassifier', LightGBMClassifier(boosting_type='gbdt', colsample_bytree=0.1, learning_rate=0.07894947368421053, max_bin=210, max_depth=6, min_child_weight=5, min_data_in_leaf=0.03793724137931035, min_split_gain=0.6842105263157894, n_estimators=100, n_jobs=1, num_leaves=122, problem_info=ProblemInfo(gpu_training_param_dict={'processing_unit_type': 'cpu'}), random_state=None, reg_alpha=0.7894736842105263, reg_lambda=0.631578947368421, subsample=0.5447368421052632))], verbose=False))], flatten_transform=None, weights=[0.06666666666666667, 0.06666666666666667, 0.06666666666666667, 0.06666666666666667, 0.06666666666666667, 0.06666666666666667, 0.26666666666666666, 0.3333333333333333]))],\n         verbose=False)\n"
        }
      ],
      "execution_count": 16,
      "metadata": {
        "jupyter": {
          "source_hidden": false,
          "outputs_hidden": false
        },
        "nteract": {
          "transient": {
            "deleting": false
          }
        },
        "gather": {
          "logged": 1691010566389
        }
      }
    },
    {
      "cell_type": "markdown",
      "source": [
        "## Model Deployment\r\n",
        "\r\n",
        "We do not deploy this model, but we register it nevertheless."
      ],
      "metadata": {}
    },
    {
      "cell_type": "code",
      "source": [
        "model_name = best_run.properties['model_name']\r\n",
        "model = best_run.register_model(model_name=model_name, model_path=\"outputs\")"
      ],
      "outputs": [],
      "execution_count": 17,
      "metadata": {
        "jupyter": {
          "outputs_hidden": false,
          "source_hidden": false
        },
        "nteract": {
          "transient": {
            "deleting": false
          }
        },
        "gather": {
          "logged": 1691010598977
        }
      }
    },
    {
      "cell_type": "markdown",
      "source": [
        "**Submission Checklist**\n",
        "- I have registered the model.\n",
        "- I have deployed the model with the best accuracy as a webservice.\n",
        "- I have tested the webservice by sending a request to the model endpoint.\n",
        "- I have deleted the webservice and shutdown all the computes that I have used.\n",
        "- I have taken a screenshot showing the model endpoint as active.\n",
        "- The project includes a file containing the environment details.\n"
      ],
      "metadata": {}
    },
    {
      "cell_type": "markdown",
      "source": [],
      "metadata": {}
    }
  ],
  "metadata": {
    "kernel_info": {
      "name": "python38-azureml"
    },
    "kernelspec": {
      "name": "python38-azureml",
      "language": "python",
      "display_name": "Python 3.8 - AzureML"
    },
    "language_info": {
      "name": "python",
      "version": "3.8.5",
      "mimetype": "text/x-python",
      "codemirror_mode": {
        "name": "ipython",
        "version": 3
      },
      "pygments_lexer": "ipython3",
      "nbconvert_exporter": "python",
      "file_extension": ".py"
    },
    "nteract": {
      "version": "nteract-front-end@1.0.0"
    },
    "microsoft": {
      "host": {
        "AzureML": {
          "notebookHasBeenCompleted": true
        }
      },
      "ms_spell_check": {
        "ms_spell_check_language": "en"
      }
    }
  },
  "nbformat": 4,
  "nbformat_minor": 2
}